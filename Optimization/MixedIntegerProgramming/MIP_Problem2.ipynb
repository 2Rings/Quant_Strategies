{
  "nbformat": 4,
  "nbformat_minor": 0,
  "metadata": {
    "colab": {
      "provenance": []
    },
    "kernelspec": {
      "name": "python3",
      "display_name": "Python 3"
    },
    "language_info": {
      "name": "python"
    }
  },
  "cells": [
    {
      "cell_type": "code",
      "execution_count": 1,
      "metadata": {
        "colab": {
          "base_uri": "https://localhost:8080/"
        },
        "id": "NYUghD8GhtQm",
        "outputId": "2d03e38e-9dd0-49b8-80bf-134c0b7afd9d"
      },
      "outputs": [
        {
          "output_type": "stream",
          "name": "stdout",
          "text": [
            "Collecting pyomo\n",
            "  Downloading Pyomo-6.7.1-cp310-cp310-manylinux_2_17_x86_64.manylinux2014_x86_64.whl (12.7 MB)\n",
            "\u001b[2K     \u001b[90m━━━━━━━━━━━━━━━━━━━━━━━━━━━━━━━━━━━━━━━━\u001b[0m \u001b[32m12.7/12.7 MB\u001b[0m \u001b[31m24.0 MB/s\u001b[0m eta \u001b[36m0:00:00\u001b[0m\n",
            "\u001b[?25hCollecting ply (from pyomo)\n",
            "  Downloading ply-3.11-py2.py3-none-any.whl (49 kB)\n",
            "\u001b[2K     \u001b[90m━━━━━━━━━━━━━━━━━━━━━━━━━━━━━━━━━━━━━━━━\u001b[0m \u001b[32m49.6/49.6 kB\u001b[0m \u001b[31m4.4 MB/s\u001b[0m eta \u001b[36m0:00:00\u001b[0m\n",
            "\u001b[?25hInstalling collected packages: ply, pyomo\n",
            "Successfully installed ply-3.11 pyomo-6.7.1\n",
            "Selecting previously unselected package libsuitesparseconfig5:amd64.\n",
            "(Reading database ... 121753 files and directories currently installed.)\n",
            "Preparing to unpack .../libsuitesparseconfig5_1%3a5.10.1+dfsg-4build1_amd64.deb ...\n",
            "Unpacking libsuitesparseconfig5:amd64 (1:5.10.1+dfsg-4build1) ...\n",
            "Selecting previously unselected package libamd2:amd64.\n",
            "Preparing to unpack .../libamd2_1%3a5.10.1+dfsg-4build1_amd64.deb ...\n",
            "Unpacking libamd2:amd64 (1:5.10.1+dfsg-4build1) ...\n",
            "Selecting previously unselected package libcolamd2:amd64.\n",
            "Preparing to unpack .../libcolamd2_1%3a5.10.1+dfsg-4build1_amd64.deb ...\n",
            "Unpacking libcolamd2:amd64 (1:5.10.1+dfsg-4build1) ...\n",
            "Selecting previously unselected package libglpk40:amd64.\n",
            "Preparing to unpack .../libglpk40_5.0-1_amd64.deb ...\n",
            "Unpacking libglpk40:amd64 (5.0-1) ...\n",
            "Selecting previously unselected package glpk-utils.\n",
            "Preparing to unpack .../glpk-utils_5.0-1_amd64.deb ...\n",
            "Unpacking glpk-utils (5.0-1) ...\n",
            "Setting up libsuitesparseconfig5:amd64 (1:5.10.1+dfsg-4build1) ...\n",
            "Setting up libamd2:amd64 (1:5.10.1+dfsg-4build1) ...\n",
            "Setting up libcolamd2:amd64 (1:5.10.1+dfsg-4build1) ...\n",
            "Setting up libglpk40:amd64 (5.0-1) ...\n",
            "Setting up glpk-utils (5.0-1) ...\n",
            "Processing triggers for man-db (2.10.2-1) ...\n",
            "Processing triggers for libc-bin (2.35-0ubuntu3.4) ...\n",
            "/sbin/ldconfig.real: /usr/local/lib/libtbbbind_2_0.so.3 is not a symbolic link\n",
            "\n",
            "/sbin/ldconfig.real: /usr/local/lib/libtbb.so.12 is not a symbolic link\n",
            "\n",
            "/sbin/ldconfig.real: /usr/local/lib/libtbbmalloc_proxy.so.2 is not a symbolic link\n",
            "\n",
            "/sbin/ldconfig.real: /usr/local/lib/libtbbbind.so.3 is not a symbolic link\n",
            "\n",
            "/sbin/ldconfig.real: /usr/local/lib/libtbbbind_2_5.so.3 is not a symbolic link\n",
            "\n",
            "/sbin/ldconfig.real: /usr/local/lib/libtbbmalloc.so.2 is not a symbolic link\n",
            "\n",
            "\u001b[2K     \u001b[90m━━━━━━━━━━━━━━━━━━━━━━━━━━━━━━━━━━━━━━━━\u001b[0m \u001b[32m44.2/44.2 MB\u001b[0m \u001b[31m5.8 MB/s\u001b[0m eta \u001b[36m0:00:00\u001b[0m\n",
            "\u001b[?25h"
          ]
        }
      ],
      "source": [
        "!pip install pyomo\n",
        "!apt-get install -y -qq glpk-utils\n",
        "!pip install cplex -q"
      ]
    },
    {
      "cell_type": "code",
      "source": [
        "import pyomo.environ as pyo\n",
        "from pyomo.opt import SolverFactory"
      ],
      "metadata": {
        "id": "pQ6BUfKVhvU1"
      },
      "execution_count": 11,
      "outputs": []
    },
    {
      "cell_type": "code",
      "source": [
        "model = pyo.ConcreteModel()\n",
        "\n",
        "#Sets\n",
        "model.i = pyo.Set(initialize = ['PL1', 'PL2'])\n",
        "model.j = pyo.Set(initialize = ['Type1', 'Type2', 'Type3'])\n",
        "\n",
        "#Parameters\n",
        "model.S = pyo.Param(model.i, model.j, initialize = ({('PL1', 'Type1'): 20, ('PL1', 'Type2'): 30, ('PL1', 'Type3'): 40,\n",
        "                                                     ('PL2', 'Type1'): 50, ('PL2', 'Type2'): 35, ('PL2', 'Type3'): 45,\n",
        "                                                     }))\n",
        "\n",
        "S = model.S\n",
        "\n",
        "model.PC = pyo.Param(model.i, initialize = {'PL1': 1000, 'PL2': 2000})\n",
        "PC = model.PC\n",
        "\n",
        "model.Sa = pyo.Param(model.i, initialize = {'PL1':400, 'PL2': 600})\n",
        "\n",
        "Sa = model.Sa\n",
        "\n",
        "model.x = pyo.Var(model.i, domain = pyo.NonNegativeIntegers)\n",
        "\n",
        "x = model.x\n",
        "\n",
        "model.y = pyo.Var(model.i, domain = pyo.Binary)\n",
        "\n",
        "y = model.y\n",
        "\n",
        "def Objective_rule(model):\n",
        "  return sum(PC[i]*y[i] for i in model.i) + sum(Sa[i]*x[i] for i in model.i)\n",
        "\n",
        "model.Obj = pyo.Objective(rule = Objective_rule, sense = pyo.minimize)\n",
        "\n",
        "def Constraint1(model, j):\n",
        "  return sum(S[i, 'Type1' ]*x[i] for i in model.i ) >= 120\n",
        "\n",
        "model.Constr1 = pyo.Constraint(model.i, rule = Constraint1)\n",
        "\n",
        "def Constraint2(model, j):\n",
        "  return sum( sum(S[i, 'Type2']*x[i] for j in model.j) for i in model.i ) >= 150\n",
        "\n",
        "model.Constr2 = pyo.Constraint(model.i, rule = Constraint2)\n",
        "\n",
        "def Constraint3(model, j):\n",
        "  return sum( sum(S[i, 'Type3']*x[i] for j in model.j) for i in model.i ) >= 200\n",
        "\n",
        "model.Constr3 = pyo.Constraint(model.i, rule = Constraint3)\n",
        "\n",
        "def Constraint4(model, i):\n",
        "  return x[i] <= 30 *y[i]\n",
        "\n",
        "model.Constr4 = pyo.Constraint(model.i, rule = Constraint4)\n",
        "\n",
        "Solver = SolverFactory('cplex_direct')\n",
        "\n",
        "results = Solver.solve(model, tee = True)\n",
        "\n",
        "print(results)\n",
        "\n",
        "print(\"Objective Function\", model.Obj())\n",
        "\n",
        "for i in model.i:\n",
        "  print(\"Number of worker Employed in \", i, \"is = \", x[i]())"
      ],
      "metadata": {
        "colab": {
          "base_uri": "https://localhost:8080/"
        },
        "id": "rU1FVw6HVaSC",
        "outputId": "eecbfbb6-25e8-4d8a-d568-74a03ba023ad"
      },
      "execution_count": 15,
      "outputs": [
        {
          "output_type": "stream",
          "name": "stdout",
          "text": [
            "Version identifier: 22.1.1.0 | 2023-02-11 | 22d6266e5\n",
            "CPXPARAM_Read_DataCheck                          1\n",
            "Found incumbent of value 3400.000000 after 0.00 sec. (0.00 ticks)\n",
            "Tried aggregator 1 time.\n",
            "MIP Presolve eliminated 4 rows and 0 columns.\n",
            "MIP Presolve modified 17 coefficients.\n",
            "Reduced MIP has 4 rows, 4 columns, and 8 nonzeros.\n",
            "Reduced MIP has 2 binaries, 2 generals, 0 SOSs, and 0 indicators.\n",
            "Presolve time = 0.00 sec. (0.01 ticks)\n",
            "Probing time = 0.00 sec. (0.00 ticks)\n",
            "Tried aggregator 1 time.\n",
            "MIP Presolve modified 2 coefficients.\n",
            "Reduced MIP has 4 rows, 4 columns, and 8 nonzeros.\n",
            "Reduced MIP has 2 binaries, 2 generals, 0 SOSs, and 0 indicators.\n",
            "Presolve time = 0.00 sec. (0.00 ticks)\n",
            "Probing time = 0.00 sec. (0.00 ticks)\n",
            "Clique table members: 1.\n",
            "MIP emphasis: balance optimality and feasibility.\n",
            "MIP search method: dynamic search.\n",
            "Parallel mode: deterministic, using up to 2 threads.\n",
            "Root relaxation solution time = 0.00 sec. (0.00 ticks)\n",
            "\n",
            "        Nodes                                         Cuts/\n",
            "   Node  Left     Objective  IInf  Best Integer    Best Bound    ItCnt     Gap\n",
            "\n",
            "*     0+    0                         3400.0000        0.0000           100.00%\n",
            "      0     0     3040.0000     2     3400.0000     3040.0000        1   10.59%\n",
            "      0     0        cutoff           3400.0000                      2    0.00%\n",
            "Elapsed time = 0.02 sec. (0.04 ticks, tree = 0.01 MB, solutions = 1)\n",
            "\n",
            "Root node processing (before b&c):\n",
            "  Real time             =    0.02 sec. (0.04 ticks)\n",
            "Parallel b&c, 2 threads:\n",
            "  Real time             =    0.00 sec. (0.00 ticks)\n",
            "  Sync time (average)   =    0.00 sec.\n",
            "  Wait time (average)   =    0.00 sec.\n",
            "                          ------------\n",
            "Total (root+branch&cut) =    0.02 sec. (0.04 ticks)\n",
            "\n",
            "Problem: \n",
            "- Name: \n",
            "  Lower bound: 3400.0\n",
            "  Upper bound: 3400.0\n",
            "  Number of objectives: 1\n",
            "  Number of constraints: 8\n",
            "  Number of variables: 4\n",
            "  Number of binary variables: 2\n",
            "  Number of integer variables: 2\n",
            "  Number of continuous variables: 0\n",
            "  Number of nonzeros: None\n",
            "  Sense: 1\n",
            "Solver: \n",
            "- Name: CPLEX 22.1.1.0\n",
            "  Status: ok\n",
            "  Wallclock time: 0.017961978912353516\n",
            "  Termination condition: optimal\n",
            "Solution: \n",
            "- number of solutions: 0\n",
            "  number of solutions displayed: 0\n",
            "\n",
            "Objective Function 3400.0\n",
            "Number of worker Employed in  PL1 is =  6.0\n",
            "Number of worker Employed in  PL2 is =  0.0\n"
          ]
        }
      ]
    },
    {
      "cell_type": "code",
      "source": [],
      "metadata": {
        "id": "wx6G1PbrcPWT"
      },
      "execution_count": null,
      "outputs": []
    }
  ]
}
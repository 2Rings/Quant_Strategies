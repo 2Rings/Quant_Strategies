{
  "nbformat": 4,
  "nbformat_minor": 0,
  "metadata": {
    "colab": {
      "provenance": []
    },
    "kernelspec": {
      "name": "python3",
      "display_name": "Python 3"
    },
    "language_info": {
      "name": "python"
    }
  },
  "cells": [
    {
      "cell_type": "code",
      "execution_count": null,
      "metadata": {
        "colab": {
          "base_uri": "https://localhost:8080/"
        },
        "id": "giHVGSOLrocc",
        "outputId": "b1bdcfb8-f912-4587-8825-f4e4bd69518e"
      },
      "outputs": [
        {
          "output_type": "stream",
          "name": "stdout",
          "text": [
            "Requirement already satisfied: pyomo in /usr/local/lib/python3.10/dist-packages (6.7.1)\n",
            "Requirement already satisfied: ply in /usr/local/lib/python3.10/dist-packages (from pyomo) (3.11)\n",
            "\u001b[2K     \u001b[90m━━━━━━━━━━━━━━━━━━━━━━━━━━━━━━━━━━━━━━━━\u001b[0m \u001b[32m44.2/44.2 MB\u001b[0m \u001b[31m11.3 MB/s\u001b[0m eta \u001b[36m0:00:00\u001b[0m\n",
            "\u001b[?25h"
          ]
        }
      ],
      "source": [
        "!pip install pyomo\n",
        "!apt-get install -y -qq glpk-utils\n",
        "!pip install cplex -q"
      ]
    },
    {
      "cell_type": "code",
      "source": [
        "import pyomo.environ as pyo\n",
        "from pyomo.opt import SolverFactory"
      ],
      "metadata": {
        "id": "vtDQKePirtwo"
      },
      "execution_count": null,
      "outputs": []
    },
    {
      "cell_type": "code",
      "source": [
        "model = pyo.ConcreteModel()\n",
        "\n",
        "#Sets\n",
        "model.i = pyo.Set(initialize = ['Shirts', 'Shorts', 'Pants'])\n",
        "\n",
        "#Parameters\n",
        "\n",
        "model.P = pyo.Param(model.i, initialize = {\"Shirts\": 12, \"Shorts\": 8, \"Pants\": 15})\n",
        "P = model.P\n",
        "model.C = pyo.Param(model.i, initialize = {\"Shirts\": 6, \"Shorts\": 4, \"Pants\": 8})\n",
        "C = model.C\n",
        "model.F = pyo.Param(model.i, initialize = {\"Shirts\": 200, \"Shorts\": 150, \"Pants\": 100})\n",
        "F = model.F\n",
        "\n",
        "model.L = pyo.Param(model.i, initialize = {\"Shirts\":3, \"Shorts\": 2, \"Pants\":6})\n",
        "L = model.L\n",
        "\n",
        "model.C = pyo.Param(model.i, initialize = {\"Shirts\": 4, \"Shorts\": 3, \"Pants\": 4})\n",
        "C = model.C\n",
        "\n",
        "\n",
        "model.M = pyo.Param(model.i, initialize = {\"Shirts\": 40, \"Shorts\": 53, \"Pants\": 25})\n",
        "M = model.M\n",
        "\n",
        "# Decision Variables\n",
        "\n",
        "model.x = pyo.Var(model.i, domain = pyo.Integers)\n",
        "x = model.x\n",
        "\n",
        "model.y = pyo.Var(model.i, domain = pyo.Binary)\n",
        "y = model.y\n",
        "\n",
        "#Objective\n",
        "def Objective_rule(model, i):\n",
        "  return sum(P[i]*x[i] for i in model.i) - sum(C[i]*x[i] for i in model.i) - sum(F[i]*y[i] for i in model.i)\n",
        "\n",
        "model.Obj = pyo.Objective(rule = Objective_rule, sense = pyo.maximize)\n",
        "\n",
        "#Constraints\n",
        "\n",
        "def Constraint1(model, i):\n",
        "  return sum(L[i]*x[i] for i in model.i) <= 150\n",
        "model.Const1 = pyo.Constraint(model.i, rule = Constraint1)\n",
        "\n",
        "def Constraint2(model, i):\n",
        "  return sum(C[i]*x[i] for i in model.i) <= 160\n",
        "model.Const2 = pyo.Constraint(model.i, rule = Constraint2)\n",
        "\n",
        "def Constraint3(model, i):\n",
        "  return x[i] <= M[i]*y[i]\n",
        "\n",
        "model.COnst3 = pyo.Constraint(model.i, rule = Constraint3)\n",
        "\n",
        "Solver = SolverFactory('cplex_direct')\n",
        "\n",
        "results = Solver.solve(model)\n",
        "\n",
        "print(results)\n",
        "\n",
        "print(\"Objective Function\", model.Obj())\n",
        "\n",
        "for i in model.i:\n",
        "  print(\"Number of\", i, \"Produced Each Week = \", x[i]())"
      ],
      "metadata": {
        "colab": {
          "base_uri": "https://localhost:8080/"
        },
        "id": "LnDNcyi2yCEl",
        "outputId": "72328bdb-abf3-41a4-825d-6a573886232d"
      },
      "execution_count": null,
      "outputs": [
        {
          "output_type": "stream",
          "name": "stderr",
          "text": [
            "WARNING:pyomo.core:Implicitly replacing the Component attribute C (type=<class 'pyomo.core.base.param.IndexedParam'>) on block unknown with a new Component (type=<class 'pyomo.core.base.param.IndexedParam'>).\n",
            "This is usually indicative of a modelling error.\n",
            "To avoid this warning, use block.del_component() and block.add_component().\n"
          ]
        },
        {
          "output_type": "stream",
          "name": "stdout",
          "text": [
            "\n",
            "Problem: \n",
            "- Name: \n",
            "  Lower bound: 175.0\n",
            "  Upper bound: 175.0\n",
            "  Number of objectives: 1\n",
            "  Number of constraints: 9\n",
            "  Number of variables: 6\n",
            "  Number of binary variables: 3\n",
            "  Number of integer variables: 3\n",
            "  Number of continuous variables: 0\n",
            "  Number of nonzeros: None\n",
            "  Sense: -1\n",
            "Solver: \n",
            "- Name: CPLEX 22.1.1.0\n",
            "  Status: ok\n",
            "  Wallclock time: 0.002810955047607422\n",
            "  Termination condition: optimal\n",
            "Solution: \n",
            "- number of solutions: 0\n",
            "  number of solutions displayed: 0\n",
            "\n",
            "Objective Function 175.0\n",
            "Number of Shirts Produced Each Week =  0.0\n",
            "Number of Shorts Produced Each Week =  0.0\n",
            "Number of Pants Produced Each Week =  25.0\n"
          ]
        }
      ]
    },
    {
      "cell_type": "code",
      "source": [],
      "metadata": {
        "id": "HC0k7rY44WD4"
      },
      "execution_count": null,
      "outputs": []
    }
  ]
}
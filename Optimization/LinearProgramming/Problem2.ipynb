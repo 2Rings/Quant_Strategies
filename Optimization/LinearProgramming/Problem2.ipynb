{
  "nbformat": 4,
  "nbformat_minor": 0,
  "metadata": {
    "colab": {
      "provenance": []
    },
    "kernelspec": {
      "name": "python3",
      "display_name": "Python 3"
    },
    "language_info": {
      "name": "python"
    }
  },
  "cells": [
    {
      "cell_type": "code",
      "execution_count": 1,
      "metadata": {
        "colab": {
          "base_uri": "https://localhost:8080/"
        },
        "id": "I-jQfTyZ47G-",
        "outputId": "2522bdf1-54ff-4737-be6d-9fba5f757876"
      },
      "outputs": [
        {
          "output_type": "stream",
          "name": "stdout",
          "text": [
            "Collecting pyomo\n",
            "  Downloading Pyomo-6.7.1-cp310-cp310-manylinux_2_17_x86_64.manylinux2014_x86_64.whl (12.7 MB)\n",
            "\u001b[2K     \u001b[90m━━━━━━━━━━━━━━━━━━━━━━━━━━━━━━━━━━━━━━━━\u001b[0m \u001b[32m12.7/12.7 MB\u001b[0m \u001b[31m30.5 MB/s\u001b[0m eta \u001b[36m0:00:00\u001b[0m\n",
            "\u001b[?25hCollecting ply (from pyomo)\n",
            "  Downloading ply-3.11-py2.py3-none-any.whl (49 kB)\n",
            "\u001b[2K     \u001b[90m━━━━━━━━━━━━━━━━━━━━━━━━━━━━━━━━━━━━━━━━\u001b[0m \u001b[32m49.6/49.6 kB\u001b[0m \u001b[31m1.7 MB/s\u001b[0m eta \u001b[36m0:00:00\u001b[0m\n",
            "\u001b[?25hInstalling collected packages: ply, pyomo\n",
            "Successfully installed ply-3.11 pyomo-6.7.1\n",
            "Selecting previously unselected package libsuitesparseconfig5:amd64.\n",
            "(Reading database ... 121753 files and directories currently installed.)\n",
            "Preparing to unpack .../libsuitesparseconfig5_1%3a5.10.1+dfsg-4build1_amd64.deb ...\n",
            "Unpacking libsuitesparseconfig5:amd64 (1:5.10.1+dfsg-4build1) ...\n",
            "Selecting previously unselected package libamd2:amd64.\n",
            "Preparing to unpack .../libamd2_1%3a5.10.1+dfsg-4build1_amd64.deb ...\n",
            "Unpacking libamd2:amd64 (1:5.10.1+dfsg-4build1) ...\n",
            "Selecting previously unselected package libcolamd2:amd64.\n",
            "Preparing to unpack .../libcolamd2_1%3a5.10.1+dfsg-4build1_amd64.deb ...\n",
            "Unpacking libcolamd2:amd64 (1:5.10.1+dfsg-4build1) ...\n",
            "Selecting previously unselected package libglpk40:amd64.\n",
            "Preparing to unpack .../libglpk40_5.0-1_amd64.deb ...\n",
            "Unpacking libglpk40:amd64 (5.0-1) ...\n",
            "Selecting previously unselected package glpk-utils.\n",
            "Preparing to unpack .../glpk-utils_5.0-1_amd64.deb ...\n",
            "Unpacking glpk-utils (5.0-1) ...\n",
            "Setting up libsuitesparseconfig5:amd64 (1:5.10.1+dfsg-4build1) ...\n",
            "Setting up libamd2:amd64 (1:5.10.1+dfsg-4build1) ...\n",
            "Setting up libcolamd2:amd64 (1:5.10.1+dfsg-4build1) ...\n",
            "Setting up libglpk40:amd64 (5.0-1) ...\n",
            "Setting up glpk-utils (5.0-1) ...\n",
            "Processing triggers for man-db (2.10.2-1) ...\n",
            "Processing triggers for libc-bin (2.35-0ubuntu3.4) ...\n",
            "/sbin/ldconfig.real: /usr/local/lib/libtbbmalloc.so.2 is not a symbolic link\n",
            "\n",
            "/sbin/ldconfig.real: /usr/local/lib/libtbbbind.so.3 is not a symbolic link\n",
            "\n",
            "/sbin/ldconfig.real: /usr/local/lib/libtbbbind_2_5.so.3 is not a symbolic link\n",
            "\n",
            "/sbin/ldconfig.real: /usr/local/lib/libtbb.so.12 is not a symbolic link\n",
            "\n",
            "/sbin/ldconfig.real: /usr/local/lib/libtbbmalloc_proxy.so.2 is not a symbolic link\n",
            "\n",
            "/sbin/ldconfig.real: /usr/local/lib/libtbbbind_2_0.so.3 is not a symbolic link\n",
            "\n"
          ]
        }
      ],
      "source": [
        "!pip install pyomo\n",
        "!apt-get install -y -qq glpk-utils"
      ]
    },
    {
      "cell_type": "code",
      "source": [
        " import pyomo.environ as pyo\n",
        " from pyomo.opt import SolverFactory"
      ],
      "metadata": {
        "id": "5J1J3y1x5KZ0"
      },
      "execution_count": 3,
      "outputs": []
    },
    {
      "cell_type": "code",
      "source": [
        "model = pyo.ConcreteModel()\n",
        "\n",
        "# Sets\n",
        "model.i = pyo.Set(initialize = ['Desk', 'Table', 'Chair'])\n",
        "\n",
        "# Parameters\n",
        "model.L = pyo.Param(model.i, initialize = {'Desk': 8, \"Table\": 6, \"Chair\": 1})\n",
        "L = model.L\n",
        "\n",
        "model.F = pyo.Param(model.i, initialize = {'Desk': 4, \"Table\": 2, \"Chair\": 1.5})\n",
        "F = model.F\n",
        "\n",
        "model.C = pyo.Param(model.i, initialize = {'Desk': 2, \"Table\": 1.5, \"Chair\": 0.5})\n",
        "C = model.C\n",
        "\n",
        "model.P = pyo.Param(model.i, initialize = {'Desk': 60, \"Table\": 30, \"Chair\": 20})\n",
        "P = model.P\n",
        "\n",
        "# Decision Variable\n",
        "model.x = pyo.Var(model.i, within = pyo.NonNegativeReals)\n",
        "x = model.x\n",
        "# Objective Function\n",
        "def Objective_rule(model):\n",
        "  return sum(model.P[i]*model.x[i] for i in model.i )\n",
        "\n",
        "\n",
        "model.Obj = pyo.Objective(rule = Objective_rule, sense = pyo.maximize)\n",
        "\n",
        "# Constraints\n",
        "def Constraint1(model, i):\n",
        "  return sum(L[i]*x[i] for i in model.i) <= 48\n",
        "\n",
        "model.Const1 = pyo.Constraint(model.i, rule = Constraint1)\n",
        "\n",
        "# Constraints\n",
        "def Constraint2(model, i):\n",
        "  return sum(F[i]*x[i] for i in model.i) <= 20\n",
        "\n",
        "model.Const2 = pyo.Constraint(model.i, rule = Constraint2)\n",
        "\n",
        "# Constraints\n",
        "def Constraint3(model, i):\n",
        "  return sum(C[i]*x[i] for i in model.i) <= 8\n",
        "\n",
        "model.Const3 = pyo.Constraint(model.i, rule = Constraint3)\n",
        "\n",
        "\n",
        "# Constraints\n",
        "def Constraint4(model, i):\n",
        "  return x['Table'] <= 5\n",
        "\n",
        "model.Const4 = pyo.Constraint(model.i, rule = Constraint4)\n",
        "\n",
        "Solver = SolverFactory('glpk')\n",
        "results = Solver.solve(model)\n",
        "\n",
        "print(results)\n",
        "\n",
        "print(\"Objective Function\", model.Obj())\n",
        "\n",
        "for i in model.i:\n",
        "  print(\"Number of \", 'produced = ', x[i]())"
      ],
      "metadata": {
        "colab": {
          "base_uri": "https://localhost:8080/"
        },
        "id": "3JKQ5YV59OIa",
        "outputId": "19195154-b2b6-4923-a230-686f677cd078"
      },
      "execution_count": 7,
      "outputs": [
        {
          "output_type": "stream",
          "name": "stdout",
          "text": [
            "\n",
            "Problem: \n",
            "- Name: unknown\n",
            "  Lower bound: 280.0\n",
            "  Upper bound: 280.0\n",
            "  Number of objectives: 1\n",
            "  Number of constraints: 12\n",
            "  Number of variables: 3\n",
            "  Number of nonzeros: 30\n",
            "  Sense: maximize\n",
            "Solver: \n",
            "- Status: ok\n",
            "  Termination condition: optimal\n",
            "  Statistics: \n",
            "    Branch and bound: \n",
            "      Number of bounded subproblems: 0\n",
            "      Number of created subproblems: 0\n",
            "  Error rc: 0\n",
            "  Time: 0.003758668899536133\n",
            "Solution: \n",
            "- number of solutions: 0\n",
            "  number of solutions displayed: 0\n",
            "\n",
            "Objective Function 280.0\n",
            "Number of  produced =  2.0\n",
            "Number of  produced =  0.0\n",
            "Number of  produced =  8.0\n"
          ]
        }
      ]
    },
    {
      "cell_type": "code",
      "source": [],
      "metadata": {
        "id": "CjQB9c5wBxY9"
      },
      "execution_count": null,
      "outputs": []
    }
  ]
}
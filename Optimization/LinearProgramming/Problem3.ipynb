{
  "nbformat": 4,
  "nbformat_minor": 0,
  "metadata": {
    "colab": {
      "provenance": []
    },
    "kernelspec": {
      "name": "python3",
      "display_name": "Python 3"
    },
    "language_info": {
      "name": "python"
    }
  },
  "cells": [
    {
      "cell_type": "code",
      "execution_count": 1,
      "metadata": {
        "colab": {
          "base_uri": "https://localhost:8080/"
        },
        "id": "LchLw7Q2ecoi",
        "outputId": "211c77ea-4408-48e9-9974-ea2f7d73f023"
      },
      "outputs": [
        {
          "output_type": "stream",
          "name": "stdout",
          "text": [
            "Collecting pyomo\n",
            "  Downloading Pyomo-6.7.1-cp310-cp310-manylinux_2_17_x86_64.manylinux2014_x86_64.whl (12.7 MB)\n",
            "\u001b[2K     \u001b[90m━━━━━━━━━━━━━━━━━━━━━━━━━━━━━━━━━━━━━━━━\u001b[0m \u001b[32m12.7/12.7 MB\u001b[0m \u001b[31m22.4 MB/s\u001b[0m eta \u001b[36m0:00:00\u001b[0m\n",
            "\u001b[?25hCollecting ply (from pyomo)\n",
            "  Downloading ply-3.11-py2.py3-none-any.whl (49 kB)\n",
            "\u001b[2K     \u001b[90m━━━━━━━━━━━━━━━━━━━━━━━━━━━━━━━━━━━━━━━━\u001b[0m \u001b[32m49.6/49.6 kB\u001b[0m \u001b[31m2.4 MB/s\u001b[0m eta \u001b[36m0:00:00\u001b[0m\n",
            "\u001b[?25hInstalling collected packages: ply, pyomo\n",
            "Successfully installed ply-3.11 pyomo-6.7.1\n",
            "Selecting previously unselected package libsuitesparseconfig5:amd64.\n",
            "(Reading database ... 121753 files and directories currently installed.)\n",
            "Preparing to unpack .../libsuitesparseconfig5_1%3a5.10.1+dfsg-4build1_amd64.deb ...\n",
            "Unpacking libsuitesparseconfig5:amd64 (1:5.10.1+dfsg-4build1) ...\n",
            "Selecting previously unselected package libamd2:amd64.\n",
            "Preparing to unpack .../libamd2_1%3a5.10.1+dfsg-4build1_amd64.deb ...\n",
            "Unpacking libamd2:amd64 (1:5.10.1+dfsg-4build1) ...\n",
            "Selecting previously unselected package libcolamd2:amd64.\n",
            "Preparing to unpack .../libcolamd2_1%3a5.10.1+dfsg-4build1_amd64.deb ...\n",
            "Unpacking libcolamd2:amd64 (1:5.10.1+dfsg-4build1) ...\n",
            "Selecting previously unselected package libglpk40:amd64.\n",
            "Preparing to unpack .../libglpk40_5.0-1_amd64.deb ...\n",
            "Unpacking libglpk40:amd64 (5.0-1) ...\n",
            "Selecting previously unselected package glpk-utils.\n",
            "Preparing to unpack .../glpk-utils_5.0-1_amd64.deb ...\n",
            "Unpacking glpk-utils (5.0-1) ...\n",
            "Setting up libsuitesparseconfig5:amd64 (1:5.10.1+dfsg-4build1) ...\n",
            "Setting up libamd2:amd64 (1:5.10.1+dfsg-4build1) ...\n",
            "Setting up libcolamd2:amd64 (1:5.10.1+dfsg-4build1) ...\n",
            "Setting up libglpk40:amd64 (5.0-1) ...\n",
            "Setting up glpk-utils (5.0-1) ...\n",
            "Processing triggers for man-db (2.10.2-1) ...\n",
            "Processing triggers for libc-bin (2.35-0ubuntu3.4) ...\n",
            "/sbin/ldconfig.real: /usr/local/lib/libtbbmalloc.so.2 is not a symbolic link\n",
            "\n",
            "/sbin/ldconfig.real: /usr/local/lib/libtbbbind.so.3 is not a symbolic link\n",
            "\n",
            "/sbin/ldconfig.real: /usr/local/lib/libtbbbind_2_5.so.3 is not a symbolic link\n",
            "\n",
            "/sbin/ldconfig.real: /usr/local/lib/libtbb.so.12 is not a symbolic link\n",
            "\n",
            "/sbin/ldconfig.real: /usr/local/lib/libtbbmalloc_proxy.so.2 is not a symbolic link\n",
            "\n",
            "/sbin/ldconfig.real: /usr/local/lib/libtbbbind_2_0.so.3 is not a symbolic link\n",
            "\n"
          ]
        }
      ],
      "source": [
        "!pip install pyomo\n",
        "!apt-get install -y -qq glpk-utils"
      ]
    },
    {
      "cell_type": "code",
      "source": [
        "import pyomo.environ as pyo\n",
        "from pyomo.opt import SolverFactory"
      ],
      "metadata": {
        "id": "PWbr1g3NehVC"
      },
      "execution_count": 2,
      "outputs": []
    },
    {
      "cell_type": "code",
      "source": [
        "model = pyo.ConcreteModel()\n",
        "\n",
        "model.i = pyo.Set(initialize = ['Plant11', 'Plant12', 'Plant13', 'Plant14',\n",
        "                                'Plant21', 'Plant22', 'Plant23', 'Plant24',\n",
        "                                'Plant31', 'Plant32', 'Plant33', 'Plant34',])\n",
        "\n",
        "# Sets\n",
        "model.i = pyo.RangeSet(1, 3)\n",
        "model.j = pyo.RangeSet(1, 4)\n",
        "\n",
        "#Parameters\n",
        "\n",
        "model.S = pyo.Param(model.i, initialize = {1: 35, 2:50, 3: 40})\n",
        "S = model.S\n",
        "\n",
        "model.D = pyo.Param(model.j, initialize = {1: 45, 2: 20, 3:30, 4: 30})\n",
        "D = model.D\n",
        "\n",
        "model.P = pyo.Param(model.i, model.j, initialize = {(1, 1): 8, (1,2): 6, (1,3): 10, (1,4): 9,\n",
        "                                                    (2, 1): 9, (2,2): 12, (2,3): 13, (2,4): 7,\n",
        "                                                    (3, 1): 14, (3,2): 9, (3,3): 16, (3,4): 5,\n",
        "                                                    })\n",
        "\n",
        "P = model.P\n",
        "\n",
        "model.x = pyo.Var(model.i, model.j, within = pyo.NonNegativeReals)\n",
        "x = model.x\n",
        "\n",
        "def Objective_rule(model):\n",
        "  return sum(sum(model.P[i, j]*model.x[i, j] for i in model.i) for j in model.j)\n",
        "\n",
        "model.Obj = pyo.Objective(rule = Objective_rule, sense = pyo.minimize)\n",
        "\n",
        "def ConstraintS1(model, i):\n",
        "  return sum(x[1, j] for j in model.j) <= S[1]\n",
        "\n",
        "model.Const1 = pyo.Constraint(model.j, rule = ConstraintS1)\n",
        "\n",
        "def ConstraintS2(model, i):\n",
        "  return sum(x[2, j] for j in model.j) <= S[2]\n",
        "\n",
        "model.ConstS4 = pyo.Constraint(model.j, rule = ConstraintS2)\n",
        "\n",
        "def ConstraintS3(model, i):\n",
        "  return sum(x[3, j] for j in model.j) <= S[3]\n",
        "\n",
        "model.ConstS3 = pyo.Constraint(model.j, rule = ConstraintS3)\n",
        "\n",
        "def ConstraintD1(model, j):\n",
        "  return sum(x[i, 1] for i in model.i) >= D[1]\n",
        "\n",
        "model.ConstD1 = pyo.Constraint(model.i, rule = ConstraintD1)\n",
        "\n",
        "def ConstraintD2(model, j):\n",
        "  return sum(x[i, 2] for i in model.i) >= D[2]\n",
        "\n",
        "model.ConstD2 = pyo.Constraint(model.i, rule = ConstraintD2)\n",
        "\n",
        "def ConstraintD3(model, j):\n",
        "  return sum(x[i, 3] for i in model.i) >= D[3]\n",
        "\n",
        "model.ConstD3 = pyo.Constraint(model.i, rule = ConstraintD3)\n",
        "\n",
        "def ConstraintD4(model, j):\n",
        "  return sum(x[i, 4] for i in model.i) >= D[4]\n",
        "\n",
        "model.ConstD4 = pyo.Constraint(model.i, rule = ConstraintD4)\n",
        "\n",
        "\n",
        "Solver = SolverFactory('glpk')\n",
        "\n",
        "results = Solver.solve(model)\n",
        "\n",
        "print(results)\n",
        "\n",
        "print(\"Objective Function\", model.Obj())\n",
        "\n",
        "for i in model.i:\n",
        "  for j in model.j:\n",
        "    print('Electricity send from Plant', i, 'to city', j, '=', x[i, j]())"
      ],
      "metadata": {
        "colab": {
          "base_uri": "https://localhost:8080/"
        },
        "id": "VBs9WsYGf3Wp",
        "outputId": "e6f947dd-9b23-4e4d-c8a6-a853360f1850"
      },
      "execution_count": 5,
      "outputs": [
        {
          "output_type": "stream",
          "name": "stderr",
          "text": [
            "WARNING:pyomo.core:Implicitly replacing the Component attribute i (type=<class 'pyomo.core.base.set.OrderedScalarSet'>) on block unknown with a new Component (type=<class 'pyomo.core.base.set.FiniteScalarRangeSet'>).\n",
            "This is usually indicative of a modelling error.\n",
            "To avoid this warning, use block.del_component() and block.add_component().\n"
          ]
        },
        {
          "output_type": "stream",
          "name": "stdout",
          "text": [
            "\n",
            "Problem: \n",
            "- Name: unknown\n",
            "  Lower bound: 1020.0\n",
            "  Upper bound: 1020.0\n",
            "  Number of objectives: 1\n",
            "  Number of constraints: 24\n",
            "  Number of variables: 12\n",
            "  Number of nonzeros: 84\n",
            "  Sense: minimize\n",
            "Solver: \n",
            "- Status: ok\n",
            "  Termination condition: optimal\n",
            "  Statistics: \n",
            "    Branch and bound: \n",
            "      Number of bounded subproblems: 0\n",
            "      Number of created subproblems: 0\n",
            "  Error rc: 0\n",
            "  Time: 0.019538164138793945\n",
            "Solution: \n",
            "- number of solutions: 0\n",
            "  number of solutions displayed: 0\n",
            "\n",
            "Objective Function 1020.0\n",
            "Electricity send from Plant 1 to city 1 = 0.0\n",
            "Electricity send from Plant 1 to city 2 = 10.0\n",
            "Electricity send from Plant 1 to city 3 = 25.0\n",
            "Electricity send from Plant 1 to city 4 = 0.0\n",
            "Electricity send from Plant 2 to city 1 = 45.0\n",
            "Electricity send from Plant 2 to city 2 = 0.0\n",
            "Electricity send from Plant 2 to city 3 = 5.0\n",
            "Electricity send from Plant 2 to city 4 = 0.0\n",
            "Electricity send from Plant 3 to city 1 = 0.0\n",
            "Electricity send from Plant 3 to city 2 = 10.0\n",
            "Electricity send from Plant 3 to city 3 = 0.0\n",
            "Electricity send from Plant 3 to city 4 = 30.0\n"
          ]
        }
      ]
    },
    {
      "cell_type": "code",
      "source": [],
      "metadata": {
        "id": "DwAz5DxSoULH"
      },
      "execution_count": null,
      "outputs": []
    }
  ]
}
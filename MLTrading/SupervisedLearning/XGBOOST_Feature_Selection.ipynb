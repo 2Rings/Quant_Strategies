{
 "cells": [
  {
   "cell_type": "code",
   "execution_count": 1,
   "metadata": {},
   "outputs": [],
   "source": [
    "import warnings\n",
    "warnings.simplefilter(action='ignore', category=FutureWarning)\n",
    "warnings.simplefilter(action='ignore', category=RuntimeWarning)\n",
    "\n",
    "# Data Management\n",
    "import pandas as pd\n",
    "import numpy as np\n",
    "from sklearn.model_selection import train_test_split\n",
    "\n",
    "# Machine Learning\n",
    "# https://xgboost.readthedocs.io/en/stable/parameter.html\n",
    "from xgboost import XGBClassifier\n",
    "#RandomizedSerchCV for finding the best parameters\n",
    "from sklearn.model_selection import RandomizedSearchCV, cross_val_score, RepeatedStratifiedKFold\n",
    "\n",
    "# Evaluation\n",
    "from sklearn.metrics import precision_score\n",
    "\n",
    "#Reporting\n",
    "import matplotlib.pyplot as plt\n"
   ]
  },
  {
   "attachments": {},
   "cell_type": "markdown",
   "metadata": {},
   "source": [
    "### Import preprocessing Data"
   ]
  },
  {
   "cell_type": "code",
   "execution_count": 2,
   "metadata": {},
   "outputs": [
    {
     "data": {
      "text/html": [
       "<div>\n",
       "<style scoped>\n",
       "    .dataframe tbody tr th:only-of-type {\n",
       "        vertical-align: middle;\n",
       "    }\n",
       "\n",
       "    .dataframe tbody tr th {\n",
       "        vertical-align: top;\n",
       "    }\n",
       "\n",
       "    .dataframe thead th {\n",
       "        text-align: right;\n",
       "    }\n",
       "</style>\n",
       "<table border=\"1\" class=\"dataframe\">\n",
       "  <thead>\n",
       "    <tr style=\"text-align: right;\">\n",
       "      <th></th>\n",
       "      <th>Open</th>\n",
       "      <th>High</th>\n",
       "      <th>Low</th>\n",
       "      <th>Close</th>\n",
       "      <th>Volume</th>\n",
       "      <th>Returns</th>\n",
       "      <th>Range</th>\n",
       "      <th>Bench_C_Rets</th>\n",
       "      <th>RSI</th>\n",
       "      <th>RSI_Ret</th>\n",
       "      <th>...</th>\n",
       "      <th>MA_21</th>\n",
       "      <th>DOW</th>\n",
       "      <th>Roll_Rets</th>\n",
       "      <th>Avg_Range</th>\n",
       "      <th>Returns_T1</th>\n",
       "      <th>Range_T1</th>\n",
       "      <th>RSI_Ret_T1</th>\n",
       "      <th>Returns_T2</th>\n",
       "      <th>Range_T2</th>\n",
       "      <th>RSI_Ret_T2</th>\n",
       "    </tr>\n",
       "    <tr>\n",
       "      <th>Date</th>\n",
       "      <th></th>\n",
       "      <th></th>\n",
       "      <th></th>\n",
       "      <th></th>\n",
       "      <th></th>\n",
       "      <th></th>\n",
       "      <th></th>\n",
       "      <th></th>\n",
       "      <th></th>\n",
       "      <th></th>\n",
       "      <th></th>\n",
       "      <th></th>\n",
       "      <th></th>\n",
       "      <th></th>\n",
       "      <th></th>\n",
       "      <th></th>\n",
       "      <th></th>\n",
       "      <th></th>\n",
       "      <th></th>\n",
       "      <th></th>\n",
       "      <th></th>\n",
       "    </tr>\n",
       "  </thead>\n",
       "  <tbody>\n",
       "    <tr>\n",
       "      <th>2017-01-31</th>\n",
       "      <td>0.000878</td>\n",
       "      <td>0.053054</td>\n",
       "      <td>0.001615</td>\n",
       "      <td>970.403015</td>\n",
       "      <td>1.103895</td>\n",
       "      <td>0.054348</td>\n",
       "      <td>0.055442</td>\n",
       "      <td>-0.029463</td>\n",
       "      <td>60.205366</td>\n",
       "      <td>1.192634</td>\n",
       "      <td>...</td>\n",
       "      <td>885.613522</td>\n",
       "      <td>1</td>\n",
       "      <td>0.011408</td>\n",
       "      <td>0.057910</td>\n",
       "      <td>0.000964</td>\n",
       "      <td>0.003887</td>\n",
       "      <td>1.003974</td>\n",
       "      <td>-0.002272</td>\n",
       "      <td>0.004646</td>\n",
       "      <td>0.991144</td>\n",
       "    </tr>\n",
       "    <tr>\n",
       "      <th>2017-02-01</th>\n",
       "      <td>0.054272</td>\n",
       "      <td>0.017587</td>\n",
       "      <td>0.054056</td>\n",
       "      <td>989.023010</td>\n",
       "      <td>-0.087932</td>\n",
       "      <td>0.019188</td>\n",
       "      <td>0.018926</td>\n",
       "      <td>-0.009863</td>\n",
       "      <td>63.109498</td>\n",
       "      <td>1.048237</td>\n",
       "      <td>...</td>\n",
       "      <td>895.673808</td>\n",
       "      <td>2</td>\n",
       "      <td>0.007132</td>\n",
       "      <td>0.057381</td>\n",
       "      <td>0.054348</td>\n",
       "      <td>0.055442</td>\n",
       "      <td>1.192634</td>\n",
       "      <td>0.000964</td>\n",
       "      <td>0.003887</td>\n",
       "      <td>1.003974</td>\n",
       "    </tr>\n",
       "    <tr>\n",
       "      <th>2017-02-02</th>\n",
       "      <td>0.019630</td>\n",
       "      <td>0.024675</td>\n",
       "      <td>0.012855</td>\n",
       "      <td>1011.799988</td>\n",
       "      <td>-0.028572</td>\n",
       "      <td>0.023030</td>\n",
       "      <td>0.030816</td>\n",
       "      <td>0.012600</td>\n",
       "      <td>66.345006</td>\n",
       "      <td>1.051268</td>\n",
       "      <td>...</td>\n",
       "      <td>905.529332</td>\n",
       "      <td>3</td>\n",
       "      <td>0.008542</td>\n",
       "      <td>0.057675</td>\n",
       "      <td>0.019188</td>\n",
       "      <td>0.018926</td>\n",
       "      <td>1.048237</td>\n",
       "      <td>0.054348</td>\n",
       "      <td>0.055442</td>\n",
       "      <td>1.192634</td>\n",
       "    </tr>\n",
       "  </tbody>\n",
       "</table>\n",
       "<p>3 rows × 21 columns</p>\n",
       "</div>"
      ],
      "text/plain": [
       "                Open      High       Low        Close    Volume   Returns  \\\n",
       "Date                                                                        \n",
       "2017-01-31  0.000878  0.053054  0.001615   970.403015  1.103895  0.054348   \n",
       "2017-02-01  0.054272  0.017587  0.054056   989.023010 -0.087932  0.019188   \n",
       "2017-02-02  0.019630  0.024675  0.012855  1011.799988 -0.028572  0.023030   \n",
       "\n",
       "               Range  Bench_C_Rets        RSI   RSI_Ret  ...       MA_21  DOW  \\\n",
       "Date                                                     ...                    \n",
       "2017-01-31  0.055442     -0.029463  60.205366  1.192634  ...  885.613522    1   \n",
       "2017-02-01  0.018926     -0.009863  63.109498  1.048237  ...  895.673808    2   \n",
       "2017-02-02  0.030816      0.012600  66.345006  1.051268  ...  905.529332    3   \n",
       "\n",
       "            Roll_Rets  Avg_Range  Returns_T1  Range_T1  RSI_Ret_T1  \\\n",
       "Date                                                                 \n",
       "2017-01-31   0.011408   0.057910    0.000964  0.003887    1.003974   \n",
       "2017-02-01   0.007132   0.057381    0.054348  0.055442    1.192634   \n",
       "2017-02-02   0.008542   0.057675    0.019188  0.018926    1.048237   \n",
       "\n",
       "            Returns_T2  Range_T2  RSI_Ret_T2  \n",
       "Date                                          \n",
       "2017-01-31   -0.002272  0.004646    0.991144  \n",
       "2017-02-01    0.000964  0.003887    1.003974  \n",
       "2017-02-02    0.054348  0.055442    1.192634  \n",
       "\n",
       "[3 rows x 21 columns]"
      ]
     },
     "execution_count": 2,
     "metadata": {},
     "output_type": "execute_result"
    }
   ],
   "source": [
    "df = pd.read_csv(\"data/BTC-USD.csv\")\n",
    "df.set_index(\"Date\", inplace=True)\n",
    "df.head(3)"
   ]
  },
  {
   "attachments": {},
   "cell_type": "markdown",
   "metadata": {},
   "source": [
    "### Add Prediciton Target"
   ]
  },
  {
   "cell_type": "code",
   "execution_count": 3,
   "metadata": {},
   "outputs": [],
   "source": [
    "# Specify Target\n",
    "df.loc[df[\"Range\"].shift(-1) > df[\"Avg_Range\"], \"TARGET\"]  = 1\n",
    "df.loc[df[\"Range\"].shift(-1) <= df[\"Avg_Range\"], \"TARGET\"]  = 0\n",
    "\n"
   ]
  },
  {
   "cell_type": "code",
   "execution_count": 4,
   "metadata": {},
   "outputs": [
    {
     "data": {
      "text/plain": [
       "(array([1945], dtype=int64), array([21], dtype=int64))"
      ]
     },
     "execution_count": 4,
     "metadata": {},
     "output_type": "execute_result"
    }
   ],
   "source": [
    "# Check for NaNs\n",
    "nan_location = np.where(np.isnan(df))\n",
    "nan_location "
   ]
  },
  {
   "cell_type": "code",
   "execution_count": 5,
   "metadata": {},
   "outputs": [
    {
     "data": {
      "text/html": [
       "<div>\n",
       "<style scoped>\n",
       "    .dataframe tbody tr th:only-of-type {\n",
       "        vertical-align: middle;\n",
       "    }\n",
       "\n",
       "    .dataframe tbody tr th {\n",
       "        vertical-align: top;\n",
       "    }\n",
       "\n",
       "    .dataframe thead th {\n",
       "        text-align: right;\n",
       "    }\n",
       "</style>\n",
       "<table border=\"1\" class=\"dataframe\">\n",
       "  <thead>\n",
       "    <tr style=\"text-align: right;\">\n",
       "      <th></th>\n",
       "      <th>Open</th>\n",
       "      <th>High</th>\n",
       "      <th>Low</th>\n",
       "      <th>Close</th>\n",
       "      <th>Volume</th>\n",
       "      <th>Returns</th>\n",
       "      <th>Range</th>\n",
       "      <th>Bench_C_Rets</th>\n",
       "      <th>RSI</th>\n",
       "      <th>RSI_Ret</th>\n",
       "      <th>...</th>\n",
       "      <th>DOW</th>\n",
       "      <th>Roll_Rets</th>\n",
       "      <th>Avg_Range</th>\n",
       "      <th>Returns_T1</th>\n",
       "      <th>Range_T1</th>\n",
       "      <th>RSI_Ret_T1</th>\n",
       "      <th>Returns_T2</th>\n",
       "      <th>Range_T2</th>\n",
       "      <th>RSI_Ret_T2</th>\n",
       "      <th>TARGET</th>\n",
       "    </tr>\n",
       "    <tr>\n",
       "      <th>Date</th>\n",
       "      <th></th>\n",
       "      <th></th>\n",
       "      <th></th>\n",
       "      <th></th>\n",
       "      <th></th>\n",
       "      <th></th>\n",
       "      <th></th>\n",
       "      <th></th>\n",
       "      <th></th>\n",
       "      <th></th>\n",
       "      <th></th>\n",
       "      <th></th>\n",
       "      <th></th>\n",
       "      <th></th>\n",
       "      <th></th>\n",
       "      <th></th>\n",
       "      <th></th>\n",
       "      <th></th>\n",
       "      <th></th>\n",
       "      <th></th>\n",
       "      <th></th>\n",
       "    </tr>\n",
       "  </thead>\n",
       "  <tbody>\n",
       "    <tr>\n",
       "      <th>2022-05-26</th>\n",
       "      <td>-0.002980</td>\n",
       "      <td>-0.010731</td>\n",
       "      <td>-0.038218</td>\n",
       "      <td>29267.224609</td>\n",
       "      <td>0.336031</td>\n",
       "      <td>-0.009984</td>\n",
       "      <td>0.055632</td>\n",
       "      <td>33.189608</td>\n",
       "      <td>38.165993</td>\n",
       "      <td>0.977232</td>\n",
       "      <td>...</td>\n",
       "      <td>3</td>\n",
       "      <td>-0.239867</td>\n",
       "      <td>0.057147</td>\n",
       "      <td>-0.003144</td>\n",
       "      <td>0.026300</td>\n",
       "      <td>0.993166</td>\n",
       "      <td>0.019130</td>\n",
       "      <td>0.034313</td>\n",
       "      <td>1.065192</td>\n",
       "      <td>0.0</td>\n",
       "    </tr>\n",
       "    <tr>\n",
       "      <th>2022-05-27</th>\n",
       "      <td>-0.010608</td>\n",
       "      <td>-0.016331</td>\n",
       "      <td>0.002290</td>\n",
       "      <td>28627.574219</td>\n",
       "      <td>-0.005230</td>\n",
       "      <td>-0.021856</td>\n",
       "      <td>0.036020</td>\n",
       "      <td>32.436595</td>\n",
       "      <td>36.240181</td>\n",
       "      <td>0.949541</td>\n",
       "      <td>...</td>\n",
       "      <td>4</td>\n",
       "      <td>-0.291202</td>\n",
       "      <td>0.057119</td>\n",
       "      <td>-0.009984</td>\n",
       "      <td>0.055632</td>\n",
       "      <td>0.977232</td>\n",
       "      <td>-0.003144</td>\n",
       "      <td>0.026300</td>\n",
       "      <td>0.993166</td>\n",
       "      <td>0.0</td>\n",
       "    </tr>\n",
       "    <tr>\n",
       "      <th>2022-05-28</th>\n",
       "      <td>-0.021487</td>\n",
       "      <td>-0.018129</td>\n",
       "      <td>0.008047</td>\n",
       "      <td>28814.900391</td>\n",
       "      <td>-0.029042</td>\n",
       "      <td>0.006544</td>\n",
       "      <td>0.009117</td>\n",
       "      <td>32.894788</td>\n",
       "      <td>37.238957</td>\n",
       "      <td>1.027560</td>\n",
       "      <td>...</td>\n",
       "      <td>5</td>\n",
       "      <td>-0.298233</td>\n",
       "      <td>0.056286</td>\n",
       "      <td>-0.021856</td>\n",
       "      <td>0.036020</td>\n",
       "      <td>0.949541</td>\n",
       "      <td>-0.009984</td>\n",
       "      <td>0.055632</td>\n",
       "      <td>0.977232</td>\n",
       "      <td>0.0</td>\n",
       "    </tr>\n",
       "    <tr>\n",
       "      <th>2022-05-29</th>\n",
       "      <td>0.013879</td>\n",
       "      <td>0.023707</td>\n",
       "      <td>0.010035</td>\n",
       "      <td>29445.957031</td>\n",
       "      <td>-0.490594</td>\n",
       "      <td>0.021900</td>\n",
       "      <td>0.022777</td>\n",
       "      <td>33.634047</td>\n",
       "      <td>40.613855</td>\n",
       "      <td>1.090628</td>\n",
       "      <td>...</td>\n",
       "      <td>6</td>\n",
       "      <td>-0.247068</td>\n",
       "      <td>0.055605</td>\n",
       "      <td>0.006544</td>\n",
       "      <td>0.009117</td>\n",
       "      <td>1.027560</td>\n",
       "      <td>-0.021856</td>\n",
       "      <td>0.036020</td>\n",
       "      <td>0.949541</td>\n",
       "      <td>1.0</td>\n",
       "    </tr>\n",
       "    <tr>\n",
       "      <th>2022-05-30</th>\n",
       "      <td>0.014593</td>\n",
       "      <td>0.083111</td>\n",
       "      <td>0.016035</td>\n",
       "      <td>31726.390625</td>\n",
       "      <td>1.170788</td>\n",
       "      <td>0.077445</td>\n",
       "      <td>0.090298</td>\n",
       "      <td>36.313300</td>\n",
       "      <td>50.890862</td>\n",
       "      <td>1.253042</td>\n",
       "      <td>...</td>\n",
       "      <td>0</td>\n",
       "      <td>-0.146443</td>\n",
       "      <td>0.057666</td>\n",
       "      <td>0.021900</td>\n",
       "      <td>0.022777</td>\n",
       "      <td>1.090628</td>\n",
       "      <td>0.006544</td>\n",
       "      <td>0.009117</td>\n",
       "      <td>1.027560</td>\n",
       "      <td>0.0</td>\n",
       "    </tr>\n",
       "  </tbody>\n",
       "</table>\n",
       "<p>5 rows × 22 columns</p>\n",
       "</div>"
      ],
      "text/plain": [
       "                Open      High       Low         Close    Volume   Returns  \\\n",
       "Date                                                                         \n",
       "2022-05-26 -0.002980 -0.010731 -0.038218  29267.224609  0.336031 -0.009984   \n",
       "2022-05-27 -0.010608 -0.016331  0.002290  28627.574219 -0.005230 -0.021856   \n",
       "2022-05-28 -0.021487 -0.018129  0.008047  28814.900391 -0.029042  0.006544   \n",
       "2022-05-29  0.013879  0.023707  0.010035  29445.957031 -0.490594  0.021900   \n",
       "2022-05-30  0.014593  0.083111  0.016035  31726.390625  1.170788  0.077445   \n",
       "\n",
       "               Range  Bench_C_Rets        RSI   RSI_Ret  ...  DOW  Roll_Rets  \\\n",
       "Date                                                     ...                   \n",
       "2022-05-26  0.055632     33.189608  38.165993  0.977232  ...    3  -0.239867   \n",
       "2022-05-27  0.036020     32.436595  36.240181  0.949541  ...    4  -0.291202   \n",
       "2022-05-28  0.009117     32.894788  37.238957  1.027560  ...    5  -0.298233   \n",
       "2022-05-29  0.022777     33.634047  40.613855  1.090628  ...    6  -0.247068   \n",
       "2022-05-30  0.090298     36.313300  50.890862  1.253042  ...    0  -0.146443   \n",
       "\n",
       "            Avg_Range  Returns_T1  Range_T1  RSI_Ret_T1  Returns_T2  Range_T2  \\\n",
       "Date                                                                            \n",
       "2022-05-26   0.057147   -0.003144  0.026300    0.993166    0.019130  0.034313   \n",
       "2022-05-27   0.057119   -0.009984  0.055632    0.977232   -0.003144  0.026300   \n",
       "2022-05-28   0.056286   -0.021856  0.036020    0.949541   -0.009984  0.055632   \n",
       "2022-05-29   0.055605    0.006544  0.009117    1.027560   -0.021856  0.036020   \n",
       "2022-05-30   0.057666    0.021900  0.022777    1.090628    0.006544  0.009117   \n",
       "\n",
       "            RSI_Ret_T2  TARGET  \n",
       "Date                            \n",
       "2022-05-26    1.065192     0.0  \n",
       "2022-05-27    0.993166     0.0  \n",
       "2022-05-28    0.977232     0.0  \n",
       "2022-05-29    0.949541     1.0  \n",
       "2022-05-30    1.027560     0.0  \n",
       "\n",
       "[5 rows x 22 columns]"
      ]
     },
     "execution_count": 5,
     "metadata": {},
     "output_type": "execute_result"
    }
   ],
   "source": [
    "### Fill NA\n",
    "df[\"TARGET\"].fillna(0, inplace=True)\n",
    "df.tail()"
   ]
  },
  {
   "attachments": {},
   "cell_type": "markdown",
   "metadata": {},
   "source": [
    "### Train Test Split"
   ]
  },
  {
   "cell_type": "code",
   "execution_count": 6,
   "metadata": {},
   "outputs": [],
   "source": [
    "# Remove unwanted columns\n",
    "df_tts = df.copy()\n",
    "\n",
    "# Dont put future information into the target\n",
    "df_tts.drop(columns=[\"Close\", \"Bench_C_Rets\", \"Open\", \"High\", \"Low\"], inplace=True)"
   ]
  },
  {
   "cell_type": "code",
   "execution_count": 7,
   "metadata": {},
   "outputs": [],
   "source": [
    "# Split\n",
    "X = df_tts.iloc[:, :-1]\n",
    "y = df_tts.iloc[:, -1]"
   ]
  },
  {
   "cell_type": "code",
   "execution_count": 8,
   "metadata": {},
   "outputs": [
    {
     "name": "stdout",
     "output_type": "stream",
     "text": [
      "Shape of X_Train: (1556, 16)\n"
     ]
    }
   ],
   "source": [
    "# Train Test Split\n",
    "X_train, X_test, y_train, y_test = train_test_split(X, y, test_size = 0.2, random_state=42)\n",
    "print(\"Shape of X_Train:\", X_train.shape)\n"
   ]
  },
  {
   "cell_type": "markdown",
   "metadata": {},
   "source": [
    "### Build initial Model"
   ]
  },
  {
   "cell_type": "code",
   "execution_count": 9,
   "metadata": {},
   "outputs": [],
   "source": [
    "# Slect type of model to optimise for\n",
    "is_binary = True\n",
    "is_optimized_for_precision = True"
   ]
  },
  {
   "cell_type": "code",
   "execution_count": 10,
   "metadata": {},
   "outputs": [],
   "source": [
    "# Determine Objective and Eval Metrics\n",
    "if is_binary:\n",
    "    objective = \"binary:logistic\"\n",
    "    eval_metric = \"logloss\"\n",
    "    eval_metric_list = [\"error\", \"logloss\", eval_metric]\n",
    "else:\n",
    "    objective = \"multi:softmax\"\n",
    "    eval_metric = \"mlogloss\"\n",
    "    eval_metric_list = [\"merror\", \"mlogloss\", eval_metric]"
   ]
  },
  {
   "cell_type": "code",
   "execution_count": 11,
   "metadata": {},
   "outputs": [],
   "source": [
    "# Refine Eval Metric\n",
    "if is_binary and is_optimized_for_precision:\n",
    "    eval_metric = \"aucpr\"\n",
    "    scoring = \"precision\"\n",
    "elif is_binary and not is_optimized_for_precision:\n",
    "    eval_metric = \"auc\"\n",
    "    scoring = \"f1\"\n",
    "else:\n",
    "    scoring = \"accuracy\""
   ]
  },
  {
   "cell_type": "code",
   "execution_count": 12,
   "metadata": {},
   "outputs": [],
   "source": [
    "# Build First Clasifier Model 0\n",
    "classifier_0 = XGBClassifier(\n",
    "    objective = objective, \n",
    "    booster = \"gbtree\",\n",
    "    eval_metric=eval_metric,\n",
    "    subsample=0.8,\n",
    "    colsample_bytree=1,\n",
    "    random_state=1,\n",
    "    # use_label_encoder=False\n",
    "    )"
   ]
  },
  {
   "attachments": {},
   "cell_type": "markdown",
   "metadata": {},
   "source": [
    "### Find Hyperparameters"
   ]
  },
  {
   "cell_type": "code",
   "execution_count": 13,
   "metadata": {},
   "outputs": [],
   "source": [
    "# Provide Grids for hyperparams\n",
    "params_grid = {\n",
    "    \"gamma\": [0, 0.1, 0.2, 0.5, 1, 1.5, 2, 3, 6, 12, 20],\n",
    "    \"learning_rate\": [0.01, 0.02, 0.03, 0.05, 0.1, 0.2, 0.3, 0.5, 0.7, 0.8],\n",
    "    \"max_depth\" : [1, 2, 3, 4, 5, 6, 8, 12],\n",
    "    \"n_estimators\": [25, 50, 65, 80, 100, 115, 200] # Number of trees we use for xgbooster\n",
    "}"
   ]
  },
  {
   "cell_type": "code",
   "execution_count": 36,
   "metadata": {},
   "outputs": [
    {
     "name": "stdout",
     "output_type": "stream",
     "text": [
      "Recommended Params >>  ne: 80, lr: 0.05, md: 2, gm: 0.2\n"
     ]
    }
   ],
   "source": [
    "# Perform Random Serch for Best Hyper params\n",
    "grid_search = RandomizedSearchCV(estimator=classifier_0, param_distributions=params_grid, scoring=scoring)\n",
    "best_model = grid_search.fit(X_train, y_train)\n",
    "hyperparams = best_model.best_params_\n",
    "ne = hyperparams[\"n_estimators\"]\n",
    "lr = hyperparams[\"learning_rate\"]\n",
    "md = hyperparams[\"max_depth\"]\n",
    "gm = hyperparams[\"gamma\"]\n",
    "print(\"Recommended Params >> \", f\"ne: {ne}, lr: {lr}, md: {md}, gm: {gm}\")"
   ]
  },
  {
   "attachments": {},
   "cell_type": "markdown",
   "metadata": {},
   "source": [
    "### Train model"
   ]
  },
  {
   "cell_type": "code",
   "execution_count": 23,
   "metadata": {},
   "outputs": [],
   "source": [
    "# Build First Clasifier Model 1\n",
    "classifier_1 = XGBClassifier(\n",
    "    objective = objective, \n",
    "    booster = \"gbtree\",\n",
    "    eval_metric=  eval_metric_list,\n",
    "    n_estimators = ne,\n",
    "    learning_rate = lr,\n",
    "    max_depth = md,\n",
    "    gamma = gm,\n",
    "    subsample=0.8,\n",
    "    colsample_bytree=1,\n",
    "    random_state=1,\n",
    "    # use_label_encoder=False\n",
    "    )"
   ]
  },
  {
   "cell_type": "code",
   "execution_count": 24,
   "metadata": {},
   "outputs": [
    {
     "data": {
      "text/html": [
       "<style>#sk-container-id-1 {color: black;background-color: white;}#sk-container-id-1 pre{padding: 0;}#sk-container-id-1 div.sk-toggleable {background-color: white;}#sk-container-id-1 label.sk-toggleable__label {cursor: pointer;display: block;width: 100%;margin-bottom: 0;padding: 0.3em;box-sizing: border-box;text-align: center;}#sk-container-id-1 label.sk-toggleable__label-arrow:before {content: \"▸\";float: left;margin-right: 0.25em;color: #696969;}#sk-container-id-1 label.sk-toggleable__label-arrow:hover:before {color: black;}#sk-container-id-1 div.sk-estimator:hover label.sk-toggleable__label-arrow:before {color: black;}#sk-container-id-1 div.sk-toggleable__content {max-height: 0;max-width: 0;overflow: hidden;text-align: left;background-color: #f0f8ff;}#sk-container-id-1 div.sk-toggleable__content pre {margin: 0.2em;color: black;border-radius: 0.25em;background-color: #f0f8ff;}#sk-container-id-1 input.sk-toggleable__control:checked~div.sk-toggleable__content {max-height: 200px;max-width: 100%;overflow: auto;}#sk-container-id-1 input.sk-toggleable__control:checked~label.sk-toggleable__label-arrow:before {content: \"▾\";}#sk-container-id-1 div.sk-estimator input.sk-toggleable__control:checked~label.sk-toggleable__label {background-color: #d4ebff;}#sk-container-id-1 div.sk-label input.sk-toggleable__control:checked~label.sk-toggleable__label {background-color: #d4ebff;}#sk-container-id-1 input.sk-hidden--visually {border: 0;clip: rect(1px 1px 1px 1px);clip: rect(1px, 1px, 1px, 1px);height: 1px;margin: -1px;overflow: hidden;padding: 0;position: absolute;width: 1px;}#sk-container-id-1 div.sk-estimator {font-family: monospace;background-color: #f0f8ff;border: 1px dotted black;border-radius: 0.25em;box-sizing: border-box;margin-bottom: 0.5em;}#sk-container-id-1 div.sk-estimator:hover {background-color: #d4ebff;}#sk-container-id-1 div.sk-parallel-item::after {content: \"\";width: 100%;border-bottom: 1px solid gray;flex-grow: 1;}#sk-container-id-1 div.sk-label:hover label.sk-toggleable__label {background-color: #d4ebff;}#sk-container-id-1 div.sk-serial::before {content: \"\";position: absolute;border-left: 1px solid gray;box-sizing: border-box;top: 0;bottom: 0;left: 50%;z-index: 0;}#sk-container-id-1 div.sk-serial {display: flex;flex-direction: column;align-items: center;background-color: white;padding-right: 0.2em;padding-left: 0.2em;position: relative;}#sk-container-id-1 div.sk-item {position: relative;z-index: 1;}#sk-container-id-1 div.sk-parallel {display: flex;align-items: stretch;justify-content: center;background-color: white;position: relative;}#sk-container-id-1 div.sk-item::before, #sk-container-id-1 div.sk-parallel-item::before {content: \"\";position: absolute;border-left: 1px solid gray;box-sizing: border-box;top: 0;bottom: 0;left: 50%;z-index: -1;}#sk-container-id-1 div.sk-parallel-item {display: flex;flex-direction: column;z-index: 1;position: relative;background-color: white;}#sk-container-id-1 div.sk-parallel-item:first-child::after {align-self: flex-end;width: 50%;}#sk-container-id-1 div.sk-parallel-item:last-child::after {align-self: flex-start;width: 50%;}#sk-container-id-1 div.sk-parallel-item:only-child::after {width: 0;}#sk-container-id-1 div.sk-dashed-wrapped {border: 1px dashed gray;margin: 0 0.4em 0.5em 0.4em;box-sizing: border-box;padding-bottom: 0.4em;background-color: white;}#sk-container-id-1 div.sk-label label {font-family: monospace;font-weight: bold;display: inline-block;line-height: 1.2em;}#sk-container-id-1 div.sk-label-container {text-align: center;}#sk-container-id-1 div.sk-container {/* jupyter's `normalize.less` sets `[hidden] { display: none; }` but bootstrap.min.css set `[hidden] { display: none !important; }` so we also need the `!important` here to be able to override the default hidden behavior on the sphinx rendered scikit-learn.org. See: https://github.com/scikit-learn/scikit-learn/issues/21755 */display: inline-block !important;position: relative;}#sk-container-id-1 div.sk-text-repr-fallback {display: none;}</style><div id=\"sk-container-id-1\" class=\"sk-top-container\"><div class=\"sk-text-repr-fallback\"><pre>XGBClassifier(base_score=None, booster=&#x27;gbtree&#x27;, callbacks=None,\n",
       "              colsample_bylevel=None, colsample_bynode=None, colsample_bytree=1,\n",
       "              early_stopping_rounds=None, enable_categorical=False,\n",
       "              eval_metric=[&#x27;error&#x27;, &#x27;logloss&#x27;, &#x27;logloss&#x27;], feature_types=None,\n",
       "              gamma=20, gpu_id=None, grow_policy=None, importance_type=None,\n",
       "              interaction_constraints=None, learning_rate=0.5, max_bin=None,\n",
       "              max_cat_threshold=None, max_cat_to_onehot=None,\n",
       "              max_delta_step=None, max_depth=8, max_leaves=None,\n",
       "              min_child_weight=None, missing=nan, monotone_constraints=None,\n",
       "              n_estimators=100, n_jobs=None, num_parallel_tree=None,\n",
       "              predictor=None, random_state=1, ...)</pre><b>In a Jupyter environment, please rerun this cell to show the HTML representation or trust the notebook. <br />On GitHub, the HTML representation is unable to render, please try loading this page with nbviewer.org.</b></div><div class=\"sk-container\" hidden><div class=\"sk-item\"><div class=\"sk-estimator sk-toggleable\"><input class=\"sk-toggleable__control sk-hidden--visually\" id=\"sk-estimator-id-1\" type=\"checkbox\" checked><label for=\"sk-estimator-id-1\" class=\"sk-toggleable__label sk-toggleable__label-arrow\">XGBClassifier</label><div class=\"sk-toggleable__content\"><pre>XGBClassifier(base_score=None, booster=&#x27;gbtree&#x27;, callbacks=None,\n",
       "              colsample_bylevel=None, colsample_bynode=None, colsample_bytree=1,\n",
       "              early_stopping_rounds=None, enable_categorical=False,\n",
       "              eval_metric=[&#x27;error&#x27;, &#x27;logloss&#x27;, &#x27;logloss&#x27;], feature_types=None,\n",
       "              gamma=20, gpu_id=None, grow_policy=None, importance_type=None,\n",
       "              interaction_constraints=None, learning_rate=0.5, max_bin=None,\n",
       "              max_cat_threshold=None, max_cat_to_onehot=None,\n",
       "              max_delta_step=None, max_depth=8, max_leaves=None,\n",
       "              min_child_weight=None, missing=nan, monotone_constraints=None,\n",
       "              n_estimators=100, n_jobs=None, num_parallel_tree=None,\n",
       "              predictor=None, random_state=1, ...)</pre></div></div></div></div></div>"
      ],
      "text/plain": [
       "XGBClassifier(base_score=None, booster='gbtree', callbacks=None,\n",
       "              colsample_bylevel=None, colsample_bynode=None, colsample_bytree=1,\n",
       "              early_stopping_rounds=None, enable_categorical=False,\n",
       "              eval_metric=['error', 'logloss', 'logloss'], feature_types=None,\n",
       "              gamma=20, gpu_id=None, grow_policy=None, importance_type=None,\n",
       "              interaction_constraints=None, learning_rate=0.5, max_bin=None,\n",
       "              max_cat_threshold=None, max_cat_to_onehot=None,\n",
       "              max_delta_step=None, max_depth=8, max_leaves=None,\n",
       "              min_child_weight=None, missing=nan, monotone_constraints=None,\n",
       "              n_estimators=100, n_jobs=None, num_parallel_tree=None,\n",
       "              predictor=None, random_state=1, ...)"
      ]
     },
     "execution_count": 24,
     "metadata": {},
     "output_type": "execute_result"
    }
   ],
   "source": [
    "# Fit Model\n",
    "eval_set = [(X_train, y_train)]\n",
    "classifier_1.fit(\n",
    "    X_train,\n",
    "    y_train,\n",
    "    eval_set=eval_set,\n",
    "    verbose=False\n",
    ")"
   ]
  },
  {
   "attachments": {},
   "cell_type": "markdown",
   "metadata": {},
   "source": [
    "### PerformanceEvaluation (Quick Overview)"
   ]
  },
  {
   "cell_type": "code",
   "execution_count": 25,
   "metadata": {},
   "outputs": [
    {
     "name": "stdout",
     "output_type": "stream",
     "text": [
      "Training Preds: \n",
      " [0 0 0 0 1]\n"
     ]
    }
   ],
   "source": [
    "# Get Predictions for training data\n",
    "train_yhat = classifier_1.predict(X_train)\n",
    "print(\"Training Preds: \\n\", train_yhat[:5])"
   ]
  },
  {
   "cell_type": "code",
   "execution_count": 26,
   "metadata": {},
   "outputs": [],
   "source": [
    "# Set K-Fold Cross Validation Levels\n",
    "cv = RepeatedStratifiedKFold(n_splits=5, n_repeats=3, random_state=1)"
   ]
  },
  {
   "cell_type": "code",
   "execution_count": 27,
   "metadata": {},
   "outputs": [],
   "source": [
    "# Traning Results\n",
    "train_results = cross_val_score(classifier_1, X_train, y_train, scoring=scoring, cv=cv, n_jobs=1)"
   ]
  },
  {
   "cell_type": "code",
   "execution_count": 30,
   "metadata": {},
   "outputs": [
    {
     "name": "stdout",
     "output_type": "stream",
     "text": [
      "Average Accurarcy K-Fold:  0.64\n",
      "Std K-Fold:  0.06\n",
      "Precision Score 0:  0.71\n",
      "Precision Score 1:  0.73\n",
      "\n",
      "Just for initial features check. If results are too good to be true, might need to look further.\n"
     ]
    }
   ],
   "source": [
    "# Breif Review of Training Results\n",
    "print(\"Average Accurarcy K-Fold: \", round(train_results.mean(), 2))\n",
    "print(\"Std K-Fold: \", round(train_results.std(), 2))\n",
    "print(\"Precision Score 0: \", round(precision_score(y_train, train_yhat, average=None)[0], 2))\n",
    "print(\"Precision Score 1: \", round(precision_score(y_train, train_yhat, average=None)[1], 2))\n",
    "print(\"\")\n",
    "print(\"Just for initial features check. If results are too good to be true, might need to look further.\")"
   ]
  },
  {
   "attachments": {},
   "cell_type": "markdown",
   "metadata": {},
   "source": [
    "### Feature Selection"
   ]
  },
  {
   "cell_type": "code",
   "execution_count": 31,
   "metadata": {},
   "outputs": [
    {
     "data": {
      "image/png": "[encoded data removed]",
      "text/plain": [
       "<Figure size 2200x500 with 1 Axes>"
      ]
     },
     "metadata": {},
     "output_type": "display_data"
    }
   ],
   "source": [
    "# Plot Feature Importances\n",
    "fig = plt.figure(figsize=(22, 5))\n",
    "importance_labels = X.columns\n",
    "importance_features = classifier_1.feature_importances_\n",
    "plt.bar(importance_labels, importance_features)\n",
    "plt.show()"
   ]
  },
  {
   "cell_type": "code",
   "execution_count": 33,
   "metadata": {},
   "outputs": [],
   "source": [
    "# Select Bedst Features\n",
    "mean_feature_importance = importance_features.mean()\n",
    "recommended_feature_labels = []\n",
    "recommended_feature_score = []\n",
    "for i, fi in enumerate(importance_features):\n",
    "    if fi > mean_feature_importance:\n",
    "        recommended_feature_labels.append(importance_labels[i])\n",
    "        recommended_feature_score.append(fi)"
   ]
  },
  {
   "cell_type": "code",
   "execution_count": 34,
   "metadata": {},
   "outputs": [
    {
     "data": {
      "image/png": "[encoded data removed]",
      "text/plain": [
       "<Figure size 1500x500 with 1 Axes>"
      ]
     },
     "metadata": {},
     "output_type": "display_data"
    }
   ],
   "source": [
    "# Plot Recommended Features\n",
    "fig = plt.figure(figsize=(15, 5))\n",
    "plt.bar(recommended_feature_labels, recommended_feature_score)\n",
    "plt.show()"
   ]
  },
  {
   "cell_type": "code",
   "execution_count": null,
   "metadata": {},
   "outputs": [],
   "source": []
  }
 ],
 "metadata": {
  "kernelspec": {
   "display_name": "statarb",
   "language": "python",
   "name": "python3"
  },
  "language_info": {
   "codemirror_mode": {
    "name": "ipython",
    "version": 3
   },
   "file_extension": ".py",
   "mimetype": "text/x-python",
   "name": "python",
   "nbconvert_exporter": "python",
   "pygments_lexer": "ipython3",
   "version": "3.11.3"
  },
  "orig_nbformat": 4
 },
 "nbformat": 4,
 "nbformat_minor": 2
}

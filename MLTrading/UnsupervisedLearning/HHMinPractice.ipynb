{
 "cells": [
  {
   "cell_type": "code",
   "execution_count": 1,
   "metadata": {},
   "outputs": [],
   "source": [
    "import pandas as pd\n",
    "import numpy as np\n",
    "\n",
    "# !pip install pyhhmm\n",
    "from pyhhmm.gaussian import GaussianHMM\n",
    "# from hmmlearn.hmm import GaussianHMM\n",
    "from pandas_datareader import data as pdr\n",
    "import yfinance as yf\n",
    "import matplotlib.pyplot as plt"
   ]
  },
  {
   "attachments": {},
   "cell_type": "markdown",
   "metadata": {},
   "source": [
    "### Structure Data"
   ]
  },
  {
   "cell_type": "code",
   "execution_count": 2,
   "metadata": {},
   "outputs": [
    {
     "name": "stdout",
     "output_type": "stream",
     "text": [
      "[*********************100%***********************]  1 of 1 completed\n"
     ]
    }
   ],
   "source": [
    "# Data Extraction\n",
    "\n",
    "start_date = '2017-01-01'\n",
    "end_date= '2022-06-01'\n",
    "symbol = 'SPY'\n",
    "yf.pdr_override()\n",
    "# df = DataReader(name=symbol, data_source='yahoo', start=start_date, end=end_date)\n",
    "df = pdr.get_data_yahoo(symbol, start=start_date, end=end_date)\n",
    "data = df[[\"Open\", \"High\", \"Low\", \"Adj Close\", \"Volume\"]]"
   ]
  },
  {
   "cell_type": "code",
   "execution_count": 3,
   "metadata": {},
   "outputs": [
    {
     "name": "stdout",
     "output_type": "stream",
     "text": [
      "Length:  1361\n"
     ]
    },
    {
     "data": {
      "text/html": [
       "<div>\n",
       "<style scoped>\n",
       "    .dataframe tbody tr th:only-of-type {\n",
       "        vertical-align: middle;\n",
       "    }\n",
       "\n",
       "    .dataframe tbody tr th {\n",
       "        vertical-align: top;\n",
       "    }\n",
       "\n",
       "    .dataframe thead th {\n",
       "        text-align: right;\n",
       "    }\n",
       "</style>\n",
       "<table border=\"1\" class=\"dataframe\">\n",
       "  <thead>\n",
       "    <tr style=\"text-align: right;\">\n",
       "      <th></th>\n",
       "      <th>Open</th>\n",
       "      <th>High</th>\n",
       "      <th>Low</th>\n",
       "      <th>Adj Close</th>\n",
       "      <th>Volume</th>\n",
       "      <th>Returns</th>\n",
       "      <th>Range</th>\n",
       "    </tr>\n",
       "    <tr>\n",
       "      <th>Date</th>\n",
       "      <th></th>\n",
       "      <th></th>\n",
       "      <th></th>\n",
       "      <th></th>\n",
       "      <th></th>\n",
       "      <th></th>\n",
       "      <th></th>\n",
       "    </tr>\n",
       "  </thead>\n",
       "  <tbody>\n",
       "    <tr>\n",
       "      <th>2017-01-04</th>\n",
       "      <td>225.619995</td>\n",
       "      <td>226.750000</td>\n",
       "      <td>225.610001</td>\n",
       "      <td>202.535187</td>\n",
       "      <td>78744400</td>\n",
       "      <td>0.005949</td>\n",
       "      <td>0.005053</td>\n",
       "    </tr>\n",
       "    <tr>\n",
       "      <th>2017-01-05</th>\n",
       "      <td>226.270004</td>\n",
       "      <td>226.580002</td>\n",
       "      <td>225.479996</td>\n",
       "      <td>202.374283</td>\n",
       "      <td>78379000</td>\n",
       "      <td>-0.000794</td>\n",
       "      <td>0.004879</td>\n",
       "    </tr>\n",
       "    <tr>\n",
       "      <th>2017-01-06</th>\n",
       "      <td>226.529999</td>\n",
       "      <td>227.750000</td>\n",
       "      <td>225.899994</td>\n",
       "      <td>203.098312</td>\n",
       "      <td>71559900</td>\n",
       "      <td>0.003578</td>\n",
       "      <td>0.008189</td>\n",
       "    </tr>\n",
       "    <tr>\n",
       "      <th>2017-01-09</th>\n",
       "      <td>226.910004</td>\n",
       "      <td>227.070007</td>\n",
       "      <td>226.419998</td>\n",
       "      <td>202.427917</td>\n",
       "      <td>46939700</td>\n",
       "      <td>-0.003301</td>\n",
       "      <td>0.002871</td>\n",
       "    </tr>\n",
       "    <tr>\n",
       "      <th>2017-01-10</th>\n",
       "      <td>226.479996</td>\n",
       "      <td>227.449997</td>\n",
       "      <td>226.009995</td>\n",
       "      <td>202.427917</td>\n",
       "      <td>63771900</td>\n",
       "      <td>0.000000</td>\n",
       "      <td>0.006371</td>\n",
       "    </tr>\n",
       "  </tbody>\n",
       "</table>\n",
       "</div>"
      ],
      "text/plain": [
       "                  Open        High         Low   Adj Close    Volume  \\\n",
       "Date                                                                   \n",
       "2017-01-04  225.619995  226.750000  225.610001  202.535187  78744400   \n",
       "2017-01-05  226.270004  226.580002  225.479996  202.374283  78379000   \n",
       "2017-01-06  226.529999  227.750000  225.899994  203.098312  71559900   \n",
       "2017-01-09  226.910004  227.070007  226.419998  202.427917  46939700   \n",
       "2017-01-10  226.479996  227.449997  226.009995  202.427917  63771900   \n",
       "\n",
       "             Returns     Range  \n",
       "Date                            \n",
       "2017-01-04  0.005949  0.005053  \n",
       "2017-01-05 -0.000794  0.004879  \n",
       "2017-01-06  0.003578  0.008189  \n",
       "2017-01-09 -0.003301  0.002871  \n",
       "2017-01-10  0.000000  0.006371  "
      ]
     },
     "execution_count": 3,
     "metadata": {},
     "output_type": "execute_result"
    }
   ],
   "source": [
    "df = data.copy()\n",
    "df[\"Returns\"] = (df[\"Adj Close\"] / df[\"Adj Close\"].shift(1)) - 1\n",
    "df[\"Range\"] = (df[\"High\"]/df[\"Low\"]) - 1\n",
    "df.dropna(inplace=True)\n",
    "print(\"Length: \", len(df))\n",
    "df.head()"
   ]
  },
  {
   "cell_type": "code",
   "execution_count": 4,
   "metadata": {},
   "outputs": [],
   "source": [
    "# Add Moving Average\n",
    "df[\"MA_12\"] = df[\"Adj Close\"].rolling(window=12).mean()\n",
    "df[\"MA_21\"] = df[\"Adj Close\"].rolling(window=21).mean()\n"
   ]
  },
  {
   "cell_type": "code",
   "execution_count": 5,
   "metadata": {},
   "outputs": [],
   "source": [
    "# Structure Data\n",
    "X_train = df[[\"Returns\", \"Range\"]].iloc[:500]\n",
    "X_test = df[[\"Returns\", \"Range\"]].iloc[500:]\n",
    "save_df = df.iloc[500:]\n"
   ]
  },
  {
   "attachments": {},
   "cell_type": "markdown",
   "metadata": {},
   "source": [
    "### Train HMM"
   ]
  },
  {
   "cell_type": "code",
   "execution_count": 6,
   "metadata": {},
   "outputs": [
    {
     "name": "stderr",
     "output_type": "stream",
     "text": [
      "f:\\anaconda3\\envs\\statarb\\Lib\\site-packages\\sklearn\\cluster\\_kmeans.py:870: FutureWarning: The default value of `n_init` will change from 10 to 'auto' in 1.4. Set the value of `n_init` explicitly to suppress the warning\n",
      "  warnings.warn(\n",
      "f:\\anaconda3\\envs\\statarb\\Lib\\site-packages\\sklearn\\cluster\\_kmeans.py:1382: UserWarning: KMeans is known to have a memory leak on Windows with MKL, when there are less chunks than available threads. You can avoid it by setting the environment variable OMP_NUM_THREADS=2.\n",
      "  warnings.warn(\n"
     ]
    },
    {
     "data": {
      "text/plain": [
       "(<pyhhmm.gaussian.GaussianHMM at 0x24c1feced50>, 3566.1153606735834)"
      ]
     },
     "execution_count": 6,
     "metadata": {},
     "output_type": "execute_result"
    }
   ],
   "source": [
    "model = GaussianHMM(n_states=4, covariance_type=\"full\", n_emissions=2)\n",
    "model.train([np.array(X_train.values)])\n",
    "# model.predict([X_test.values])"
   ]
  },
  {
   "cell_type": "code",
   "execution_count": 7,
   "metadata": {},
   "outputs": [],
   "source": [
    "df_main = save_df.copy()\n",
    "df_main.drop(columns=[\"High\", \"Low\"], inplace=True)"
   ]
  },
  {
   "cell_type": "code",
   "execution_count": 8,
   "metadata": {},
   "outputs": [
    {
     "data": {
      "text/html": [
       "<div>\n",
       "<style scoped>\n",
       "    .dataframe tbody tr th:only-of-type {\n",
       "        vertical-align: middle;\n",
       "    }\n",
       "\n",
       "    .dataframe tbody tr th {\n",
       "        vertical-align: top;\n",
       "    }\n",
       "\n",
       "    .dataframe thead th {\n",
       "        text-align: right;\n",
       "    }\n",
       "</style>\n",
       "<table border=\"1\" class=\"dataframe\">\n",
       "  <thead>\n",
       "    <tr style=\"text-align: right;\">\n",
       "      <th></th>\n",
       "      <th>Open</th>\n",
       "      <th>Adj Close</th>\n",
       "      <th>Volume</th>\n",
       "      <th>Returns</th>\n",
       "      <th>Range</th>\n",
       "      <th>MA_12</th>\n",
       "      <th>MA_21</th>\n",
       "      <th>HMM</th>\n",
       "    </tr>\n",
       "    <tr>\n",
       "      <th>Date</th>\n",
       "      <th></th>\n",
       "      <th></th>\n",
       "      <th></th>\n",
       "      <th></th>\n",
       "      <th></th>\n",
       "      <th></th>\n",
       "      <th></th>\n",
       "      <th></th>\n",
       "    </tr>\n",
       "  </thead>\n",
       "  <tbody>\n",
       "    <tr>\n",
       "      <th>2018-12-31</th>\n",
       "      <td>249.559998</td>\n",
       "      <td>232.067383</td>\n",
       "      <td>144299400</td>\n",
       "      <td>0.008759</td>\n",
       "      <td>0.010991</td>\n",
       "      <td>231.581416</td>\n",
       "      <td>238.991984</td>\n",
       "      <td>3</td>\n",
       "    </tr>\n",
       "    <tr>\n",
       "      <th>2019-01-02</th>\n",
       "      <td>245.979996</td>\n",
       "      <td>232.308746</td>\n",
       "      <td>126925200</td>\n",
       "      <td>0.001040</td>\n",
       "      <td>0.021387</td>\n",
       "      <td>230.525218</td>\n",
       "      <td>238.009941</td>\n",
       "      <td>2</td>\n",
       "    </tr>\n",
       "    <tr>\n",
       "      <th>2019-01-03</th>\n",
       "      <td>248.229996</td>\n",
       "      <td>226.765244</td>\n",
       "      <td>144140700</td>\n",
       "      <td>-0.023863</td>\n",
       "      <td>0.020109</td>\n",
       "      <td>229.384022</td>\n",
       "      <td>236.690508</td>\n",
       "      <td>2</td>\n",
       "    </tr>\n",
       "    <tr>\n",
       "      <th>2019-01-04</th>\n",
       "      <td>247.589996</td>\n",
       "      <td>234.360916</td>\n",
       "      <td>142628800</td>\n",
       "      <td>0.033496</td>\n",
       "      <td>0.024032</td>\n",
       "      <td>229.268921</td>\n",
       "      <td>235.572319</td>\n",
       "      <td>2</td>\n",
       "    </tr>\n",
       "    <tr>\n",
       "      <th>2019-01-07</th>\n",
       "      <td>252.690002</td>\n",
       "      <td>236.208755</td>\n",
       "      <td>103139100</td>\n",
       "      <td>0.007885</td>\n",
       "      <td>0.016926</td>\n",
       "      <td>229.329344</td>\n",
       "      <td>234.939964</td>\n",
       "      <td>3</td>\n",
       "    </tr>\n",
       "  </tbody>\n",
       "</table>\n",
       "</div>"
      ],
      "text/plain": [
       "                  Open   Adj Close     Volume   Returns     Range       MA_12  \\\n",
       "Date                                                                            \n",
       "2018-12-31  249.559998  232.067383  144299400  0.008759  0.010991  231.581416   \n",
       "2019-01-02  245.979996  232.308746  126925200  0.001040  0.021387  230.525218   \n",
       "2019-01-03  248.229996  226.765244  144140700 -0.023863  0.020109  229.384022   \n",
       "2019-01-04  247.589996  234.360916  142628800  0.033496  0.024032  229.268921   \n",
       "2019-01-07  252.690002  236.208755  103139100  0.007885  0.016926  229.329344   \n",
       "\n",
       "                 MA_21  HMM  \n",
       "Date                         \n",
       "2018-12-31  238.991984    3  \n",
       "2019-01-02  238.009941    2  \n",
       "2019-01-03  236.690508    2  \n",
       "2019-01-04  235.572319    2  \n",
       "2019-01-07  234.939964    3  "
      ]
     },
     "execution_count": 8,
     "metadata": {},
     "output_type": "execute_result"
    }
   ],
   "source": [
    "hmm_results     = model.predict([X_test.values])[0]\n",
    "df_main[\"HMM\"]  = hmm_results\n",
    "df_main.head()"
   ]
  },
  {
   "attachments": {},
   "cell_type": "markdown",
   "metadata": {},
   "source": [
    "### Run Backtest"
   ]
  },
  {
   "cell_type": "code",
   "execution_count": 9,
   "metadata": {},
   "outputs": [],
   "source": [
    "# Add MA Signals\n",
    "df_main.loc[df_main[\"MA_12\"] > df_main[\"MA_21\"], \"MA_Signal\"] = 1\n",
    "df_main.loc[df_main[\"MA_12\"] <= df_main[\"MA_21\"], \"MA_Signal\"] = 0\n"
   ]
  },
  {
   "cell_type": "code",
   "execution_count": 92,
   "metadata": {},
   "outputs": [],
   "source": [
    "# Add HMM Signals\n",
    "# Start with all HMM states, and we will remove the states that loss money after bactesting.\n",
    "favourable_states = [0, 1]\n",
    "hmm_values = df_main[\"HMM\"].values\n",
    "hmm_values = [1 if x in favourable_states else 0 for x in hmm_values]\n",
    "df_main[\"HMM_Signal\"] = hmm_values"
   ]
  },
  {
   "cell_type": "code",
   "execution_count": 93,
   "metadata": {},
   "outputs": [],
   "source": [
    "# Add Combines Signal\n",
    "df_main[\"Main_Signal\"] = 0\n",
    "df_main.loc[(df_main[\"MA_Signal\"] == 1) & (df_main[\"HMM_Signal\"] == 1), \"Main_Signal\"] = 1\n",
    "df_main[\"Main_Signal\"] = df_main[\"Main_Signal\"].shift(1)"
   ]
  },
  {
   "cell_type": "code",
   "execution_count": 94,
   "metadata": {},
   "outputs": [],
   "source": [
    "# Benchmark Returns\n",
    "df_main[\"lrets_bench\"] = np.log(df_main[\"Adj Close\"]/df_main[\"Adj Close\"].shift(1))\n",
    "df_main[\"bench_prod\"] = df_main[\"lrets_bench\"].cumsum()\n",
    "df_main[\"bench_prod_exp\"] = np.exp(df_main[\"bench_prod\"]) - 1"
   ]
  },
  {
   "cell_type": "code",
   "execution_count": 95,
   "metadata": {},
   "outputs": [],
   "source": [
    "# Strategy Returns\n",
    "# Always assume worst case senario\n",
    "df_main[\"lrets_strat\"] = np.log(df_main[\"Open\"].shift(-1)/df_main[\"Open\"]) * df_main[\"Main_Signal\"]\n",
    "df_main[\"lrets_prod\"] = df_main[\"lrets_strat\"].cumsum()\n",
    "df_main[\"strat_prod_exp\"] = np.exp(df_main[\"lrets_prod\"]) - 1"
   ]
  },
  {
   "cell_type": "code",
   "execution_count": 96,
   "metadata": {},
   "outputs": [
    {
     "data": {
      "text/html": [
       "<div>\n",
       "<style scoped>\n",
       "    .dataframe tbody tr th:only-of-type {\n",
       "        vertical-align: middle;\n",
       "    }\n",
       "\n",
       "    .dataframe tbody tr th {\n",
       "        vertical-align: top;\n",
       "    }\n",
       "\n",
       "    .dataframe thead th {\n",
       "        text-align: right;\n",
       "    }\n",
       "</style>\n",
       "<table border=\"1\" class=\"dataframe\">\n",
       "  <thead>\n",
       "    <tr style=\"text-align: right;\">\n",
       "      <th></th>\n",
       "      <th>Open</th>\n",
       "      <th>Adj Close</th>\n",
       "      <th>Volume</th>\n",
       "      <th>Returns</th>\n",
       "      <th>Range</th>\n",
       "      <th>MA_12</th>\n",
       "      <th>MA_21</th>\n",
       "      <th>HMM</th>\n",
       "      <th>MA_Signal</th>\n",
       "      <th>HMM_Signal</th>\n",
       "      <th>Main_Signal</th>\n",
       "      <th>lrets_bench</th>\n",
       "      <th>bench_prod</th>\n",
       "      <th>bench_prod_exp</th>\n",
       "      <th>lrets_strat</th>\n",
       "      <th>lrets_prod</th>\n",
       "      <th>strat_prod_exp</th>\n",
       "    </tr>\n",
       "    <tr>\n",
       "      <th>Date</th>\n",
       "      <th></th>\n",
       "      <th></th>\n",
       "      <th></th>\n",
       "      <th></th>\n",
       "      <th></th>\n",
       "      <th></th>\n",
       "      <th></th>\n",
       "      <th></th>\n",
       "      <th></th>\n",
       "      <th></th>\n",
       "      <th></th>\n",
       "      <th></th>\n",
       "      <th></th>\n",
       "      <th></th>\n",
       "      <th></th>\n",
       "      <th></th>\n",
       "      <th></th>\n",
       "    </tr>\n",
       "  </thead>\n",
       "  <tbody>\n",
       "    <tr>\n",
       "      <th>2022-05-10</th>\n",
       "      <td>404.489990</td>\n",
       "      <td>390.988678</td>\n",
       "      <td>132497200</td>\n",
       "      <td>0.002311</td>\n",
       "      <td>0.028519</td>\n",
       "      <td>406.903938</td>\n",
       "      <td>416.846266</td>\n",
       "      <td>2</td>\n",
       "      <td>0.0</td>\n",
       "      <td>0</td>\n",
       "      <td>0.0</td>\n",
       "      <td>0.002308</td>\n",
       "      <td>0.492160</td>\n",
       "      <td>0.635846</td>\n",
       "      <td>-0.0</td>\n",
       "      <td>0.338063</td>\n",
       "      <td>0.402229</td>\n",
       "    </tr>\n",
       "    <tr>\n",
       "      <th>2022-05-11</th>\n",
       "      <td>398.070007</td>\n",
       "      <td>384.777405</td>\n",
       "      <td>142361000</td>\n",
       "      <td>-0.015886</td>\n",
       "      <td>0.030820</td>\n",
       "      <td>403.984431</td>\n",
       "      <td>414.645672</td>\n",
       "      <td>2</td>\n",
       "      <td>0.0</td>\n",
       "      <td>0</td>\n",
       "      <td>0.0</td>\n",
       "      <td>-0.016014</td>\n",
       "      <td>0.476147</td>\n",
       "      <td>0.609859</td>\n",
       "      <td>-0.0</td>\n",
       "      <td>0.338063</td>\n",
       "      <td>0.402229</td>\n",
       "    </tr>\n",
       "    <tr>\n",
       "      <th>2022-05-12</th>\n",
       "      <td>389.369995</td>\n",
       "      <td>384.375732</td>\n",
       "      <td>125090800</td>\n",
       "      <td>-0.001044</td>\n",
       "      <td>0.027652</td>\n",
       "      <td>402.044624</td>\n",
       "      <td>412.501994</td>\n",
       "      <td>2</td>\n",
       "      <td>0.0</td>\n",
       "      <td>0</td>\n",
       "      <td>0.0</td>\n",
       "      <td>-0.001044</td>\n",
       "      <td>0.475102</td>\n",
       "      <td>0.608179</td>\n",
       "      <td>0.0</td>\n",
       "      <td>0.338063</td>\n",
       "      <td>0.402229</td>\n",
       "    </tr>\n",
       "    <tr>\n",
       "      <th>2022-05-13</th>\n",
       "      <td>396.709991</td>\n",
       "      <td>393.565338</td>\n",
       "      <td>104174400</td>\n",
       "      <td>0.023908</td>\n",
       "      <td>0.019135</td>\n",
       "      <td>400.775098</td>\n",
       "      <td>410.561723</td>\n",
       "      <td>2</td>\n",
       "      <td>0.0</td>\n",
       "      <td>0</td>\n",
       "      <td>0.0</td>\n",
       "      <td>0.023627</td>\n",
       "      <td>0.498729</td>\n",
       "      <td>0.646627</td>\n",
       "      <td>0.0</td>\n",
       "      <td>0.338063</td>\n",
       "      <td>0.402229</td>\n",
       "    </tr>\n",
       "    <tr>\n",
       "      <th>2022-05-16</th>\n",
       "      <td>399.980011</td>\n",
       "      <td>391.968414</td>\n",
       "      <td>78622400</td>\n",
       "      <td>-0.004058</td>\n",
       "      <td>0.016021</td>\n",
       "      <td>398.511991</td>\n",
       "      <td>408.802929</td>\n",
       "      <td>2</td>\n",
       "      <td>0.0</td>\n",
       "      <td>0</td>\n",
       "      <td>0.0</td>\n",
       "      <td>-0.004066</td>\n",
       "      <td>0.494663</td>\n",
       "      <td>0.639946</td>\n",
       "      <td>0.0</td>\n",
       "      <td>0.338063</td>\n",
       "      <td>0.402229</td>\n",
       "    </tr>\n",
       "  </tbody>\n",
       "</table>\n",
       "</div>"
      ],
      "text/plain": [
       "                  Open   Adj Close     Volume   Returns     Range       MA_12  \\\n",
       "Date                                                                            \n",
       "2022-05-10  404.489990  390.988678  132497200  0.002311  0.028519  406.903938   \n",
       "2022-05-11  398.070007  384.777405  142361000 -0.015886  0.030820  403.984431   \n",
       "2022-05-12  389.369995  384.375732  125090800 -0.001044  0.027652  402.044624   \n",
       "2022-05-13  396.709991  393.565338  104174400  0.023908  0.019135  400.775098   \n",
       "2022-05-16  399.980011  391.968414   78622400 -0.004058  0.016021  398.511991   \n",
       "\n",
       "                 MA_21  HMM  MA_Signal  HMM_Signal  Main_Signal  lrets_bench  \\\n",
       "Date                                                                           \n",
       "2022-05-10  416.846266    2        0.0           0          0.0     0.002308   \n",
       "2022-05-11  414.645672    2        0.0           0          0.0    -0.016014   \n",
       "2022-05-12  412.501994    2        0.0           0          0.0    -0.001044   \n",
       "2022-05-13  410.561723    2        0.0           0          0.0     0.023627   \n",
       "2022-05-16  408.802929    2        0.0           0          0.0    -0.004066   \n",
       "\n",
       "            bench_prod  bench_prod_exp  lrets_strat  lrets_prod  \\\n",
       "Date                                                              \n",
       "2022-05-10    0.492160        0.635846         -0.0    0.338063   \n",
       "2022-05-11    0.476147        0.609859         -0.0    0.338063   \n",
       "2022-05-12    0.475102        0.608179          0.0    0.338063   \n",
       "2022-05-13    0.498729        0.646627          0.0    0.338063   \n",
       "2022-05-16    0.494663        0.639946          0.0    0.338063   \n",
       "\n",
       "            strat_prod_exp  \n",
       "Date                        \n",
       "2022-05-10        0.402229  \n",
       "2022-05-11        0.402229  \n",
       "2022-05-12        0.402229  \n",
       "2022-05-13        0.402229  \n",
       "2022-05-16        0.402229  "
      ]
     },
     "execution_count": 96,
     "metadata": {},
     "output_type": "execute_result"
    }
   ],
   "source": [
    "# Review results table\n",
    "df_main.dropna(inplace=True)\n",
    "df_main.tail()"
   ]
  },
  {
   "cell_type": "code",
   "execution_count": 97,
   "metadata": {},
   "outputs": [],
   "source": [
    "# Sharpe Ratio Function\n",
    "def sharpe_ratio(returns_series):\n",
    "    N = 255\n",
    "    NSQRT = np.sqrt(N)\n",
    "    rf = 0.01\n",
    "    mean = returns_series.mean() * N\n",
    "    sigma = returns_series.std() * NSQRT\n",
    "    sharpe_ratio = round((mean - rf) / sigma, 2)\n",
    "    return sharpe_ratio\n",
    "    "
   ]
  },
  {
   "cell_type": "code",
   "execution_count": 98,
   "metadata": {},
   "outputs": [],
   "source": [
    "# MEtrics\n",
    "bench_rets = round(df_main[\"bench_prod_exp\"].values[-1] * 100, 1)\n",
    "strat_rets = round(df_main[\"strat_prod_exp\"].values[-1] * 100, 1)\n",
    "\n",
    "bench_sharpe = sharpe_ratio(df_main[\"lrets_bench\"].values)\n",
    "strat_sharpe = sharpe_ratio(df_main[\"lrets_strat\"].values)"
   ]
  },
  {
   "cell_type": "code",
   "execution_count": 99,
   "metadata": {},
   "outputs": [
    {
     "name": "stdout",
     "output_type": "stream",
     "text": [
      "Returns Benchmark: 64.0%\n",
      "Returns Strategy: 40.2%\n",
      "--- --- --- --- ----\n",
      "Sharpe Benchmark: 0.63\n",
      "Sharpe Strategy: 1.2\n"
     ]
    }
   ],
   "source": [
    "# Print Metrics\n",
    "print(f\"Returns Benchmark: {bench_rets}%\")\n",
    "print(f\"Returns Strategy: {strat_rets}%\")\n",
    "print(\"--- --- --- --- ----\")\n",
    "print(f\"Sharpe Benchmark: {bench_sharpe}\")\n",
    "print(f\"Sharpe Strategy: {strat_sharpe}\")\n",
    "\n"
   ]
  },
  {
   "attachments": {},
   "cell_type": "markdown",
   "metadata": {},
   "source": [
    "### Plot Equity Curves"
   ]
  },
  {
   "cell_type": "code",
   "execution_count": 100,
   "metadata": {},
   "outputs": [
    {
     "data": {
      "image/png": "[encoded data removed]",
      "text/plain": [
       "<Figure size 1800x1000 with 1 Axes>"
      ]
     },
     "metadata": {},
     "output_type": "display_data"
    }
   ],
   "source": [
    "fig = plt.figure(figsize  = (18, 10))\n",
    "plt.plot(df_main[\"bench_prod_exp\"])\n",
    "plt.plot(df_main[\"strat_prod_exp\"])\n",
    "plt.show()\n"
   ]
  },
  {
   "cell_type": "markdown",
   "metadata": {},
   "source": [
    "### Save Data"
   ]
  },
  {
   "cell_type": "code",
   "execution_count": 101,
   "metadata": {},
   "outputs": [],
   "source": [
    "# Save Data\n",
    "\n",
    "df_main.to_csv(\"data/HMM_SPY.csv\")"
   ]
  },
  {
   "cell_type": "code",
   "execution_count": null,
   "metadata": {},
   "outputs": [],
   "source": []
  }
 ],
 "metadata": {
  "kernelspec": {
   "display_name": "statarb",
   "language": "python",
   "name": "python3"
  },
  "language_info": {
   "codemirror_mode": {
    "name": "ipython",
    "version": 3
   },
   "file_extension": ".py",
   "mimetype": "text/x-python",
   "name": "python",
   "nbconvert_exporter": "python",
   "pygments_lexer": "ipython3",
   "version": "3.11.3"
  },
  "orig_nbformat": 4
 },
 "nbformat": 4,
 "nbformat_minor": 2
}

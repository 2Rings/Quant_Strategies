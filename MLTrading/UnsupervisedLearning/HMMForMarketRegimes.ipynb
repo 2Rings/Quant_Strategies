{
 "cells": [
  {
   "cell_type": "code",
   "execution_count": 1,
   "metadata": {},
   "outputs": [],
   "source": [
    "import pandas as pd\n",
    "import numpy as np\n",
    "\n",
    "# !pip install pyhhmm\n",
    "from pyhhmm.gaussian import GaussianHMM\n",
    "# from hmmlearn.hmm import GaussianHMM\n",
    "from pandas_datareader import data as pdr\n",
    "import yfinance as yf\n",
    "import matplotlib.pyplot as plt\n",
    "\n"
   ]
  },
  {
   "attachments": {},
   "cell_type": "markdown",
   "metadata": {},
   "source": [
    "### Data Management"
   ]
  },
  {
   "cell_type": "code",
   "execution_count": 2,
   "metadata": {},
   "outputs": [
    {
     "name": "stdout",
     "output_type": "stream",
     "text": [
      "[*********************100%***********************]  1 of 1 completed\n"
     ]
    }
   ],
   "source": [
    "# Data Extraction\n",
    "\n",
    "start_date = '2017-01-01'\n",
    "end_date= '2022-06-01'\n",
    "symbol = 'SPY'\n",
    "yf.pdr_override()\n",
    "# df = DataReader(name=symbol, data_source='yahoo', start=start_date, end=end_date)\n",
    "df = pdr.get_data_yahoo(symbol, start=start_date, end=end_date)\n",
    "data = df[[\"Open\", \"High\", \"Low\", \"Adj Close\", \"Volume\"]]"
   ]
  },
  {
   "cell_type": "code",
   "execution_count": 3,
   "metadata": {},
   "outputs": [
    {
     "data": {
      "text/html": [
       "<div>\n",
       "<style scoped>\n",
       "    .dataframe tbody tr th:only-of-type {\n",
       "        vertical-align: middle;\n",
       "    }\n",
       "\n",
       "    .dataframe tbody tr th {\n",
       "        vertical-align: top;\n",
       "    }\n",
       "\n",
       "    .dataframe thead th {\n",
       "        text-align: right;\n",
       "    }\n",
       "</style>\n",
       "<table border=\"1\" class=\"dataframe\">\n",
       "  <thead>\n",
       "    <tr style=\"text-align: right;\">\n",
       "      <th></th>\n",
       "      <th>Open</th>\n",
       "      <th>High</th>\n",
       "      <th>Low</th>\n",
       "      <th>Adj Close</th>\n",
       "      <th>Volume</th>\n",
       "      <th>Returns</th>\n",
       "      <th>Range</th>\n",
       "    </tr>\n",
       "    <tr>\n",
       "      <th>Date</th>\n",
       "      <th></th>\n",
       "      <th></th>\n",
       "      <th></th>\n",
       "      <th></th>\n",
       "      <th></th>\n",
       "      <th></th>\n",
       "      <th></th>\n",
       "    </tr>\n",
       "  </thead>\n",
       "  <tbody>\n",
       "    <tr>\n",
       "      <th>2017-01-04</th>\n",
       "      <td>225.619995</td>\n",
       "      <td>226.750000</td>\n",
       "      <td>225.610001</td>\n",
       "      <td>202.535187</td>\n",
       "      <td>78744400</td>\n",
       "      <td>0.005949</td>\n",
       "      <td>0.005053</td>\n",
       "    </tr>\n",
       "    <tr>\n",
       "      <th>2017-01-05</th>\n",
       "      <td>226.270004</td>\n",
       "      <td>226.580002</td>\n",
       "      <td>225.479996</td>\n",
       "      <td>202.374252</td>\n",
       "      <td>78379000</td>\n",
       "      <td>-0.000795</td>\n",
       "      <td>0.004879</td>\n",
       "    </tr>\n",
       "    <tr>\n",
       "      <th>2017-01-06</th>\n",
       "      <td>226.529999</td>\n",
       "      <td>227.750000</td>\n",
       "      <td>225.899994</td>\n",
       "      <td>203.098312</td>\n",
       "      <td>71559900</td>\n",
       "      <td>0.003578</td>\n",
       "      <td>0.008189</td>\n",
       "    </tr>\n",
       "    <tr>\n",
       "      <th>2017-01-09</th>\n",
       "      <td>226.910004</td>\n",
       "      <td>227.070007</td>\n",
       "      <td>226.419998</td>\n",
       "      <td>202.427917</td>\n",
       "      <td>46939700</td>\n",
       "      <td>-0.003301</td>\n",
       "      <td>0.002871</td>\n",
       "    </tr>\n",
       "    <tr>\n",
       "      <th>2017-01-10</th>\n",
       "      <td>226.479996</td>\n",
       "      <td>227.449997</td>\n",
       "      <td>226.009995</td>\n",
       "      <td>202.427917</td>\n",
       "      <td>63771900</td>\n",
       "      <td>0.000000</td>\n",
       "      <td>0.006371</td>\n",
       "    </tr>\n",
       "  </tbody>\n",
       "</table>\n",
       "</div>"
      ],
      "text/plain": [
       "                  Open        High         Low   Adj Close    Volume  \\\n",
       "Date                                                                   \n",
       "2017-01-04  225.619995  226.750000  225.610001  202.535187  78744400   \n",
       "2017-01-05  226.270004  226.580002  225.479996  202.374252  78379000   \n",
       "2017-01-06  226.529999  227.750000  225.899994  203.098312  71559900   \n",
       "2017-01-09  226.910004  227.070007  226.419998  202.427917  46939700   \n",
       "2017-01-10  226.479996  227.449997  226.009995  202.427917  63771900   \n",
       "\n",
       "             Returns     Range  \n",
       "Date                            \n",
       "2017-01-04  0.005949  0.005053  \n",
       "2017-01-05 -0.000795  0.004879  \n",
       "2017-01-06  0.003578  0.008189  \n",
       "2017-01-09 -0.003301  0.002871  \n",
       "2017-01-10  0.000000  0.006371  "
      ]
     },
     "execution_count": 3,
     "metadata": {},
     "output_type": "execute_result"
    }
   ],
   "source": [
    "df = data.copy()\n",
    "df[\"Returns\"] = (df[\"Adj Close\"] / df[\"Adj Close\"].shift(1)) - 1\n",
    "df[\"Range\"] = (df[\"High\"]/df[\"Low\"]) - 1\n",
    "df.dropna(inplace=True)\n",
    "df.head()"
   ]
  },
  {
   "cell_type": "code",
   "execution_count": 4,
   "metadata": {},
   "outputs": [
    {
     "data": {
      "text/html": [
       "<div>\n",
       "<style scoped>\n",
       "    .dataframe tbody tr th:only-of-type {\n",
       "        vertical-align: middle;\n",
       "    }\n",
       "\n",
       "    .dataframe tbody tr th {\n",
       "        vertical-align: top;\n",
       "    }\n",
       "\n",
       "    .dataframe thead th {\n",
       "        text-align: right;\n",
       "    }\n",
       "</style>\n",
       "<table border=\"1\" class=\"dataframe\">\n",
       "  <thead>\n",
       "    <tr style=\"text-align: right;\">\n",
       "      <th></th>\n",
       "      <th>Returns</th>\n",
       "      <th>Range</th>\n",
       "    </tr>\n",
       "    <tr>\n",
       "      <th>Date</th>\n",
       "      <th></th>\n",
       "      <th></th>\n",
       "    </tr>\n",
       "  </thead>\n",
       "  <tbody>\n",
       "    <tr>\n",
       "      <th>2017-01-04</th>\n",
       "      <td>0.005949</td>\n",
       "      <td>0.005053</td>\n",
       "    </tr>\n",
       "    <tr>\n",
       "      <th>2017-01-05</th>\n",
       "      <td>-0.000795</td>\n",
       "      <td>0.004879</td>\n",
       "    </tr>\n",
       "    <tr>\n",
       "      <th>2017-01-06</th>\n",
       "      <td>0.003578</td>\n",
       "      <td>0.008189</td>\n",
       "    </tr>\n",
       "    <tr>\n",
       "      <th>2017-01-09</th>\n",
       "      <td>-0.003301</td>\n",
       "      <td>0.002871</td>\n",
       "    </tr>\n",
       "    <tr>\n",
       "      <th>2017-01-10</th>\n",
       "      <td>0.000000</td>\n",
       "      <td>0.006371</td>\n",
       "    </tr>\n",
       "  </tbody>\n",
       "</table>\n",
       "</div>"
      ],
      "text/plain": [
       "             Returns     Range\n",
       "Date                          \n",
       "2017-01-04  0.005949  0.005053\n",
       "2017-01-05 -0.000795  0.004879\n",
       "2017-01-06  0.003578  0.008189\n",
       "2017-01-09 -0.003301  0.002871\n",
       "2017-01-10  0.000000  0.006371"
      ]
     },
     "execution_count": 4,
     "metadata": {},
     "output_type": "execute_result"
    }
   ],
   "source": [
    "X_train = df[[\"Returns\", \"Range\"]]\n",
    "X_train.head()"
   ]
  },
  {
   "attachments": {},
   "cell_type": "markdown",
   "metadata": {},
   "source": [
    "### HMM Learning"
   ]
  },
  {
   "cell_type": "code",
   "execution_count": 5,
   "metadata": {},
   "outputs": [],
   "source": [
    "# hmm_model = GaussianHMM(n_components=4, covariance_type=\"full\", n_iter=100).fit(X_train)\n"
   ]
  },
  {
   "cell_type": "code",
   "execution_count": 6,
   "metadata": {},
   "outputs": [
    {
     "name": "stderr",
     "output_type": "stream",
     "text": [
      "f:\\anaconda3\\envs\\statarb\\Lib\\site-packages\\sklearn\\cluster\\_kmeans.py:870: FutureWarning: The default value of `n_init` will change from 10 to 'auto' in 1.4. Set the value of `n_init` explicitly to suppress the warning\n",
      "  warnings.warn(\n",
      "f:\\anaconda3\\envs\\statarb\\Lib\\site-packages\\sklearn\\cluster\\_kmeans.py:1382: UserWarning: KMeans is known to have a memory leak on Windows with MKL, when there are less chunks than available threads. You can avoid it by setting the environment variable OMP_NUM_THREADS=6.\n",
      "  warnings.warn(\n"
     ]
    },
    {
     "data": {
      "text/plain": [
       "(<pyhhmm.gaussian.GaussianHMM at 0x223af0d8a90>, 9629.4286372624)"
      ]
     },
     "execution_count": 6,
     "metadata": {},
     "output_type": "execute_result"
    }
   ],
   "source": [
    "model = GaussianHMM(n_states=4, covariance_type=\"full\", n_emissions=2)\n",
    "model.train([np.array(X_train.values)])"
   ]
  },
  {
   "cell_type": "code",
   "execution_count": 11,
   "metadata": {},
   "outputs": [
    {
     "data": {
      "text/plain": [
       "array([2, 2, 2, 2, 2, 2, 2, 2, 2, 2, 2, 2, 2, 2, 2, 2, 2, 2, 2, 2, 2, 2,\n",
       "       2, 2, 2, 2, 2, 2, 2, 2, 2, 2, 2, 2, 2, 2, 2, 2, 2, 2])"
      ]
     },
     "execution_count": 11,
     "metadata": {},
     "output_type": "execute_result"
    }
   ],
   "source": [
    "# Check Results\n",
    "# hidden_states = hmm_model.predict(X_train)\n",
    "hidden_states = model.predict([X_train.values])[0]\n",
    "hidden_states[:40]"
   ]
  },
  {
   "cell_type": "code",
   "execution_count": 13,
   "metadata": {},
   "outputs": [
    {
     "data": {
      "text/plain": [
       "array([[ 0.00109553,  0.01410238],\n",
       "       [-0.00695037,  0.0234371 ],\n",
       "       [ 0.0019878 ,  0.00736758],\n",
       "       [ 0.02697556,  0.03625557]])"
      ]
     },
     "execution_count": 13,
     "metadata": {},
     "output_type": "execute_result"
    }
   ],
   "source": [
    "model.means"
   ]
  },
  {
   "cell_type": "code",
   "execution_count": 14,
   "metadata": {},
   "outputs": [
    {
     "data": {
      "text/plain": [
       "array([[[ 2.97554375e-04,  1.90174963e-04],\n",
       "        [ 1.90174963e-04,  2.08037097e-04]],\n",
       "\n",
       "       [[ 4.01629730e-04, -7.93057289e-05],\n",
       "        [-7.93057289e-05,  1.75956744e-04]],\n",
       "\n",
       "       [[ 4.04216219e-05,  1.33284245e-05],\n",
       "        [ 1.33284245e-05,  2.21428035e-05]],\n",
       "\n",
       "       [[ 1.08640014e-03,  8.08237633e-04],\n",
       "        [ 8.08237633e-04,  8.56966585e-04]]])"
      ]
     },
     "execution_count": 14,
     "metadata": {},
     "output_type": "execute_result"
    }
   ],
   "source": [
    "# Regime state covars for each feature\n",
    "model.covars"
   ]
  },
  {
   "cell_type": "markdown",
   "metadata": {},
   "source": [
    "### Data Visualization"
   ]
  },
  {
   "cell_type": "code",
   "execution_count": 17,
   "metadata": {},
   "outputs": [
    {
     "name": "stdout",
     "output_type": "stream",
     "text": [
      "Correct number of rows:  True\n"
     ]
    }
   ],
   "source": [
    "# Structure the prices for plotting\n",
    "i = 0\n",
    "labels_0 = []\n",
    "labels_1 = []\n",
    "labels_2 = []\n",
    "labels_3 = []\n",
    "\n",
    "prices = df[\"Adj Close\"].values.astype(float)\n",
    "print(\"Correct number of rows: \", len( prices ) == len( hidden_states ))\n",
    "\n",
    "for s in hidden_states:\n",
    "    if s == 0:\n",
    "        labels_0.append(prices[i])\n",
    "        labels_1.append(float('nan'))\n",
    "        labels_2.append(float('nan'))\n",
    "        labels_3.append(float('nan'))\n",
    "    if s == 1:\n",
    "        labels_0.append(float('nan'))\n",
    "        labels_1.append(prices[i])\n",
    "        labels_2.append(float('nan'))\n",
    "        labels_3.append(float('nan'))\n",
    "    if s == 2:\n",
    "        labels_0.append(float('nan'))\n",
    "        labels_1.append(float('nan'))\n",
    "        labels_2.append(prices[i])\n",
    "        labels_3.append(float('nan'))\n",
    "    if s == 3:\n",
    "        labels_0.append(float('nan'))\n",
    "        labels_1.append(float('nan'))\n",
    "        labels_2.append(float('nan'))\n",
    "        labels_3.append(prices[i])\n",
    "    i += 1"
   ]
  },
  {
   "cell_type": "code",
   "execution_count": 19,
   "metadata": {},
   "outputs": [
    {
     "data": {
      "image/png": "[encoded data removed]",
      "text/plain": [
       "<Figure size 1800x800 with 1 Axes>"
      ]
     },
     "metadata": {},
     "output_type": "display_data"
    }
   ],
   "source": [
    "fig = plt.figure(figsize = (18, 8) )\n",
    "plt.plot(labels_0, color = \"red\")\n",
    "plt.plot(labels_1, color = \"orange\")\n",
    "plt.plot(labels_2, color = \"green\")\n",
    "plt.plot(labels_3, color = \"black\")\n",
    "plt.show()\n"
   ]
  },
  {
   "cell_type": "code",
   "execution_count": null,
   "metadata": {},
   "outputs": [],
   "source": []
  }
 ],
 "metadata": {
  "kernelspec": {
   "display_name": "statarb",
   "language": "python",
   "name": "python3"
  },
  "language_info": {
   "codemirror_mode": {
    "name": "ipython",
    "version": 3
   },
   "file_extension": ".py",
   "mimetype": "text/x-python",
   "name": "python",
   "nbconvert_exporter": "python",
   "pygments_lexer": "ipython3",
   "version": "3.11.3"
  },
  "orig_nbformat": 4
 },
 "nbformat": 4,
 "nbformat_minor": 2
}

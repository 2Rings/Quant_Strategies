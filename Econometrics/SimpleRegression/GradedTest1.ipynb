{
 "cells": [
  {
   "cell_type": "code",
   "execution_count": 29,
   "metadata": {},
   "outputs": [],
   "source": [
    "import pandas as pd\n",
    "import numpy as np\n",
    "import math\n",
    "import matplotlib.pyplot as plt\n"
   ]
  },
  {
   "cell_type": "code",
   "execution_count": 3,
   "metadata": {},
   "outputs": [],
   "source": [
    "data = pd.read_excel('DataSet.xls')"
   ]
  },
  {
   "cell_type": "markdown",
   "metadata": {},
   "source": [
    "### Simple Regression"
   ]
  },
  {
   "cell_type": "code",
   "execution_count": 67,
   "metadata": {},
   "outputs": [],
   "source": [
    "X = data.Age\n",
    "Y = data.Expenditures"
   ]
  },
  {
   "cell_type": "markdown",
   "metadata": {},
   "source": [
    "## Question 1"
   ]
  },
  {
   "cell_type": "markdown",
   "metadata": {},
   "source": [
    "### Coefficients"
   ]
  },
  {
   "cell_type": "code",
   "execution_count": 19,
   "metadata": {},
   "outputs": [
    {
     "data": {
      "text/plain": [
       "(114.24110795493151, -0.3335960966062749)"
      ]
     },
     "execution_count": 19,
     "metadata": {},
     "output_type": "execute_result"
    }
   ],
   "source": [
    "b = (X*Y - X*Y.mean()).sum()/(X*X - X*X.mean()).sum()\n",
    "a = Y.mean() - b*X.mean()\n",
    "a, b"
   ]
  },
  {
   "cell_type": "markdown",
   "metadata": {},
   "source": [
    "### Standard Error"
   ]
  },
  {
   "cell_type": "code",
   "execution_count": 34,
   "metadata": {},
   "outputs": [
    {
     "name": "stdout",
     "output_type": "stream",
     "text": [
      "standard error is 5.073\n"
     ]
    }
   ],
   "source": [
    "error            = Y - (a + b*X)\n",
    "Sum_Square_Error = ( error**2).sum()\n",
    "n = data.shape[0]\n",
    "stdev = math.sqrt(1/(n-2)*Sum_Square_Error)\n",
    "# logging.info(f'standard error is {round(standard_error, 3)}')\n",
    "print(f'standard error is {round(standard_error, 3)}')"
   ]
  },
  {
   "cell_type": "code",
   "execution_count": 41,
   "metadata": {},
   "outputs": [
    {
     "name": "stdout",
     "output_type": "stream",
     "text": [
      "beta is -0.33359609660627315\n"
     ]
    }
   ],
   "source": [
    "C = (X-X.mean())/((X-X.mean())**2).sum()\n",
    "beta = b - (C*error).sum()\n",
    "\n",
    "print(f'beta is {beta}')"
   ]
  },
  {
   "cell_type": "code",
   "execution_count": 42,
   "metadata": {},
   "outputs": [
    {
     "name": "stdout",
     "output_type": "stream",
     "text": [
      "s_b is 0.00909528102577286\n"
     ]
    }
   ],
   "source": [
    "\n",
    "s_b = stdev ** 2 / ((X-X.mean())**2).sum()\n",
    "print(f's_b is {s_b}')"
   ]
  },
  {
   "cell_type": "code",
   "execution_count": 43,
   "metadata": {},
   "outputs": [
    {
     "name": "stdout",
     "output_type": "stream",
     "text": [
      "t distribution of beta is -1.892020360110606e-13\n"
     ]
    }
   ],
   "source": [
    "t_beta = (b-beta)/s_b\n",
    "print(f't distribution of beta is {t_beta}')"
   ]
  },
  {
   "cell_type": "markdown",
   "metadata": {},
   "source": [
    "### Answer 1"
   ]
  },
  {
   "cell_type": "code",
   "execution_count": 58,
   "metadata": {},
   "outputs": [
    {
     "name": "stdout",
     "output_type": "stream",
     "text": [
      "Answer of question 1:\n",
      "Value of intercept a is 114.2411\n",
      "Value of coefficient b is -0.3336\n",
      "Standard Error is 5.0733\n",
      "t distribution of beta is -1.892020360110606e-13\n"
     ]
    }
   ],
   "source": [
    "print('Answer of question 1:')\n",
    "print( f'Value of intercept a is {round(a, 4)}')\n",
    "print( f'Value of coefficient b is {round(b, 4)}')\n",
    "print( f'Standard Error is {round(stdev, 4)}')\n",
    "print( f't distribution of beta is {t_beta}')"
   ]
  },
  {
   "cell_type": "markdown",
   "metadata": {},
   "source": [
    "### Summarize solution 1 into function for following questions"
   ]
  },
  {
   "cell_type": "code",
   "execution_count": 71,
   "metadata": {},
   "outputs": [],
   "source": [
    "def calc_q1(df_data, group):\n",
    "    X = df_data.Age\n",
    "    Y = df_data.Expenditures\n",
    "    \n",
    "    b = (X*Y - X*Y.mean()).sum()/(X*X - X*X.mean()).sum()\n",
    "    a = Y.mean() - b*X.mean()\n",
    "    \n",
    "    error            = Y - (a + b*X)\n",
    "    Sum_Square_Error = ( error**2).sum()\n",
    "    n = data.shape[0]\n",
    "    stdev = math.sqrt(1/(n-2)*Sum_Square_Error)\n",
    "    \n",
    "    C = (X-X.mean())/((X-X.mean())**2).sum()\n",
    "    beta = b - (C*error).sum()\n",
    "    \n",
    "    s_b = stdev ** 2 / ((X-X.mean())**2).sum()\n",
    "    \n",
    "    t_beta = (b-beta)/s_b\n",
    "    \n",
    "    print( f'Present result for Age {group}')\n",
    "    print( f'Value of intercept a is {round(a, 4)}')\n",
    "    print( f'Value of coefficient b is {round(b, 4)}')\n",
    "    print( f'Standard Error is {round(stdev, 4)}')\n",
    "    print( f't distribution of beta is {t_beta}')\n",
    "    \n",
    "    return a, b, stdev, t_beta"
   ]
  },
  {
   "cell_type": "markdown",
   "metadata": {},
   "source": [
    "## Question 2"
   ]
  },
  {
   "cell_type": "code",
   "execution_count": 65,
   "metadata": {},
   "outputs": [
    {
     "data": {
      "image/png": "[encoded data removed]",
      "text/plain": [
       "<Figure size 1000x500 with 1 Axes>"
      ]
     },
     "metadata": {},
     "output_type": "display_data"
    }
   ],
   "source": [
    "plt.figure(figsize=(10, 5))\n",
    "plt.scatter(X, Y, label='raw data')\n",
    "plt.plot(X, a+b*X, color='r', linestyle='solid', label='regression line')\n",
    "plt.xlabel('Age')\n",
    "plt.ylabel('Expenditures')\n",
    "plt.title('Age Vs. Expenditure')\n",
    "plt.legend()\n",
    "plt.show()"
   ]
  },
  {
   "cell_type": "markdown",
   "metadata": {},
   "source": [
    "### Answer 2"
   ]
  },
  {
   "cell_type": "markdown",
   "metadata": {},
   "source": [
    "- 1. Based on regresion line, expense decreases as age increases\n",
    "- 2. Based on raw data points, these data can be separated into two groups and each group can be modeled separately."
   ]
  },
  {
   "cell_type": "markdown",
   "metadata": {},
   "source": [
    "### Question 3"
   ]
  },
  {
   "cell_type": "code",
   "execution_count": 76,
   "metadata": {},
   "outputs": [],
   "source": [
    "# Split group based on Age\n",
    "df_g1 = data[data.Age >= 40]\n",
    "df_g2 = data[data.Age < 40]"
   ]
  },
  {
   "cell_type": "markdown",
   "metadata": {},
   "source": [
    "### Answer 3"
   ]
  },
  {
   "cell_type": "code",
   "execution_count": 77,
   "metadata": {},
   "outputs": [
    {
     "name": "stdout",
     "output_type": "stream",
     "text": [
      "Present result for Age >= 40\n",
      "Value of intercept a is 88.8719\n",
      "Value of coefficient b is 0.1465\n",
      "Standard Error is 2.5949\n",
      "t distribution of beta is -5.782105357881236e-13\n"
     ]
    }
   ],
   "source": [
    "a1, b1, stdev1, t_beta1 = calc_q1(df_g1, group='>= 40')\n"
   ]
  },
  {
   "cell_type": "code",
   "execution_count": 78,
   "metadata": {},
   "outputs": [
    {
     "name": "stdout",
     "output_type": "stream",
     "text": [
      "Present result for Age < 40\n",
      "Value of intercept a is 100.2323\n",
      "Value of coefficient b is 0.198\n",
      "Standard Error is 0.7806\n",
      "t distribution of beta is 1.998185385211897e-12\n"
     ]
    }
   ],
   "source": [
    "a2, b2, stdev2, t_beta2 = calc_q1(df_g2, group='< 40')"
   ]
  },
  {
   "cell_type": "markdown",
   "metadata": {},
   "source": [
    "### Question 4 and Answer 4"
   ]
  },
  {
   "cell_type": "markdown",
   "metadata": {},
   "source": [
    "- 1. in a) we can see the Age and Expenditure are negative related. However, in c), for each group, Age and Expenditure are possitive related.\n",
    "- 2. Based on standard error, models in c) have smaller standard error and can model the dataset better than a)"
   ]
  },
  {
   "cell_type": "markdown",
   "metadata": {},
   "source": []
  }
 ],
 "metadata": {
  "kernelspec": {
   "display_name": "fin_py10",
   "language": "python",
   "name": "python3"
  },
  "language_info": {
   "codemirror_mode": {
    "name": "ipython",
    "version": 3
   },
   "file_extension": ".py",
   "mimetype": "text/x-python",
   "name": "python",
   "nbconvert_exporter": "python",
   "pygments_lexer": "ipython3",
   "version": "3.11.3"
  },
  "orig_nbformat": 4
 },
 "nbformat": 4,
 "nbformat_minor": 2
}

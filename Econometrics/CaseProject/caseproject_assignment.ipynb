{
 "cells": [
  {
   "cell_type": "code",
   "execution_count": 1,
   "metadata": {},
   "outputs": [],
   "source": [
    "import pandas as pd\n",
    "import numpy as np\n",
    "import math\n",
    "import matplotlib.pyplot as plt\n",
    "import statsmodels.api as sm\n",
    "from patsy import dmatrices\n",
    "from scipy import stats"
   ]
  },
  {
   "cell_type": "markdown",
   "metadata": {},
   "source": [
    "### Retrieve Data"
   ]
  },
  {
   "cell_type": "code",
   "execution_count": 2,
   "metadata": {},
   "outputs": [
    {
     "data": {
      "text/html": [
       "<div>\n",
       "<style scoped>\n",
       "    .dataframe tbody tr th:only-of-type {\n",
       "        vertical-align: middle;\n",
       "    }\n",
       "\n",
       "    .dataframe tbody tr th {\n",
       "        vertical-align: top;\n",
       "    }\n",
       "\n",
       "    .dataframe thead th {\n",
       "        text-align: right;\n",
       "    }\n",
       "</style>\n",
       "<table border=\"1\" class=\"dataframe\">\n",
       "  <thead>\n",
       "    <tr style=\"text-align: right;\">\n",
       "      <th></th>\n",
       "      <th>Date</th>\n",
       "      <th>GDP</th>\n",
       "      <th>GDPIMPR</th>\n",
       "      <th>LOGGDP</th>\n",
       "      <th>GrowthRate</th>\n",
       "      <th>li1</th>\n",
       "      <th>li2</th>\n",
       "      <th>T</th>\n",
       "      <th>GDP_L1</th>\n",
       "      <th>li1_L1</th>\n",
       "      <th>li2_L1</th>\n",
       "      <th>li1_L2</th>\n",
       "      <th>li2_L2</th>\n",
       "      <th>GrowthRate_L1</th>\n",
       "    </tr>\n",
       "  </thead>\n",
       "  <tbody>\n",
       "    <tr>\n",
       "      <th>0</th>\n",
       "      <td>1950Q1</td>\n",
       "      <td>94.300</td>\n",
       "      <td>NaN</td>\n",
       "      <td>4.546481</td>\n",
       "      <td>NaN</td>\n",
       "      <td>0</td>\n",
       "      <td>0</td>\n",
       "      <td>0</td>\n",
       "      <td>NaN</td>\n",
       "      <td>NaN</td>\n",
       "      <td>NaN</td>\n",
       "      <td>NaN</td>\n",
       "      <td>NaN</td>\n",
       "      <td>NaN</td>\n",
       "    </tr>\n",
       "    <tr>\n",
       "      <th>1</th>\n",
       "      <td>1950Q2</td>\n",
       "      <td>95.200</td>\n",
       "      <td>1.0</td>\n",
       "      <td>4.555980</td>\n",
       "      <td>0.009499</td>\n",
       "      <td>0</td>\n",
       "      <td>0</td>\n",
       "      <td>1</td>\n",
       "      <td>94.300</td>\n",
       "      <td>0.0</td>\n",
       "      <td>0.0</td>\n",
       "      <td>NaN</td>\n",
       "      <td>NaN</td>\n",
       "      <td>NaN</td>\n",
       "    </tr>\n",
       "    <tr>\n",
       "      <th>2</th>\n",
       "      <td>1950Q3</td>\n",
       "      <td>97.663</td>\n",
       "      <td>1.0</td>\n",
       "      <td>4.581523</td>\n",
       "      <td>0.025543</td>\n",
       "      <td>3</td>\n",
       "      <td>1</td>\n",
       "      <td>2</td>\n",
       "      <td>95.200</td>\n",
       "      <td>0.0</td>\n",
       "      <td>0.0</td>\n",
       "      <td>0.0</td>\n",
       "      <td>0.0</td>\n",
       "      <td>0.009499</td>\n",
       "    </tr>\n",
       "    <tr>\n",
       "      <th>3</th>\n",
       "      <td>1950Q4</td>\n",
       "      <td>99.728</td>\n",
       "      <td>1.0</td>\n",
       "      <td>4.602446</td>\n",
       "      <td>0.020924</td>\n",
       "      <td>4</td>\n",
       "      <td>2</td>\n",
       "      <td>3</td>\n",
       "      <td>97.663</td>\n",
       "      <td>3.0</td>\n",
       "      <td>1.0</td>\n",
       "      <td>0.0</td>\n",
       "      <td>0.0</td>\n",
       "      <td>0.025543</td>\n",
       "    </tr>\n",
       "    <tr>\n",
       "      <th>4</th>\n",
       "      <td>1951Q1</td>\n",
       "      <td>100.445</td>\n",
       "      <td>1.0</td>\n",
       "      <td>4.609610</td>\n",
       "      <td>0.007164</td>\n",
       "      <td>2</td>\n",
       "      <td>1</td>\n",
       "      <td>4</td>\n",
       "      <td>99.728</td>\n",
       "      <td>4.0</td>\n",
       "      <td>2.0</td>\n",
       "      <td>3.0</td>\n",
       "      <td>1.0</td>\n",
       "      <td>0.020924</td>\n",
       "    </tr>\n",
       "  </tbody>\n",
       "</table>\n",
       "</div>"
      ],
      "text/plain": [
       "     Date      GDP  GDPIMPR    LOGGDP  GrowthRate  li1  li2  T  GDP_L1  \\\n",
       "0  1950Q1   94.300      NaN  4.546481         NaN    0    0  0     NaN   \n",
       "1  1950Q2   95.200      1.0  4.555980    0.009499    0    0  1  94.300   \n",
       "2  1950Q3   97.663      1.0  4.581523    0.025543    3    1  2  95.200   \n",
       "3  1950Q4   99.728      1.0  4.602446    0.020924    4    2  3  97.663   \n",
       "4  1951Q1  100.445      1.0  4.609610    0.007164    2    1  4  99.728   \n",
       "\n",
       "   li1_L1  li2_L1  li1_L2  li2_L2  GrowthRate_L1  \n",
       "0     NaN     NaN     NaN     NaN            NaN  \n",
       "1     0.0     0.0     NaN     NaN            NaN  \n",
       "2     0.0     0.0     0.0     0.0       0.009499  \n",
       "3     3.0     1.0     0.0     0.0       0.025543  \n",
       "4     4.0     2.0     3.0     1.0       0.020924  "
      ]
     },
     "execution_count": 2,
     "metadata": {},
     "output_type": "execute_result"
    }
   ],
   "source": [
    "gdp_data = pd.read_excel('GDP.xls') \n",
    "gdp_data['GDP_L1'] = gdp_data['GDP'].shift(1)\n",
    "gdp_data['li1_L1'] = gdp_data['li1'].shift(1)\n",
    "gdp_data['li2_L1'] = gdp_data['li2'].shift(1)\n",
    "gdp_data['li1_L2'] = gdp_data['li1'].shift(2)\n",
    "gdp_data['li2_L2'] = gdp_data['li2'].shift(2)\n",
    "gdp_data['GrowthRate_L1'] = gdp_data['GrowthRate'].shift(1)\n",
    "gdp_data.head()"
   ]
  },
  {
   "cell_type": "markdown",
   "metadata": {},
   "source": [
    "## Part A"
   ]
  },
  {
   "cell_type": "code",
   "execution_count": 3,
   "metadata": {},
   "outputs": [],
   "source": [
    "#Setting Start and End For model data\n",
    "start = '1951Q1'\n",
    "end = '2010Q4'"
   ]
  },
  {
   "cell_type": "code",
   "execution_count": 4,
   "metadata": {},
   "outputs": [],
   "source": [
    "data_a = gdp_data[['Date', 'li1_L1', 'li2_L1', 'GDPIMPR']]\n",
    "data_a = data_a[(data_a['Date']>=start)&(data_a['Date']<=end)]"
   ]
  },
  {
   "cell_type": "code",
   "execution_count": 5,
   "metadata": {},
   "outputs": [],
   "source": [
    "yA_full, xA_full = dmatrices('GDPIMPR~li1_L1+li2_L1', data_a)"
   ]
  },
  {
   "cell_type": "code",
   "execution_count": 6,
   "metadata": {},
   "outputs": [
    {
     "name": "stdout",
     "output_type": "stream",
     "text": [
      "Optimization terminated successfully.\n",
      "         Current function value: 0.559076\n",
      "         Iterations 5\n"
     ]
    },
    {
     "data": {
      "text/html": [
       "<table class=\"simpletable\">\n",
       "<tr>\n",
       "        <td>Model:</td>              <td>Logit</td>      <td>Pseudo R-squared:</td>    <td>0.122</td>  \n",
       "</tr>\n",
       "<tr>\n",
       "  <td>Dependent Variable:</td>      <td>GDPIMPR</td>           <td>AIC:</td>         <td>274.3565</td> \n",
       "</tr>\n",
       "<tr>\n",
       "         <td>Date:</td>        <td>2023-09-17 21:52</td>       <td>BIC:</td>         <td>284.7984</td> \n",
       "</tr>\n",
       "<tr>\n",
       "   <td>No. Observations:</td>         <td>240</td>        <td>Log-Likelihood:</td>    <td>-134.18</td> \n",
       "</tr>\n",
       "<tr>\n",
       "       <td>Df Model:</td>              <td>2</td>            <td>LL-Null:</td>        <td>-152.76</td> \n",
       "</tr>\n",
       "<tr>\n",
       "     <td>Df Residuals:</td>           <td>237</td>         <td>LLR p-value:</td>    <td>8.4833e-09</td>\n",
       "</tr>\n",
       "<tr>\n",
       "      <td>Converged:</td>           <td>1.0000</td>           <td>Scale:</td>         <td>1.0000</td>  \n",
       "</tr>\n",
       "<tr>\n",
       "    <td>No. Iterations:</td>        <td>5.0000</td>              <td></td>               <td></td>     \n",
       "</tr>\n",
       "</table>\n",
       "<table class=\"simpletable\">\n",
       "<tr>\n",
       "      <td></td>       <th>Coef.</th>  <th>Std.Err.</th>    <th>z</th>     <th>P>|z|</th> <th>[0.025</th>  <th>0.975]</th> \n",
       "</tr>\n",
       "<tr>\n",
       "  <th>Intercept</th> <td>0.7288</td>   <td>0.1536</td>  <td>4.7454</td>  <td>0.0000</td> <td>0.4278</td>  <td>1.0298</td> \n",
       "</tr>\n",
       "<tr>\n",
       "  <th>li1_L1</th>    <td>-0.3719</td>  <td>0.0727</td>  <td>-5.1176</td> <td>0.0000</td> <td>-0.5143</td> <td>-0.2294</td>\n",
       "</tr>\n",
       "<tr>\n",
       "  <th>li2_L1</th>    <td>-0.1203</td>  <td>0.0377</td>  <td>-3.1936</td> <td>0.0014</td> <td>-0.1941</td> <td>-0.0465</td>\n",
       "</tr>\n",
       "</table>"
      ],
      "text/plain": [
       "<class 'statsmodels.iolib.summary2.Summary'>\n",
       "\"\"\"\n",
       "                         Results: Logit\n",
       "=================================================================\n",
       "Model:              Logit            Pseudo R-squared: 0.122     \n",
       "Dependent Variable: GDPIMPR          AIC:              274.3565  \n",
       "Date:               2023-09-17 21:52 BIC:              284.7984  \n",
       "No. Observations:   240              Log-Likelihood:   -134.18   \n",
       "Df Model:           2                LL-Null:          -152.76   \n",
       "Df Residuals:       237              LLR p-value:      8.4833e-09\n",
       "Converged:          1.0000           Scale:            1.0000    \n",
       "No. Iterations:     5.0000                                       \n",
       "------------------------------------------------------------------\n",
       "               Coef.   Std.Err.     z     P>|z|    [0.025   0.975]\n",
       "------------------------------------------------------------------\n",
       "Intercept      0.7288    0.1536   4.7454  0.0000   0.4278   1.0298\n",
       "li1_L1        -0.3719    0.0727  -5.1176  0.0000  -0.5143  -0.2294\n",
       "li2_L1        -0.1203    0.0377  -3.1936  0.0014  -0.1941  -0.0465\n",
       "=================================================================\n",
       "\n",
       "\"\"\""
      ]
     },
     "execution_count": 6,
     "metadata": {},
     "output_type": "execute_result"
    }
   ],
   "source": [
    "model_A_full = sm.Logit(endog=yA_full, exog=xA_full).fit()\n",
    "model_A_full.summary2()\n"
   ]
  },
  {
   "cell_type": "code",
   "execution_count": 7,
   "metadata": {},
   "outputs": [],
   "source": [
    "yA_li1, xA_li1 = dmatrices('GDPIMPR~li1_L1', data_a)\n",
    "yA_li2, xA_li2 = dmatrices('GDPIMPR~li2_L1', data_a)"
   ]
  },
  {
   "cell_type": "code",
   "execution_count": 8,
   "metadata": {},
   "outputs": [
    {
     "name": "stdout",
     "output_type": "stream",
     "text": [
      "Optimization terminated successfully.\n",
      "         Current function value: 0.582277\n",
      "         Iterations 5\n",
      "Optimization terminated successfully.\n",
      "         Current function value: 0.623002\n",
      "         Iterations 5\n"
     ]
    }
   ],
   "source": [
    "model_A_li1 = sm.Logit(endog=yA_li1, exog=xA_li1).fit()\n",
    "model_A_li2 = sm.Logit(endog=yA_li2, exog=xA_li2).fit()\n"
   ]
  },
  {
   "cell_type": "code",
   "execution_count": 9,
   "metadata": {},
   "outputs": [
    {
     "data": {
      "text/html": [
       "<table class=\"simpletable\">\n",
       "<tr>\n",
       "        <td>Model:</td>              <td>Logit</td>      <td>Pseudo R-squared:</td>    <td>0.085</td>  \n",
       "</tr>\n",
       "<tr>\n",
       "  <td>Dependent Variable:</td>      <td>GDPIMPR</td>           <td>AIC:</td>         <td>283.4932</td> \n",
       "</tr>\n",
       "<tr>\n",
       "         <td>Date:</td>        <td>2023-09-17 21:52</td>       <td>BIC:</td>         <td>290.4544</td> \n",
       "</tr>\n",
       "<tr>\n",
       "   <td>No. Observations:</td>         <td>240</td>        <td>Log-Likelihood:</td>    <td>-139.75</td> \n",
       "</tr>\n",
       "<tr>\n",
       "       <td>Df Model:</td>              <td>1</td>            <td>LL-Null:</td>        <td>-152.76</td> \n",
       "</tr>\n",
       "<tr>\n",
       "     <td>Df Residuals:</td>           <td>238</td>         <td>LLR p-value:</td>    <td>3.3552e-07</td>\n",
       "</tr>\n",
       "<tr>\n",
       "      <td>Converged:</td>           <td>1.0000</td>           <td>Scale:</td>         <td>1.0000</td>  \n",
       "</tr>\n",
       "<tr>\n",
       "    <td>No. Iterations:</td>        <td>5.0000</td>              <td></td>               <td></td>     \n",
       "</tr>\n",
       "</table>\n",
       "<table class=\"simpletable\">\n",
       "<tr>\n",
       "      <td></td>       <th>Coef.</th>  <th>Std.Err.</th>    <th>z</th>     <th>P>|z|</th> <th>[0.025</th>  <th>0.975]</th> \n",
       "</tr>\n",
       "<tr>\n",
       "  <th>Intercept</th> <td>0.8120</td>   <td>0.1509</td>  <td>5.3831</td>  <td>0.0000</td> <td>0.5164</td>  <td>1.1077</td> \n",
       "</tr>\n",
       "<tr>\n",
       "  <th>li1_L1</th>    <td>-0.3404</td>  <td>0.0718</td>  <td>-4.7387</td> <td>0.0000</td> <td>-0.4812</td> <td>-0.1996</td>\n",
       "</tr>\n",
       "</table>"
      ],
      "text/plain": [
       "<class 'statsmodels.iolib.summary2.Summary'>\n",
       "\"\"\"\n",
       "                         Results: Logit\n",
       "=================================================================\n",
       "Model:              Logit            Pseudo R-squared: 0.085     \n",
       "Dependent Variable: GDPIMPR          AIC:              283.4932  \n",
       "Date:               2023-09-17 21:52 BIC:              290.4544  \n",
       "No. Observations:   240              Log-Likelihood:   -139.75   \n",
       "Df Model:           1                LL-Null:          -152.76   \n",
       "Df Residuals:       238              LLR p-value:      3.3552e-07\n",
       "Converged:          1.0000           Scale:            1.0000    \n",
       "No. Iterations:     5.0000                                       \n",
       "------------------------------------------------------------------\n",
       "               Coef.   Std.Err.     z     P>|z|    [0.025   0.975]\n",
       "------------------------------------------------------------------\n",
       "Intercept      0.8120    0.1509   5.3831  0.0000   0.5164   1.1077\n",
       "li1_L1        -0.3404    0.0718  -4.7387  0.0000  -0.4812  -0.1996\n",
       "=================================================================\n",
       "\n",
       "\"\"\""
      ]
     },
     "execution_count": 9,
     "metadata": {},
     "output_type": "execute_result"
    }
   ],
   "source": [
    "model_A_li1.summary2()"
   ]
  },
  {
   "cell_type": "code",
   "execution_count": 10,
   "metadata": {},
   "outputs": [
    {
     "data": {
      "text/html": [
       "<table class=\"simpletable\">\n",
       "<tr>\n",
       "        <td>Model:</td>              <td>Logit</td>      <td>Pseudo R-squared:</td>   <td>0.021</td> \n",
       "</tr>\n",
       "<tr>\n",
       "  <td>Dependent Variable:</td>      <td>GDPIMPR</td>           <td>AIC:</td>        <td>303.0409</td>\n",
       "</tr>\n",
       "<tr>\n",
       "         <td>Date:</td>        <td>2023-09-17 21:52</td>       <td>BIC:</td>        <td>310.0022</td>\n",
       "</tr>\n",
       "<tr>\n",
       "   <td>No. Observations:</td>         <td>240</td>        <td>Log-Likelihood:</td>   <td>-149.52</td>\n",
       "</tr>\n",
       "<tr>\n",
       "       <td>Df Model:</td>              <td>1</td>            <td>LL-Null:</td>       <td>-152.76</td>\n",
       "</tr>\n",
       "<tr>\n",
       "     <td>Df Residuals:</td>           <td>238</td>         <td>LLR p-value:</td>    <td>0.010874</td>\n",
       "</tr>\n",
       "<tr>\n",
       "      <td>Converged:</td>           <td>1.0000</td>           <td>Scale:</td>        <td>1.0000</td> \n",
       "</tr>\n",
       "<tr>\n",
       "    <td>No. Iterations:</td>        <td>5.0000</td>              <td></td>              <td></td>    \n",
       "</tr>\n",
       "</table>\n",
       "<table class=\"simpletable\">\n",
       "<tr>\n",
       "      <td></td>       <th>Coef.</th>  <th>Std.Err.</th>    <th>z</th>     <th>P>|z|</th> <th>[0.025</th>  <th>0.975]</th> \n",
       "</tr>\n",
       "<tr>\n",
       "  <th>Intercept</th> <td>0.6361</td>   <td>0.1395</td>  <td>4.5613</td>  <td>0.0000</td> <td>0.3628</td>  <td>0.9094</td> \n",
       "</tr>\n",
       "<tr>\n",
       "  <th>li2_L1</th>    <td>-0.0865</td>  <td>0.0349</td>  <td>-2.4759</td> <td>0.0133</td> <td>-0.1550</td> <td>-0.0180</td>\n",
       "</tr>\n",
       "</table>"
      ],
      "text/plain": [
       "<class 'statsmodels.iolib.summary2.Summary'>\n",
       "\"\"\"\n",
       "                        Results: Logit\n",
       "===============================================================\n",
       "Model:              Logit            Pseudo R-squared: 0.021   \n",
       "Dependent Variable: GDPIMPR          AIC:              303.0409\n",
       "Date:               2023-09-17 21:52 BIC:              310.0022\n",
       "No. Observations:   240              Log-Likelihood:   -149.52 \n",
       "Df Model:           1                LL-Null:          -152.76 \n",
       "Df Residuals:       238              LLR p-value:      0.010874\n",
       "Converged:          1.0000           Scale:            1.0000  \n",
       "No. Iterations:     5.0000                                     \n",
       "----------------------------------------------------------------\n",
       "             Coef.   Std.Err.     z     P>|z|    [0.025   0.975]\n",
       "----------------------------------------------------------------\n",
       "Intercept    0.6361    0.1395   4.5613  0.0000   0.3628   0.9094\n",
       "li2_L1      -0.0865    0.0349  -2.4759  0.0133  -0.1550  -0.0180\n",
       "===============================================================\n",
       "\n",
       "\"\"\""
      ]
     },
     "execution_count": 10,
     "metadata": {},
     "output_type": "execute_result"
    }
   ],
   "source": [
    "model_A_li2.summary2()"
   ]
  },
  {
   "cell_type": "code",
   "execution_count": 11,
   "metadata": {},
   "outputs": [],
   "source": [
    "# This is in the question table as well.\n",
    "const_ll = model_A_full.llnull\n",
    "full_ll = model_A_full.llf\n",
    "li1_ll = model_A_li1.llf\n",
    "li2_ll = model_A_li2.llf\n"
   ]
  },
  {
   "cell_type": "code",
   "execution_count": 12,
   "metadata": {},
   "outputs": [],
   "source": [
    "def likelihood_ratio(logL_b0, llgL_b1):\n",
    "    return 2.0*(logL_b0- llgL_b1)"
   ]
  },
  {
   "cell_type": "code",
   "execution_count": 13,
   "metadata": {},
   "outputs": [],
   "source": [
    "logL_ratio_li1 = likelihood_ratio(full_ll,li1_ll)\n",
    "logL_ratio_li2 = likelihood_ratio(full_ll,li2_ll)\n",
    "logL_ratio_const = likelihood_ratio(full_ll, const_ll)\n"
   ]
  },
  {
   "cell_type": "code",
   "execution_count": 14,
   "metadata": {},
   "outputs": [
    {
     "data": {
      "text/plain": [
       "(11.136692691751932, 30.68446592235142, 37.17033387318395)"
      ]
     },
     "execution_count": 14,
     "metadata": {},
     "output_type": "execute_result"
    }
   ],
   "source": [
    "logL_ratio_li1, logL_ratio_li2, logL_ratio_const"
   ]
  },
  {
   "cell_type": "code",
   "execution_count": 15,
   "metadata": {},
   "outputs": [
    {
     "data": {
      "text/plain": [
       "(3.355197087485361e-07, 0.01087354332878751, 8.483294700541989e-09)"
      ]
     },
     "execution_count": 15,
     "metadata": {},
     "output_type": "execute_result"
    }
   ],
   "source": [
    "#The chi-squared probability of getting a log-likelihood ratio statistic greater than llr. \n",
    "#llr has a chi-squared distribution with degrees of freedom df_model.\n",
    "model_A_li1.llr_pvalue, model_A_li2.llr_pvalue,  model_A_full.llr_pvalue"
   ]
  },
  {
   "cell_type": "markdown",
   "metadata": {},
   "source": [
    "###  Summary Answer A"
   ]
  },
  {
   "cell_type": "code",
   "execution_count": 16,
   "metadata": {},
   "outputs": [
    {
     "name": "stdout",
     "output_type": "stream",
     "text": [
      "Answer A:\n",
      "Likelihood Ratio of li1 is 11.137, p_value of the model with li1 is 0.0\n",
      "Likelihood Ratio of li2 is 30.684, p_value of the model with li2 is 0.011\n",
      "Likelihood Ratio of constant is 37.17\n",
      "p_value of the full model with li1 and li2 is 0.0\n",
      "Based on the p-vlaues, full model and li1 model are significant at 1% level and li2 model is significant at 5% level.\n"
     ]
    }
   ],
   "source": [
    "print(\"Answer A:\")\n",
    "print(f\"Likelihood Ratio of li1 is {round(logL_ratio_li1, 3)}, p_value of the model with li1 is {round(model_A_li1.llr_pvalue, 3)}\")\n",
    "print(f\"Likelihood Ratio of li2 is {round(logL_ratio_li2,3)}, p_value of the model with li2 is {round(model_A_li2.llr_pvalue, 3)}\")\n",
    "print(f\"Likelihood Ratio of constant is {round(logL_ratio_const , 3)}\")\n",
    "print(f\"p_value of the full model with li1 and li2 is {round(model_A_full.llr_pvalue, 3)}\")\n",
    "print(f\"Based on the p-vlaues, full model and li1 model are significant at 1% level and li2 model is significant at 5% level.\")\n"
   ]
  },
  {
   "cell_type": "markdown",
   "metadata": {},
   "source": [
    "## Part B"
   ]
  },
  {
   "cell_type": "code",
   "execution_count": 17,
   "metadata": {},
   "outputs": [],
   "source": [
    "# From the question we can get the likelihood of each model\n",
    "const_ll = -152.763\n",
    "model1_ll = -134.178\n",
    "model2_ll = -134.126\n",
    "model3_ll = -130.346\n",
    "model4_ll = -130.461\n"
   ]
  },
  {
   "cell_type": "code",
   "execution_count": 18,
   "metadata": {},
   "outputs": [],
   "source": [
    "def McFadden_R2(logL_b, logL_b1):\n",
    "    return 1 - logL_b/logL_b1"
   ]
  },
  {
   "cell_type": "code",
   "execution_count": 19,
   "metadata": {},
   "outputs": [],
   "source": [
    "Model_McFadden_R2 = []\n",
    "for i in [model1_ll, model2_ll, model3_ll, model4_ll]:\n",
    "    Model_McFadden_R2.append(McFadden_R2(i, const_ll))"
   ]
  },
  {
   "cell_type": "code",
   "execution_count": 20,
   "metadata": {},
   "outputs": [],
   "source": [
    "Model_MFR2_df = pd.DataFrame(np.array([Model_McFadden_R2]), columns = [\"model1\", \"model2\", \"model3\", \"model4\"])"
   ]
  },
  {
   "cell_type": "code",
   "execution_count": 21,
   "metadata": {},
   "outputs": [
    {
     "data": {
      "text/html": [
       "<div>\n",
       "<style scoped>\n",
       "    .dataframe tbody tr th:only-of-type {\n",
       "        vertical-align: middle;\n",
       "    }\n",
       "\n",
       "    .dataframe tbody tr th {\n",
       "        vertical-align: top;\n",
       "    }\n",
       "\n",
       "    .dataframe thead th {\n",
       "        text-align: right;\n",
       "    }\n",
       "</style>\n",
       "<table border=\"1\" class=\"dataframe\">\n",
       "  <thead>\n",
       "    <tr style=\"text-align: right;\">\n",
       "      <th></th>\n",
       "      <th>model1</th>\n",
       "      <th>model2</th>\n",
       "      <th>model3</th>\n",
       "      <th>model4</th>\n",
       "    </tr>\n",
       "  </thead>\n",
       "  <tbody>\n",
       "    <tr>\n",
       "      <th>0</th>\n",
       "      <td>0.121659</td>\n",
       "      <td>0.121999</td>\n",
       "      <td>0.146744</td>\n",
       "      <td>0.145991</td>\n",
       "    </tr>\n",
       "  </tbody>\n",
       "</table>\n",
       "</div>"
      ],
      "text/plain": [
       "     model1    model2    model3    model4\n",
       "0  0.121659  0.121999  0.146744  0.145991"
      ]
     },
     "execution_count": 21,
     "metadata": {},
     "output_type": "execute_result"
    }
   ],
   "source": [
    "Model_MFR2_df"
   ]
  },
  {
   "cell_type": "markdown",
   "metadata": {},
   "source": [
    "### Summary Answer B"
   ]
  },
  {
   "cell_type": "code",
   "execution_count": 22,
   "metadata": {},
   "outputs": [
    {
     "name": "stdout",
     "output_type": "stream",
     "text": [
      "Based on the McFadden_R2, the optimal model is model 3, which uses constatnt + li1(-2) + li2(-1).\n"
     ]
    }
   ],
   "source": [
    "print(\"Based on the McFadden_R2, the optimal model is model 3, which uses constatnt + li1(-2) + li2(-1).\")"
   ]
  },
  {
   "cell_type": "markdown",
   "metadata": {},
   "source": [
    "## Part C"
   ]
  },
  {
   "cell_type": "code",
   "execution_count": 23,
   "metadata": {},
   "outputs": [],
   "source": [
    "data_c = gdp_data[['Date', 'li1_L2', 'li2_L1', 'GDPIMPR']]\n",
    "train_c = data_c[(data_c['Date']>=start)&(data_c['Date']<=end)]\n",
    "predict_c = data_c[data_c['Date']>end]"
   ]
  },
  {
   "cell_type": "code",
   "execution_count": 24,
   "metadata": {},
   "outputs": [],
   "source": [
    "yC_train, xC_train = dmatrices('GDPIMPR~li1_L2+li2_L1', train_c)\n",
    "yC_target, xC_predict = dmatrices('GDPIMPR~li1_L2+li2_L1', predict_c)\n"
   ]
  },
  {
   "cell_type": "code",
   "execution_count": 25,
   "metadata": {},
   "outputs": [
    {
     "name": "stdout",
     "output_type": "stream",
     "text": [
      "Optimization terminated successfully.\n",
      "         Current function value: 0.543106\n",
      "         Iterations 6\n"
     ]
    },
    {
     "data": {
      "text/html": [
       "<table class=\"simpletable\">\n",
       "<tr>\n",
       "        <td>Model:</td>              <td>Logit</td>      <td>Pseudo R-squared:</td>    <td>0.147</td>  \n",
       "</tr>\n",
       "<tr>\n",
       "  <td>Dependent Variable:</td>      <td>GDPIMPR</td>           <td>AIC:</td>         <td>266.6909</td> \n",
       "</tr>\n",
       "<tr>\n",
       "         <td>Date:</td>        <td>2023-09-17 21:52</td>       <td>BIC:</td>         <td>277.1328</td> \n",
       "</tr>\n",
       "<tr>\n",
       "   <td>No. Observations:</td>         <td>240</td>        <td>Log-Likelihood:</td>    <td>-130.35</td> \n",
       "</tr>\n",
       "<tr>\n",
       "       <td>Df Model:</td>              <td>2</td>            <td>LL-Null:</td>        <td>-152.76</td> \n",
       "</tr>\n",
       "<tr>\n",
       "     <td>Df Residuals:</td>           <td>237</td>         <td>LLR p-value:</td>    <td>1.8366e-10</td>\n",
       "</tr>\n",
       "<tr>\n",
       "      <td>Converged:</td>           <td>1.0000</td>           <td>Scale:</td>         <td>1.0000</td>  \n",
       "</tr>\n",
       "<tr>\n",
       "    <td>No. Iterations:</td>        <td>6.0000</td>              <td></td>               <td></td>     \n",
       "</tr>\n",
       "</table>\n",
       "<table class=\"simpletable\">\n",
       "<tr>\n",
       "      <td></td>       <th>Coef.</th>  <th>Std.Err.</th>    <th>z</th>     <th>P>|z|</th> <th>[0.025</th>  <th>0.975]</th> \n",
       "</tr>\n",
       "<tr>\n",
       "  <th>Intercept</th> <td>0.7457</td>   <td>0.1573</td>  <td>4.7397</td>  <td>0.0000</td> <td>0.4373</td>  <td>1.0540</td> \n",
       "</tr>\n",
       "<tr>\n",
       "  <th>li1_L2</th>    <td>-0.4287</td>  <td>0.0763</td>  <td>-5.6175</td> <td>0.0000</td> <td>-0.5783</td> <td>-0.2791</td>\n",
       "</tr>\n",
       "<tr>\n",
       "  <th>li2_L1</th>    <td>-0.1312</td>  <td>0.0386</td>  <td>-3.3994</td> <td>0.0007</td> <td>-0.2068</td> <td>-0.0556</td>\n",
       "</tr>\n",
       "</table>"
      ],
      "text/plain": [
       "<class 'statsmodels.iolib.summary2.Summary'>\n",
       "\"\"\"\n",
       "                         Results: Logit\n",
       "=================================================================\n",
       "Model:              Logit            Pseudo R-squared: 0.147     \n",
       "Dependent Variable: GDPIMPR          AIC:              266.6909  \n",
       "Date:               2023-09-17 21:52 BIC:              277.1328  \n",
       "No. Observations:   240              Log-Likelihood:   -130.35   \n",
       "Df Model:           2                LL-Null:          -152.76   \n",
       "Df Residuals:       237              LLR p-value:      1.8366e-10\n",
       "Converged:          1.0000           Scale:            1.0000    \n",
       "No. Iterations:     6.0000                                       \n",
       "------------------------------------------------------------------\n",
       "               Coef.   Std.Err.     z     P>|z|    [0.025   0.975]\n",
       "------------------------------------------------------------------\n",
       "Intercept      0.7457    0.1573   4.7397  0.0000   0.4373   1.0540\n",
       "li1_L2        -0.4287    0.0763  -5.6175  0.0000  -0.5783  -0.2791\n",
       "li2_L1        -0.1312    0.0386  -3.3994  0.0007  -0.2068  -0.0556\n",
       "=================================================================\n",
       "\n",
       "\"\"\""
      ]
     },
     "execution_count": 25,
     "metadata": {},
     "output_type": "execute_result"
    }
   ],
   "source": [
    "model_C = sm.Logit(endog=yC_train, exog=xC_train).fit()\n",
    "model_C.summary2()"
   ]
  },
  {
   "cell_type": "code",
   "execution_count": 26,
   "metadata": {},
   "outputs": [],
   "source": [
    "prediction_C = model_C.predict(xC_predict)\n",
    "pred_table_C = model_C.pred_table(threshold=0.5) # This is for logistic regrestion threshold to determie 0 or 1."
   ]
  },
  {
   "cell_type": "code",
   "execution_count": 27,
   "metadata": {},
   "outputs": [],
   "source": [
    "pred_logit= [1 if i > 0.5 else 0 for i in prediction_C]"
   ]
  },
  {
   "cell_type": "code",
   "execution_count": 28,
   "metadata": {},
   "outputs": [],
   "source": [
    "pred_table_C = [[0,0], [0, 0]]\n",
    "for i in range(len(pred_logit)):\n",
    "    if pred_logit[i] == 0 and yC_target[i] == 0:\n",
    "        pred_table_C[0][0]+=1\n",
    "    elif pred_logit[i] == 0 and yC_target[i] == 1:\n",
    "        pred_table_C[0][1]+=1\n",
    "    elif pred_logit[i] == 1 and yC_target[i] == 0:\n",
    "        pred_table_C[1][0]+=1\n",
    "    else:\n",
    "        pred_table_C[1][1]+=1\n",
    "        "
   ]
  },
  {
   "cell_type": "code",
   "execution_count": 29,
   "metadata": {},
   "outputs": [],
   "source": [
    "pred_table_C = np.array(pred_table_C)"
   ]
  },
  {
   "cell_type": "code",
   "execution_count": 30,
   "metadata": {},
   "outputs": [],
   "source": [
    "pred_ratio = pred_table_C/pred_table_C.sum()\n",
    "r_sum = np.sum(pred_table_C, axis=1)"
   ]
  },
  {
   "cell_type": "code",
   "execution_count": 31,
   "metadata": {},
   "outputs": [],
   "source": [
    "pred_rtable = pd.DataFrame(pred_ratio, columns=[\"y_hat=0\", \"y_hat=1\"])\n",
    "pred_rtable[\"Sum\"] = r_sum\n",
    "pred_rtable.index = ['y=0', 'y=1']\n",
    "hit_rate = pred_ratio[0][0] + pred_ratio[1][1]"
   ]
  },
  {
   "cell_type": "markdown",
   "metadata": {},
   "source": [
    "### Summary Answer C"
   ]
  },
  {
   "cell_type": "code",
   "execution_count": 32,
   "metadata": {},
   "outputs": [
    {
     "name": "stdout",
     "output_type": "stream",
     "text": [
      "Prediction Realization Model.\n",
      "     y_hat=0  y_hat=1  Sum\n",
      "y=0     0.25     0.15    8\n",
      "y=1     0.10     0.50   12\n",
      "hit rate is 0.75\n"
     ]
    }
   ],
   "source": [
    "print(\"Prediction Realization Model.\")\n",
    "print(pred_rtable)\n",
    "print(f\"hit rate is {round(hit_rate, 5)}\")"
   ]
  },
  {
   "cell_type": "markdown",
   "metadata": {},
   "source": [
    "## Part D"
   ]
  },
  {
   "cell_type": "code",
   "execution_count": 33,
   "metadata": {},
   "outputs": [],
   "source": [
    "data_d = gdp_data[['Date', 'LOGGDP']]\n",
    "xD = data_d[(data_d['Date']>=start)&(data_d['Date']<=end)]"
   ]
  },
  {
   "cell_type": "code",
   "execution_count": 34,
   "metadata": {},
   "outputs": [],
   "source": [
    "# https://www.statsmodels.org/dev/generated/statsmodels.tsa.stattools.adfuller.html\n",
    "loggdp_ADF = sm.tsa.stattools.adfuller(xD['LOGGDP'], maxlag=1, autolag=None, regression='ct', regresults=True)"
   ]
  },
  {
   "cell_type": "code",
   "execution_count": 35,
   "metadata": {},
   "outputs": [],
   "source": [
    "adf_statistic = loggdp_ADF[0]\n",
    "p_value = loggdp_ADF[1]\n",
    "Critical_values = loggdp_ADF[2]\n",
    "loggdp_model = loggdp_ADF[3].resols\n",
    "adf_summary = loggdp_ADF[3].resols.summary2(xname=['LOGGDP Lag=1', 'Delta LOGGDP Lag=1', 'Constant', 'Trend'])"
   ]
  },
  {
   "cell_type": "code",
   "execution_count": 36,
   "metadata": {},
   "outputs": [],
   "source": [
    "loggdp_params = pd.DataFrame(np.array([loggdp_model.params]), columns=['LOGGDP Lag=1', 'Delta LOGGDP Lag=1', 'Constant', 'Trend'])"
   ]
  },
  {
   "cell_type": "code",
   "execution_count": 37,
   "metadata": {},
   "outputs": [
    {
     "data": {
      "text/html": [
       "<table class=\"simpletable\">\n",
       "<tr>\n",
       "        <td>Model:</td>               <td>OLS</td>         <td>Adj. R-squared:</td>      <td>0.393</td>  \n",
       "</tr>\n",
       "<tr>\n",
       "  <td>Dependent Variable:</td>         <td>y</td>               <td>AIC:</td>         <td>-1888.3395</td>\n",
       "</tr>\n",
       "<tr>\n",
       "         <td>Date:</td>        <td>2023-09-17 21:52</td>        <td>BIC:</td>         <td>-1874.4504</td>\n",
       "</tr>\n",
       "<tr>\n",
       "   <td>No. Observations:</td>         <td>238</td>         <td>Log-Likelihood:</td>     <td>948.17</td>  \n",
       "</tr>\n",
       "<tr>\n",
       "       <td>Df Model:</td>              <td>3</td>           <td>F-statistic:</td>        <td>52.20</td>  \n",
       "</tr>\n",
       "<tr>\n",
       "     <td>Df Residuals:</td>           <td>234</td>       <td>Prob (F-statistic):</td>  <td>7.23e-26</td> \n",
       "</tr>\n",
       "<tr>\n",
       "      <td>R-squared:</td>            <td>0.401</td>            <td>Scale:</td>        <td>2.0630e-05</td>\n",
       "</tr>\n",
       "</table>\n",
       "<table class=\"simpletable\">\n",
       "<tr>\n",
       "           <td></td>           <th>Coef.</th>  <th>Std.Err.</th>    <th>t</th>     <th>P>|t|</th> <th>[0.025</th>  <th>0.975]</th> \n",
       "</tr>\n",
       "<tr>\n",
       "  <th>LOGGDP Lag=1</th>       <td>-0.0204</td>  <td>0.0081</td>  <td>-2.5182</td> <td>0.0125</td> <td>-0.0364</td> <td>-0.0044</td>\n",
       "</tr>\n",
       "<tr>\n",
       "  <th>Delta LOGGDP Lag=1</th> <td>0.6325</td>   <td>0.0509</td>  <td>12.4338</td> <td>0.0000</td> <td>0.5323</td>  <td>0.7328</td> \n",
       "</tr>\n",
       "<tr>\n",
       "  <th>Constant</th>           <td>0.0956</td>   <td>0.0375</td>  <td>2.5512</td>  <td>0.0114</td> <td>0.0218</td>  <td>0.1695</td> \n",
       "</tr>\n",
       "<tr>\n",
       "  <th>Trend</th>              <td>0.0001</td>   <td>0.0000</td>  <td>2.4979</td>  <td>0.0132</td> <td>0.0000</td>  <td>0.0001</td> \n",
       "</tr>\n",
       "</table>\n",
       "<table class=\"simpletable\">\n",
       "<tr>\n",
       "     <td>Omnibus:</td>    <td>23.009</td>  <td>Durbin-Watson:</td>    <td>2.012</td>\n",
       "</tr>\n",
       "<tr>\n",
       "  <td>Prob(Omnibus):</td>  <td>0.000</td> <td>Jarque-Bera (JB):</td> <td>36.479</td>\n",
       "</tr>\n",
       "<tr>\n",
       "       <td>Skew:</td>      <td>0.578</td>     <td>Prob(JB):</td>      <td>0.000</td>\n",
       "</tr>\n",
       "<tr>\n",
       "     <td>Kurtosis:</td>    <td>4.530</td>  <td>Condition No.:</td>    <td>23965</td>\n",
       "</tr>\n",
       "</table>"
      ],
      "text/plain": [
       "<class 'statsmodels.iolib.summary2.Summary'>\n",
       "\"\"\"\n",
       "                  Results: Ordinary least squares\n",
       "===================================================================\n",
       "Model:              OLS              Adj. R-squared:     0.393     \n",
       "Dependent Variable: y                AIC:                -1888.3395\n",
       "Date:               2023-09-17 21:52 BIC:                -1874.4504\n",
       "No. Observations:   238              Log-Likelihood:     948.17    \n",
       "Df Model:           3                F-statistic:        52.20     \n",
       "Df Residuals:       234              Prob (F-statistic): 7.23e-26  \n",
       "R-squared:          0.401            Scale:              2.0630e-05\n",
       "-------------------------------------------------------------------\n",
       "                     Coef.  Std.Err.    t    P>|t|   [0.025  0.975]\n",
       "-------------------------------------------------------------------\n",
       "LOGGDP Lag=1        -0.0204   0.0081 -2.5182 0.0125 -0.0364 -0.0044\n",
       "Delta LOGGDP Lag=1   0.6325   0.0509 12.4338 0.0000  0.5323  0.7328\n",
       "Constant             0.0956   0.0375  2.5512 0.0114  0.0218  0.1695\n",
       "Trend                0.0001   0.0000  2.4979 0.0132  0.0000  0.0001\n",
       "-------------------------------------------------------------------\n",
       "Omnibus:              23.009        Durbin-Watson:           2.012 \n",
       "Prob(Omnibus):        0.000         Jarque-Bera (JB):        36.479\n",
       "Skew:                 0.578         Prob(JB):                0.000 \n",
       "Kurtosis:             4.530         Condition No.:           23965 \n",
       "===================================================================\n",
       "* The condition number is large (2e+04). This might indicate\n",
       "strong multicollinearity or other numerical problems.\n",
       "\"\"\""
      ]
     },
     "execution_count": 37,
     "metadata": {},
     "output_type": "execute_result"
    }
   ],
   "source": [
    "adf_summary"
   ]
  },
  {
   "cell_type": "markdown",
   "metadata": {},
   "source": [
    "### Summary Answer D"
   ]
  },
  {
   "cell_type": "code",
   "execution_count": 38,
   "metadata": {},
   "outputs": [
    {
     "name": "stdout",
     "output_type": "stream",
     "text": [
      "ADF Test:\n",
      "The coefficients are shown in table\n",
      "   LOGGDP Lag=1  Delta LOGGDP Lag=1  Constant     Trend\n",
      "0     -0.020406            0.632529  0.095629  0.000064\n",
      "The test statistic is -2.51821\n",
      "Confidence Level is {'1%': -3.9973200578432064, '5%': -3.4290999471622556, '10%': -3.1379848180498104}.\n",
      "P-Value is 0.31892, which is away from 10% level of significance.\n"
     ]
    }
   ],
   "source": [
    "print('ADF Test:')\n",
    "print(f\"The coefficients are shown in table\")\n",
    "print(loggdp_params)\n",
    "print(f\"The test statistic is {round(adf_statistic, 5)}\")\n",
    "print(f\"Confidence Level is {Critical_values}.\")\n",
    "print(f\"P-Value is {round(p_value, 5)}, which is away from 10% level of significance.\")"
   ]
  },
  {
   "cell_type": "code",
   "execution_count": 39,
   "metadata": {},
   "outputs": [
    {
     "data": {
      "text/html": [
       "<div>\n",
       "<style scoped>\n",
       "    .dataframe tbody tr th:only-of-type {\n",
       "        vertical-align: middle;\n",
       "    }\n",
       "\n",
       "    .dataframe tbody tr th {\n",
       "        vertical-align: top;\n",
       "    }\n",
       "\n",
       "    .dataframe thead th {\n",
       "        text-align: right;\n",
       "    }\n",
       "</style>\n",
       "<table border=\"1\" class=\"dataframe\">\n",
       "  <thead>\n",
       "    <tr style=\"text-align: right;\">\n",
       "      <th></th>\n",
       "      <th>Date</th>\n",
       "      <th>GDP</th>\n",
       "      <th>GDPIMPR</th>\n",
       "      <th>LOGGDP</th>\n",
       "      <th>GrowthRate</th>\n",
       "      <th>li1</th>\n",
       "      <th>li2</th>\n",
       "      <th>T</th>\n",
       "      <th>GDP_L1</th>\n",
       "      <th>li1_L1</th>\n",
       "      <th>li2_L1</th>\n",
       "      <th>li1_L2</th>\n",
       "      <th>li2_L2</th>\n",
       "      <th>GrowthRate_L1</th>\n",
       "    </tr>\n",
       "  </thead>\n",
       "  <tbody>\n",
       "    <tr>\n",
       "      <th>0</th>\n",
       "      <td>1950Q1</td>\n",
       "      <td>94.300</td>\n",
       "      <td>NaN</td>\n",
       "      <td>4.546481</td>\n",
       "      <td>NaN</td>\n",
       "      <td>0</td>\n",
       "      <td>0</td>\n",
       "      <td>0</td>\n",
       "      <td>NaN</td>\n",
       "      <td>NaN</td>\n",
       "      <td>NaN</td>\n",
       "      <td>NaN</td>\n",
       "      <td>NaN</td>\n",
       "      <td>NaN</td>\n",
       "    </tr>\n",
       "    <tr>\n",
       "      <th>1</th>\n",
       "      <td>1950Q2</td>\n",
       "      <td>95.200</td>\n",
       "      <td>1.0</td>\n",
       "      <td>4.555980</td>\n",
       "      <td>0.009499</td>\n",
       "      <td>0</td>\n",
       "      <td>0</td>\n",
       "      <td>1</td>\n",
       "      <td>94.300</td>\n",
       "      <td>0.0</td>\n",
       "      <td>0.0</td>\n",
       "      <td>NaN</td>\n",
       "      <td>NaN</td>\n",
       "      <td>NaN</td>\n",
       "    </tr>\n",
       "    <tr>\n",
       "      <th>2</th>\n",
       "      <td>1950Q3</td>\n",
       "      <td>97.663</td>\n",
       "      <td>1.0</td>\n",
       "      <td>4.581523</td>\n",
       "      <td>0.025543</td>\n",
       "      <td>3</td>\n",
       "      <td>1</td>\n",
       "      <td>2</td>\n",
       "      <td>95.200</td>\n",
       "      <td>0.0</td>\n",
       "      <td>0.0</td>\n",
       "      <td>0.0</td>\n",
       "      <td>0.0</td>\n",
       "      <td>0.009499</td>\n",
       "    </tr>\n",
       "    <tr>\n",
       "      <th>3</th>\n",
       "      <td>1950Q4</td>\n",
       "      <td>99.728</td>\n",
       "      <td>1.0</td>\n",
       "      <td>4.602446</td>\n",
       "      <td>0.020924</td>\n",
       "      <td>4</td>\n",
       "      <td>2</td>\n",
       "      <td>3</td>\n",
       "      <td>97.663</td>\n",
       "      <td>3.0</td>\n",
       "      <td>1.0</td>\n",
       "      <td>0.0</td>\n",
       "      <td>0.0</td>\n",
       "      <td>0.025543</td>\n",
       "    </tr>\n",
       "    <tr>\n",
       "      <th>4</th>\n",
       "      <td>1951Q1</td>\n",
       "      <td>100.445</td>\n",
       "      <td>1.0</td>\n",
       "      <td>4.609610</td>\n",
       "      <td>0.007164</td>\n",
       "      <td>2</td>\n",
       "      <td>1</td>\n",
       "      <td>4</td>\n",
       "      <td>99.728</td>\n",
       "      <td>4.0</td>\n",
       "      <td>2.0</td>\n",
       "      <td>3.0</td>\n",
       "      <td>1.0</td>\n",
       "      <td>0.020924</td>\n",
       "    </tr>\n",
       "  </tbody>\n",
       "</table>\n",
       "</div>"
      ],
      "text/plain": [
       "     Date      GDP  GDPIMPR    LOGGDP  GrowthRate  li1  li2  T  GDP_L1  \\\n",
       "0  1950Q1   94.300      NaN  4.546481         NaN    0    0  0     NaN   \n",
       "1  1950Q2   95.200      1.0  4.555980    0.009499    0    0  1  94.300   \n",
       "2  1950Q3   97.663      1.0  4.581523    0.025543    3    1  2  95.200   \n",
       "3  1950Q4   99.728      1.0  4.602446    0.020924    4    2  3  97.663   \n",
       "4  1951Q1  100.445      1.0  4.609610    0.007164    2    1  4  99.728   \n",
       "\n",
       "   li1_L1  li2_L1  li1_L2  li2_L2  GrowthRate_L1  \n",
       "0     NaN     NaN     NaN     NaN            NaN  \n",
       "1     0.0     0.0     NaN     NaN            NaN  \n",
       "2     0.0     0.0     0.0     0.0       0.009499  \n",
       "3     3.0     1.0     0.0     0.0       0.025543  \n",
       "4     4.0     2.0     3.0     1.0       0.020924  "
      ]
     },
     "execution_count": 39,
     "metadata": {},
     "output_type": "execute_result"
    }
   ],
   "source": [
    "gdp_data.head()"
   ]
  },
  {
   "cell_type": "markdown",
   "metadata": {},
   "source": [
    "## Part E"
   ]
  },
  {
   "cell_type": "code",
   "execution_count": 40,
   "metadata": {},
   "outputs": [
    {
     "name": "stderr",
     "output_type": "stream",
     "text": [
      "C:\\Users\\14699\\AppData\\Local\\Temp\\ipykernel_28388\\76639727.py:2: SettingWithCopyWarning: \n",
      "A value is trying to be set on a copy of a slice from a DataFrame\n",
      "\n",
      "See the caveats in the documentation: https://pandas.pydata.org/pandas-docs/stable/user_guide/indexing.html#returning-a-view-versus-a-copy\n",
      "  data_e.dropna(inplace=True)\n"
     ]
    }
   ],
   "source": [
    "data_e = gdp_data[['Date', 'GrowthRate', 'GrowthRate_L1', 'li1_L1', 'li1_L2', 'li2_L1', 'li2_L2']]\n",
    "data_e.dropna(inplace=True)\n",
    "data_e= data_e[(data_e['Date']>=start)&(data_e['Date']<=end)]"
   ]
  },
  {
   "cell_type": "code",
   "execution_count": 41,
   "metadata": {},
   "outputs": [],
   "source": [
    "yE_v1, xE_v1 = dmatrices(\"GrowthRate ~ GrowthRate_L1 + li1_L1 + li2_L1\", data_e)\n",
    "yE_v2, xE_v2 = dmatrices(\"GrowthRate ~ GrowthRate_L1 + li1_L2 + li2_L1\", data_e)\n",
    "yE_v3, xE_v3 = dmatrices(\"GrowthRate ~ GrowthRate_L1 + li1_L1 + li2_L2\", data_e)\n",
    "yE_v4, xE_v4 = dmatrices(\"GrowthRate ~ GrowthRate_L1 + li1_L2 + li2_L2\", data_e)\n"
   ]
  },
  {
   "cell_type": "code",
   "execution_count": 42,
   "metadata": {},
   "outputs": [],
   "source": [
    "model_e_v1 = sm.OLS(yE_v1, xE_v1).fit()\n",
    "model_e_v2 = sm.OLS(yE_v2, xE_v2).fit()\n",
    "model_e_v3 = sm.OLS(yE_v3, xE_v3).fit()\n",
    "model_e_v4 = sm.OLS(yE_v4, xE_v4).fit()"
   ]
  },
  {
   "cell_type": "code",
   "execution_count": 43,
   "metadata": {},
   "outputs": [],
   "source": [
    "model_e_rsqured = [model_e_v1.rsquared, model_e_v2.rsquared, model_e_v3.rsquared, model_e_v4.rsquared]\n",
    "model_e_df = pd.DataFrame(np.array([model_e_rsqured]), \n",
    "        columns=[\"k1=k2=1\", \"k1=2, k2=1\", \"k1=1, k2=2\", \"k1=k2=2\"])\n",
    "model_e_df.index = [\"R_Square\"]\n",
    "model_e_v1_params = pd.DataFrame(np.array([np.around(model_e_v1.params, 6)]), columns = [\"Constant\", \"GrowthRate_L1\", \"li1_L1\", \"li2_L1\"])"
   ]
  },
  {
   "cell_type": "markdown",
   "metadata": {},
   "source": [
    "### Summary  Answer E"
   ]
  },
  {
   "cell_type": "code",
   "execution_count": 44,
   "metadata": {},
   "outputs": [
    {
     "name": "stdout",
     "output_type": "stream",
     "text": [
      "R Square of 4 models are shown as below:\n",
      "           k1=k2=1  k1=2, k2=1  k1=1, k2=2  k1=k2=2\n",
      "R_Square  0.507975    0.477193    0.507665  0.47713\n",
      "We can see model with li1 Lag = 1 and li2 Lag =1 has the largest r square.\n",
      "The Coefficients of this model are:\n",
      "   Constant  GrowthRate_L1    li1_L1    li2_L1\n",
      "0  0.001737       0.461579 -0.001023 -0.000149\n"
     ]
    }
   ],
   "source": [
    "print(\"R Square of 4 models are shown as below:\")\n",
    "print(model_e_df)\n",
    "print(\"We can see model with li1 Lag = 1 and li2 Lag =1 has the largest r square.\")\n",
    "print(\"The Coefficients of this model are:\")\n",
    "print(model_e_v1_params)"
   ]
  },
  {
   "cell_type": "markdown",
   "metadata": {},
   "source": [
    "## Part F"
   ]
  },
  {
   "cell_type": "markdown",
   "metadata": {},
   "source": [
    "### Breusch-Godfrey\n",
    "- Test if residual is autocorrelated or white noise.\n",
    "- https://www.statsmodels.org/dev/generated/statsmodels.stats.diagnostic.acorr_breusch_godfrey.html"
   ]
  },
  {
   "cell_type": "code",
   "execution_count": 45,
   "metadata": {},
   "outputs": [],
   "source": [
    "model_BG = sm.stats.diagnostic.acorr_breusch_godfrey(model_e_v1, nlags=1, store=True)"
   ]
  },
  {
   "cell_type": "code",
   "execution_count": 46,
   "metadata": {},
   "outputs": [],
   "source": [
    "BG_params = model_BG[:4]\n",
    "BG_df = pd.DataFrame(np.array([BG_params]), columns=[\"BG Statistic\", \"BG P-value\", \"BG F-value\", \"P-Value of f-test\"])\n",
    "BG_df.index = [\"BG Test Result\"]"
   ]
  },
  {
   "cell_type": "code",
   "execution_count": 47,
   "metadata": {},
   "outputs": [
    {
     "name": "stderr",
     "output_type": "stream",
     "text": [
      "f:\\anaconda3\\envs\\statarb\\Lib\\site-packages\\statsmodels\\regression\\linear_model.py:1934: RuntimeWarning: divide by zero encountered in scalar divide\n",
      "  return np.sqrt(eigvals[0]/eigvals[-1])\n"
     ]
    },
    {
     "data": {
      "text/html": [
       "<table class=\"simpletable\">\n",
       "<tr>\n",
       "        <td>Model:</td>               <td>OLS</td>         <td>Adj. R-squared:</td>     <td>-0.016</td>  \n",
       "</tr>\n",
       "<tr>\n",
       "  <td>Dependent Variable:</td>         <td>y</td>               <td>AIC:</td>         <td>-1950.9195</td>\n",
       "</tr>\n",
       "<tr>\n",
       "         <td>Date:</td>        <td>2023-09-17 21:52</td>        <td>BIC:</td>         <td>-1933.5163</td>\n",
       "</tr>\n",
       "<tr>\n",
       "   <td>No. Observations:</td>         <td>240</td>         <td>Log-Likelihood:</td>     <td>980.46</td>  \n",
       "</tr>\n",
       "<tr>\n",
       "       <td>Df Model:</td>              <td>4</td>           <td>F-statistic:</td>       <td>0.05645</td> \n",
       "</tr>\n",
       "<tr>\n",
       "     <td>Df Residuals:</td>           <td>235</td>       <td>Prob (F-statistic):</td>    <td>0.994</td>  \n",
       "</tr>\n",
       "<tr>\n",
       "      <td>R-squared:</td>            <td>0.001</td>            <td>Scale:</td>        <td>1.6915e-05</td>\n",
       "</tr>\n",
       "</table>\n",
       "<table class=\"simpletable\">\n",
       "<tr>\n",
       "    <td></td>     <th>Coef.</th>  <th>Std.Err.</th>    <th>t</th>     <th>P>|t|</th> <th>[0.025</th>  <th>0.975]</th>\n",
       "</tr>\n",
       "<tr>\n",
       "  <th>const</th> <td>-0.0000</td>  <td>0.0002</td>  <td>-0.2443</td> <td>0.8072</td> <td>-0.0004</td> <td>0.0003</td>\n",
       "</tr>\n",
       "<tr>\n",
       "  <th>x1</th>    <td>0.0259</td>   <td>0.0728</td>  <td>0.3552</td>  <td>0.7228</td> <td>-0.1176</td> <td>0.1694</td>\n",
       "</tr>\n",
       "<tr>\n",
       "  <th>x2</th>    <td>0.0000</td>   <td>0.0001</td>  <td>0.1864</td>  <td>0.8523</td> <td>-0.0003</td> <td>0.0003</td>\n",
       "</tr>\n",
       "<tr>\n",
       "  <th>x3</th>    <td>0.0000</td>   <td>0.0001</td>  <td>0.0315</td>  <td>0.9749</td> <td>-0.0001</td> <td>0.0001</td>\n",
       "</tr>\n",
       "<tr>\n",
       "  <th>x4</th>    <td>-0.0000</td>  <td>0.0002</td>  <td>-0.2443</td> <td>0.8072</td> <td>-0.0004</td> <td>0.0003</td>\n",
       "</tr>\n",
       "<tr>\n",
       "  <th>x5</th>    <td>-0.0467</td>  <td>0.0983</td>  <td>-0.4752</td> <td>0.6351</td> <td>-0.2403</td> <td>0.1469</td>\n",
       "</tr>\n",
       "</table>\n",
       "<table class=\"simpletable\">\n",
       "<tr>\n",
       "     <td>Omnibus:</td>    <td>24.227</td>  <td>Durbin-Watson:</td>    <td>2.001</td>\n",
       "</tr>\n",
       "<tr>\n",
       "  <td>Prob(Omnibus):</td>  <td>0.000</td> <td>Jarque-Bera (JB):</td> <td>35.675</td>\n",
       "</tr>\n",
       "<tr>\n",
       "       <td>Skew:</td>      <td>0.633</td>     <td>Prob(JB):</td>      <td>0.000</td>\n",
       "</tr>\n",
       "<tr>\n",
       "     <td>Kurtosis:</td>    <td>4.402</td>  <td>Condition No.:</td>     <td>inf</td> \n",
       "</tr>\n",
       "</table>"
      ],
      "text/plain": [
       "<class 'statsmodels.iolib.summary2.Summary'>\n",
       "\"\"\"\n",
       "                  Results: Ordinary least squares\n",
       "===================================================================\n",
       "Model:              OLS              Adj. R-squared:     -0.016    \n",
       "Dependent Variable: y                AIC:                -1950.9195\n",
       "Date:               2023-09-17 21:52 BIC:                -1933.5163\n",
       "No. Observations:   240              Log-Likelihood:     980.46    \n",
       "Df Model:           4                F-statistic:        0.05645   \n",
       "Df Residuals:       235              Prob (F-statistic): 0.994     \n",
       "R-squared:          0.001            Scale:              1.6915e-05\n",
       "----------------------------------------------------------------------\n",
       "          Coef.     Std.Err.       t       P>|t|      [0.025    0.975]\n",
       "----------------------------------------------------------------------\n",
       "const    -0.0000      0.0002    -0.2443    0.8072    -0.0004    0.0003\n",
       "x1        0.0259      0.0728     0.3552    0.7228    -0.1176    0.1694\n",
       "x2        0.0000      0.0001     0.1864    0.8523    -0.0003    0.0003\n",
       "x3        0.0000      0.0001     0.0315    0.9749    -0.0001    0.0001\n",
       "x4       -0.0000      0.0002    -0.2443    0.8072    -0.0004    0.0003\n",
       "x5       -0.0467      0.0983    -0.4752    0.6351    -0.2403    0.1469\n",
       "-------------------------------------------------------------------\n",
       "Omnibus:              24.227        Durbin-Watson:           2.001 \n",
       "Prob(Omnibus):        0.000         Jarque-Bera (JB):        35.675\n",
       "Skew:                 0.633         Prob(JB):                0.000 \n",
       "Kurtosis:             4.402         Condition No.:           inf   \n",
       "===================================================================\n",
       "* The condition number is large (inf). This might indicate\n",
       "strong multicollinearity or other numerical problems.\n",
       "\"\"\""
      ]
     },
     "execution_count": 47,
     "metadata": {},
     "output_type": "execute_result"
    }
   ],
   "source": [
    "model_BG[4].resols.summary2()"
   ]
  },
  {
   "cell_type": "markdown",
   "metadata": {},
   "source": [
    "### Summary  Answer F"
   ]
  },
  {
   "cell_type": "code",
   "execution_count": 48,
   "metadata": {},
   "outputs": [
    {
     "name": "stdout",
     "output_type": "stream",
     "text": [
      "Based on Breuch-Godfrey test: \n",
      "given high p-value, we cannot reject null hypothesis that there is no autocorrelation of residual.\n",
      "Therefore, there is no misspecification.\n"
     ]
    }
   ],
   "source": [
    "print(f\"Based on Breuch-Godfrey test: \")\n",
    "print(\"given high p-value, we cannot reject null hypothesis that there is no autocorrelation of residual.\")\n",
    "print(\"Therefore, there is no misspecification.\")"
   ]
  },
  {
   "cell_type": "markdown",
   "metadata": {},
   "source": [
    "## Part G"
   ]
  },
  {
   "cell_type": "code",
   "execution_count": 49,
   "metadata": {},
   "outputs": [],
   "source": [
    "data_g = gdp_data[['Date', 'GrowthRate', 'GrowthRate_L1', 'li1_L1', 'li2_L1']]\n",
    "train_g= data_g[(data_g['Date']>=start)&(data_g['Date']<=end)]\n",
    "test_g = data_g[data_g['Date']>end]\n",
    "test_g.set_index(\"Date\", inplace=True)"
   ]
  },
  {
   "cell_type": "code",
   "execution_count": 50,
   "metadata": {},
   "outputs": [],
   "source": [
    "def rmse(pred, target):\n",
    "    diff_sq = (np.array(pred)-np.array(target))**2\n",
    "    ret = np.sqrt(diff_sq.mean())\n",
    "    return ret"
   ]
  },
  {
   "cell_type": "code",
   "execution_count": 51,
   "metadata": {},
   "outputs": [],
   "source": [
    "yG_target, xG_test = dmatrices(\"GrowthRate ~ GrowthRate_L1 + li1_L1 + li2_L1\", test_g)"
   ]
  },
  {
   "cell_type": "code",
   "execution_count": 52,
   "metadata": {},
   "outputs": [],
   "source": [
    "yG_pred = model_e_v1.predict(xG_test)"
   ]
  },
  {
   "cell_type": "code",
   "execution_count": 53,
   "metadata": {},
   "outputs": [],
   "source": [
    "model_rmse = rmse(yG_pred, yG_target)"
   ]
  },
  {
   "cell_type": "code",
   "execution_count": 54,
   "metadata": {},
   "outputs": [],
   "source": [
    "pred_df = pd.DataFrame(yG_pred, columns = [\"y_pred\"], index = test_g.index)\n"
   ]
  },
  {
   "cell_type": "code",
   "execution_count": 55,
   "metadata": {},
   "outputs": [],
   "source": [
    "pred_df[\"y_target\"] = yG_target"
   ]
  },
  {
   "cell_type": "markdown",
   "metadata": {},
   "source": [
    "### Summary Answer G"
   ]
  },
  {
   "cell_type": "code",
   "execution_count": 56,
   "metadata": {},
   "outputs": [
    {
     "name": "stdout",
     "output_type": "stream",
     "text": [
      "root mean square error for these forcast is 0.007383.\n",
      "Graph is shown in below:\n"
     ]
    },
    {
     "data": {
      "image/png": "[encoded data removed]",
      "text/plain": [
       "<Figure size 640x480 with 1 Axes>"
      ]
     },
     "metadata": {},
     "output_type": "display_data"
    }
   ],
   "source": [
    "print(f\"root mean square error for these forcast is {round(model_rmse, 6)}.\")\n",
    "print(\"Graph is shown in below:\")\n",
    "fig, ax = plt.subplots(1,1)\n",
    "pred_df.plot(ax=ax, title=\"Growth Rate prediction\")\n",
    "ax.grid()"
   ]
  },
  {
   "cell_type": "code",
   "execution_count": null,
   "metadata": {},
   "outputs": [],
   "source": []
  }
 ],
 "metadata": {
  "kernelspec": {
   "display_name": "statarb",
   "language": "python",
   "name": "python3"
  },
  "language_info": {
   "codemirror_mode": {
    "name": "ipython",
    "version": 3
   },
   "file_extension": ".py",
   "mimetype": "text/x-python",
   "name": "python",
   "nbconvert_exporter": "python",
   "pygments_lexer": "ipython3",
   "version": "3.11.3"
  },
  "orig_nbformat": 4
 },
 "nbformat": 4,
 "nbformat_minor": 2
}

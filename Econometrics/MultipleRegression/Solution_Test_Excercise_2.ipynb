{
 "cells": [
  {
   "cell_type": "code",
   "execution_count": 1,
   "metadata": {},
   "outputs": [],
   "source": [
    "import pandas as pd\n",
    "import numpy as np\n",
    "import math\n",
    "import matplotlib.pyplot as plt\n",
    "import statsmodels.api as sm\n",
    "from scipy import stats"
   ]
  },
  {
   "cell_type": "code",
   "execution_count": 2,
   "metadata": {},
   "outputs": [
    {
     "data": {
      "text/html": [
       "<div>\n",
       "<style scoped>\n",
       "    .dataframe tbody tr th:only-of-type {\n",
       "        vertical-align: middle;\n",
       "    }\n",
       "\n",
       "    .dataframe tbody tr th {\n",
       "        vertical-align: top;\n",
       "    }\n",
       "\n",
       "    .dataframe thead th {\n",
       "        text-align: right;\n",
       "    }\n",
       "</style>\n",
       "<table border=\"1\" class=\"dataframe\">\n",
       "  <thead>\n",
       "    <tr style=\"text-align: right;\">\n",
       "      <th></th>\n",
       "      <th>Observation</th>\n",
       "      <th>FGPA</th>\n",
       "      <th>SATM</th>\n",
       "      <th>SATV</th>\n",
       "      <th>FEM</th>\n",
       "    </tr>\n",
       "  </thead>\n",
       "  <tbody>\n",
       "    <tr>\n",
       "      <th>0</th>\n",
       "      <td>1</td>\n",
       "      <td>2.518</td>\n",
       "      <td>4.0</td>\n",
       "      <td>4.0</td>\n",
       "      <td>1</td>\n",
       "    </tr>\n",
       "    <tr>\n",
       "      <th>1</th>\n",
       "      <td>2</td>\n",
       "      <td>2.326</td>\n",
       "      <td>4.9</td>\n",
       "      <td>3.1</td>\n",
       "      <td>0</td>\n",
       "    </tr>\n",
       "    <tr>\n",
       "      <th>2</th>\n",
       "      <td>3</td>\n",
       "      <td>3.003</td>\n",
       "      <td>4.4</td>\n",
       "      <td>4.0</td>\n",
       "      <td>1</td>\n",
       "    </tr>\n",
       "    <tr>\n",
       "      <th>3</th>\n",
       "      <td>4</td>\n",
       "      <td>2.111</td>\n",
       "      <td>4.9</td>\n",
       "      <td>3.9</td>\n",
       "      <td>0</td>\n",
       "    </tr>\n",
       "    <tr>\n",
       "      <th>4</th>\n",
       "      <td>5</td>\n",
       "      <td>2.145</td>\n",
       "      <td>4.3</td>\n",
       "      <td>4.7</td>\n",
       "      <td>0</td>\n",
       "    </tr>\n",
       "  </tbody>\n",
       "</table>\n",
       "</div>"
      ],
      "text/plain": [
       "   Observation   FGPA  SATM  SATV  FEM\n",
       "0            1  2.518   4.0   4.0    1\n",
       "1            2  2.326   4.9   3.1    0\n",
       "2            3  3.003   4.4   4.0    1\n",
       "3            4  2.111   4.9   3.9    0\n",
       "4            5  2.145   4.3   4.7    0"
      ]
     },
     "execution_count": 2,
     "metadata": {},
     "output_type": "execute_result"
    }
   ],
   "source": [
    "data = pd.read_excel('DataSet.xls')\n",
    "data.head()"
   ]
  },
  {
   "cell_type": "markdown",
   "metadata": {},
   "source": [
    "# Multiple Regression"
   ]
  },
  {
   "cell_type": "markdown",
   "metadata": {},
   "source": [
    "## Question a"
   ]
  },
  {
   "cell_type": "code",
   "execution_count": 3,
   "metadata": {},
   "outputs": [
    {
     "name": "stdout",
     "output_type": "stream",
     "text": [
      "                            OLS Regression Results                            \n",
      "==============================================================================\n",
      "Dep. Variable:                   FGPA   R-squared:                       0.008\n",
      "Model:                            OLS   Adj. R-squared:                  0.007\n",
      "Method:                 Least Squares   F-statistic:                     5.201\n",
      "Date:                Sun, 13 Aug 2023   Prob (F-statistic):             0.0229\n",
      "Time:                        17:59:53   Log-Likelihood:                -388.44\n",
      "No. Observations:                 609   AIC:                             780.9\n",
      "Df Residuals:                     607   BIC:                             789.7\n",
      "Df Model:                           1                                         \n",
      "Covariance Type:            nonrobust                                         \n",
      "==============================================================================\n",
      "                 coef    std err          t      P>|t|      [0.025      0.975]\n",
      "------------------------------------------------------------------------------\n",
      "const          2.4417      0.155     15.747      0.000       2.137       2.746\n",
      "SATV           0.0631      0.028      2.280      0.023       0.009       0.117\n",
      "==============================================================================\n",
      "Omnibus:                       11.335   Durbin-Watson:                   1.949\n",
      "Prob(Omnibus):                  0.003   Jarque-Bera (JB):                7.694\n",
      "Skew:                           0.138   Prob(JB):                       0.0213\n",
      "Kurtosis:                       2.524   Cond. No.                         48.2\n",
      "==============================================================================\n",
      "\n",
      "Notes:\n",
      "[1] Standard Errors assume that the covariance matrix of the errors is correctly specified.\n"
     ]
    }
   ],
   "source": [
    "y = data['FGPA']\n",
    "X = data['SATV']\n",
    "X = sm.add_constant(X)\n",
    "model = sm.OLS(y, X)\n",
    "results = model.fit()\n",
    "print(results.summary())"
   ]
  },
  {
   "cell_type": "code",
   "execution_count": 4,
   "metadata": {},
   "outputs": [],
   "source": [
    "pvalue = results.pvalues[1]"
   ]
  },
  {
   "cell_type": "code",
   "execution_count": 5,
   "metadata": {},
   "outputs": [],
   "source": [
    "# From model\n",
    "se = results.bse[1]\n",
    "m = results.params[1]\n",
    "confidence_interval = list(results.conf_int(alpha=0.05).iloc[1, :])\n",
    "\n",
    "\n",
    "# From manual Calculation:\n",
    "\n",
    "# dist = stats.norm\n",
    "# alpha = 0.05\n",
    "# z = dist.ppf(1 - alpha/ 2)\n",
    "\n",
    "# lower_limit = m - z*se\n",
    "# upper_limit = m + z*se\n",
    "# lower_limit, upper_limit\n",
    "\n",
    "\n"
   ]
  },
  {
   "cell_type": "markdown",
   "metadata": {},
   "source": [
    "## Answer a"
   ]
  },
  {
   "cell_type": "code",
   "execution_count": 6,
   "metadata": {},
   "outputs": [
    {
     "name": "stdout",
     "output_type": "stream",
     "text": [
      "Answer of question a:\n",
      "The coefficient of SATV is 0.063\n",
      "The standard error is 0.028\n",
      "The p-value is 0.023\n",
      "Confidence interval for the effect on FGPA of an increase by 1 point in SATV is [0.008757813110037933, 0.11741387764565256]\n"
     ]
    }
   ],
   "source": [
    "print('Answer of question a:')\n",
    "print( f'The coefficient of SATV is {round(m, 3)}')\n",
    "print( f'The standard error is {round(se, 3)}')\n",
    "print( f'The p-value is {round(pvalue, 3)}')\n",
    "print( f'Confidence interval for the effect on FGPA of an increase by 1 point in SATV is {confidence_interval}')"
   ]
  },
  {
   "cell_type": "markdown",
   "metadata": {},
   "source": [
    "### Summarize solution 1 into Function"
   ]
  },
  {
   "cell_type": "code",
   "execution_count": 7,
   "metadata": {},
   "outputs": [],
   "source": [
    "def calc_simple_regression(data, tag):\n",
    "    y = data['FGPA']\n",
    "    if tag != 'Const':\n",
    "        X = data[tag]\n",
    "        X = sm.add_constant(X)\n",
    "        col_i = 1\n",
    "    else:\n",
    "        X = np.ones(len(y))\n",
    "        col_i = 0\n",
    "    model = sm.OLS(y, X)\n",
    "    results = model.fit()\n",
    "    \n",
    "    pvalue = results.pvalues[col_i]\n",
    "    \n",
    "    # dist = stats.norm\n",
    "    # alpha = 0.05\n",
    "    # z = dist.ppf(1 - alpha/ 2)\n",
    "    # se = results.bse[col_i]\n",
    "    # m = results.params[col_i]\n",
    "    # lower_limit = m - z*se\n",
    "    # upper_limit = m + z*se\n",
    "    \n",
    "    confidence_interval = list(results.conf_int(alpha=0.05).iloc[col_i, :])\n",
    "    \n",
    "    \n",
    "    print(f'Answer of question a for {tag}:')\n",
    "    print( f'The coefficient of SATV is {round(m, 3)}')\n",
    "    print( f'The standard error is {round(se, 3)}')\n",
    "    print( f'The p-value is {round(pvalue, 3)}')\n",
    "    print( f'Confidence interval for the effect on FGPA of an increase by 1 point in SATV is [{lower_limit}, {upper_limit}]')\n",
    "    \n",
    "    "
   ]
  },
  {
   "cell_type": "markdown",
   "metadata": {},
   "source": [
    "## Question b"
   ]
  },
  {
   "cell_type": "code",
   "execution_count": 8,
   "metadata": {},
   "outputs": [],
   "source": [
    "X = data[['SATM', 'SATV', 'FEM']]\n",
    "X = sm.add_constant(X)\n",
    "y = data['FGPA']\n",
    "ml_results = sm.OLS(y, X).fit()"
   ]
  },
  {
   "cell_type": "code",
   "execution_count": 9,
   "metadata": {},
   "outputs": [
    {
     "data": {
      "text/html": [
       "<table class=\"simpletable\">\n",
       "<caption>OLS Regression Results</caption>\n",
       "<tr>\n",
       "  <th>Dep. Variable:</th>          <td>FGPA</td>       <th>  R-squared:         </th> <td>   0.083</td>\n",
       "</tr>\n",
       "<tr>\n",
       "  <th>Model:</th>                   <td>OLS</td>       <th>  Adj. R-squared:    </th> <td>   0.078</td>\n",
       "</tr>\n",
       "<tr>\n",
       "  <th>Method:</th>             <td>Least Squares</td>  <th>  F-statistic:       </th> <td>   18.24</td>\n",
       "</tr>\n",
       "<tr>\n",
       "  <th>Date:</th>             <td>Sun, 13 Aug 2023</td> <th>  Prob (F-statistic):</th> <td>2.41e-11</td>\n",
       "</tr>\n",
       "<tr>\n",
       "  <th>Time:</th>                 <td>17:59:53</td>     <th>  Log-Likelihood:    </th> <td> -364.67</td>\n",
       "</tr>\n",
       "<tr>\n",
       "  <th>No. Observations:</th>      <td>   609</td>      <th>  AIC:               </th> <td>   737.3</td>\n",
       "</tr>\n",
       "<tr>\n",
       "  <th>Df Residuals:</th>          <td>   605</td>      <th>  BIC:               </th> <td>   755.0</td>\n",
       "</tr>\n",
       "<tr>\n",
       "  <th>Df Model:</th>              <td>     3</td>      <th>                     </th>     <td> </td>   \n",
       "</tr>\n",
       "<tr>\n",
       "  <th>Covariance Type:</th>      <td>nonrobust</td>    <th>                     </th>     <td> </td>   \n",
       "</tr>\n",
       "</table>\n",
       "<table class=\"simpletable\">\n",
       "<tr>\n",
       "    <td></td>       <th>coef</th>     <th>std err</th>      <th>t</th>      <th>P>|t|</th>  <th>[0.025</th>    <th>0.975]</th>  \n",
       "</tr>\n",
       "<tr>\n",
       "  <th>const</th> <td>    1.5570</td> <td>    0.216</td> <td>    7.205</td> <td> 0.000</td> <td>    1.133</td> <td>    1.981</td>\n",
       "</tr>\n",
       "<tr>\n",
       "  <th>SATM</th>  <td>    0.1727</td> <td>    0.032</td> <td>    5.410</td> <td> 0.000</td> <td>    0.110</td> <td>    0.235</td>\n",
       "</tr>\n",
       "<tr>\n",
       "  <th>SATV</th>  <td>    0.0142</td> <td>    0.028</td> <td>    0.507</td> <td> 0.612</td> <td>   -0.041</td> <td>    0.069</td>\n",
       "</tr>\n",
       "<tr>\n",
       "  <th>FEM</th>   <td>    0.2003</td> <td>    0.037</td> <td>    5.358</td> <td> 0.000</td> <td>    0.127</td> <td>    0.274</td>\n",
       "</tr>\n",
       "</table>\n",
       "<table class=\"simpletable\">\n",
       "<tr>\n",
       "  <th>Omnibus:</th>       <td> 7.757</td> <th>  Durbin-Watson:     </th> <td>   1.912</td>\n",
       "</tr>\n",
       "<tr>\n",
       "  <th>Prob(Omnibus):</th> <td> 0.021</td> <th>  Jarque-Bera (JB):  </th> <td>   5.727</td>\n",
       "</tr>\n",
       "<tr>\n",
       "  <th>Skew:</th>          <td> 0.118</td> <th>  Prob(JB):          </th> <td>  0.0571</td>\n",
       "</tr>\n",
       "<tr>\n",
       "  <th>Kurtosis:</th>      <td> 2.588</td> <th>  Cond. No.          </th> <td>    103.</td>\n",
       "</tr>\n",
       "</table><br/><br/>Notes:<br/>[1] Standard Errors assume that the covariance matrix of the errors is correctly specified."
      ],
      "text/plain": [
       "<class 'statsmodels.iolib.summary.Summary'>\n",
       "\"\"\"\n",
       "                            OLS Regression Results                            \n",
       "==============================================================================\n",
       "Dep. Variable:                   FGPA   R-squared:                       0.083\n",
       "Model:                            OLS   Adj. R-squared:                  0.078\n",
       "Method:                 Least Squares   F-statistic:                     18.24\n",
       "Date:                Sun, 13 Aug 2023   Prob (F-statistic):           2.41e-11\n",
       "Time:                        17:59:53   Log-Likelihood:                -364.67\n",
       "No. Observations:                 609   AIC:                             737.3\n",
       "Df Residuals:                     605   BIC:                             755.0\n",
       "Df Model:                           3                                         \n",
       "Covariance Type:            nonrobust                                         \n",
       "==============================================================================\n",
       "                 coef    std err          t      P>|t|      [0.025      0.975]\n",
       "------------------------------------------------------------------------------\n",
       "const          1.5570      0.216      7.205      0.000       1.133       1.981\n",
       "SATM           0.1727      0.032      5.410      0.000       0.110       0.235\n",
       "SATV           0.0142      0.028      0.507      0.612      -0.041       0.069\n",
       "FEM            0.2003      0.037      5.358      0.000       0.127       0.274\n",
       "==============================================================================\n",
       "Omnibus:                        7.757   Durbin-Watson:                   1.912\n",
       "Prob(Omnibus):                  0.021   Jarque-Bera (JB):                5.727\n",
       "Skew:                           0.118   Prob(JB):                       0.0571\n",
       "Kurtosis:                       2.588   Cond. No.                         103.\n",
       "==============================================================================\n",
       "\n",
       "Notes:\n",
       "[1] Standard Errors assume that the covariance matrix of the errors is correctly specified.\n",
       "\"\"\""
      ]
     },
     "execution_count": 9,
     "metadata": {},
     "output_type": "execute_result"
    }
   ],
   "source": [
    "ml_results.summary()"
   ]
  },
  {
   "cell_type": "code",
   "execution_count": 20,
   "metadata": {},
   "outputs": [
    {
     "data": {
      "text/plain": [
       "0.25719387755102036"
      ]
     },
     "execution_count": 20,
     "metadata": {},
     "output_type": "execute_result"
    }
   ],
   "source": []
  },
  {
   "cell_type": "code",
   "execution_count": 10,
   "metadata": {},
   "outputs": [],
   "source": [
    "col_i = 2\n",
    "m = ml_results.params[col_i]\n",
    "pvalue = ml_results.pvalues[col_i]\n",
    "confidence_interval = list(ml_results.conf_int(alpha=0.05).iloc[col_i, :])\n"
   ]
  },
  {
   "cell_type": "markdown",
   "metadata": {},
   "source": [
    "## Answer b"
   ]
  },
  {
   "cell_type": "code",
   "execution_count": 11,
   "metadata": {},
   "outputs": [
    {
     "name": "stdout",
     "output_type": "stream",
     "text": [
      "Answer of question a:\n",
      "The coefficient of SATV is 0.014\n",
      "The standard error is 0.028\n",
      "The p-value is 0.612\n",
      "Confidence interval for the effect on FGPA of an increase by 1 point in SATV is [-0.040683678193648265, 0.06900747127434032]\n"
     ]
    }
   ],
   "source": [
    "print('Answer of question a:')\n",
    "print( f'The coefficient of SATV is {round(m, 3)}')\n",
    "print( f'The standard error is {round(se, 3)}')\n",
    "print( f'The p-value is {round(pvalue, 3)}')\n",
    "print( f'Confidence interval for the effect on FGPA of an increase by 1 point in SATV is {confidence_interval}')"
   ]
  },
  {
   "cell_type": "markdown",
   "metadata": {},
   "source": [
    "## Question C"
   ]
  },
  {
   "cell_type": "code",
   "execution_count": 12,
   "metadata": {},
   "outputs": [
    {
     "data": {
      "text/html": [
       "<div>\n",
       "<style scoped>\n",
       "    .dataframe tbody tr th:only-of-type {\n",
       "        vertical-align: middle;\n",
       "    }\n",
       "\n",
       "    .dataframe tbody tr th {\n",
       "        vertical-align: top;\n",
       "    }\n",
       "\n",
       "    .dataframe thead th {\n",
       "        text-align: right;\n",
       "    }\n",
       "</style>\n",
       "<table border=\"1\" class=\"dataframe\">\n",
       "  <thead>\n",
       "    <tr style=\"text-align: right;\">\n",
       "      <th></th>\n",
       "      <th>const</th>\n",
       "      <th>SATM</th>\n",
       "      <th>SATV</th>\n",
       "      <th>FEM</th>\n",
       "    </tr>\n",
       "  </thead>\n",
       "  <tbody>\n",
       "    <tr>\n",
       "      <th>const</th>\n",
       "      <td>0.046697</td>\n",
       "      <td>-0.004977</td>\n",
       "      <td>-0.002649</td>\n",
       "      <td>-0.001390</td>\n",
       "    </tr>\n",
       "    <tr>\n",
       "      <th>SATM</th>\n",
       "      <td>-0.004977</td>\n",
       "      <td>0.001019</td>\n",
       "      <td>-0.000265</td>\n",
       "      <td>0.000215</td>\n",
       "    </tr>\n",
       "    <tr>\n",
       "      <th>SATV</th>\n",
       "      <td>-0.002649</td>\n",
       "      <td>-0.000265</td>\n",
       "      <td>0.000780</td>\n",
       "      <td>-0.000089</td>\n",
       "    </tr>\n",
       "    <tr>\n",
       "      <th>FEM</th>\n",
       "      <td>-0.001390</td>\n",
       "      <td>0.000215</td>\n",
       "      <td>-0.000089</td>\n",
       "      <td>0.001397</td>\n",
       "    </tr>\n",
       "  </tbody>\n",
       "</table>\n",
       "</div>"
      ],
      "text/plain": [
       "          const      SATM      SATV       FEM\n",
       "const  0.046697 -0.004977 -0.002649 -0.001390\n",
       "SATM  -0.004977  0.001019 -0.000265  0.000215\n",
       "SATV  -0.002649 -0.000265  0.000780 -0.000089\n",
       "FEM   -0.001390  0.000215 -0.000089  0.001397"
      ]
     },
     "execution_count": 12,
     "metadata": {},
     "output_type": "execute_result"
    }
   ],
   "source": [
    "cov_matrix = ml_results.cov_params()\n",
    "cov_matrix"
   ]
  },
  {
   "cell_type": "code",
   "execution_count": 13,
   "metadata": {},
   "outputs": [
    {
     "data": {
      "text/html": [
       "<div>\n",
       "<style scoped>\n",
       "    .dataframe tbody tr th:only-of-type {\n",
       "        vertical-align: middle;\n",
       "    }\n",
       "\n",
       "    .dataframe tbody tr th {\n",
       "        vertical-align: top;\n",
       "    }\n",
       "\n",
       "    .dataframe thead th {\n",
       "        text-align: right;\n",
       "    }\n",
       "</style>\n",
       "<table border=\"1\" class=\"dataframe\">\n",
       "  <thead>\n",
       "    <tr style=\"text-align: right;\">\n",
       "      <th></th>\n",
       "      <th>FGPA</th>\n",
       "      <th>SATM</th>\n",
       "      <th>SATV</th>\n",
       "      <th>FEM</th>\n",
       "    </tr>\n",
       "  </thead>\n",
       "  <tbody>\n",
       "    <tr>\n",
       "      <th>FGPA</th>\n",
       "      <td>1.000000</td>\n",
       "      <td>0.195040</td>\n",
       "      <td>0.092167</td>\n",
       "      <td>0.176491</td>\n",
       "    </tr>\n",
       "    <tr>\n",
       "      <th>SATM</th>\n",
       "      <td>0.195040</td>\n",
       "      <td>1.000000</td>\n",
       "      <td>0.287801</td>\n",
       "      <td>-0.162680</td>\n",
       "    </tr>\n",
       "    <tr>\n",
       "      <th>SATV</th>\n",
       "      <td>0.092167</td>\n",
       "      <td>0.287801</td>\n",
       "      <td>1.000000</td>\n",
       "      <td>0.033577</td>\n",
       "    </tr>\n",
       "    <tr>\n",
       "      <th>FEM</th>\n",
       "      <td>0.176491</td>\n",
       "      <td>-0.162680</td>\n",
       "      <td>0.033577</td>\n",
       "      <td>1.000000</td>\n",
       "    </tr>\n",
       "  </tbody>\n",
       "</table>\n",
       "</div>"
      ],
      "text/plain": [
       "          FGPA      SATM      SATV       FEM\n",
       "FGPA  1.000000  0.195040  0.092167  0.176491\n",
       "SATM  0.195040  1.000000  0.287801 -0.162680\n",
       "SATV  0.092167  0.287801  1.000000  0.033577\n",
       "FEM   0.176491 -0.162680  0.033577  1.000000"
      ]
     },
     "execution_count": 13,
     "metadata": {},
     "output_type": "execute_result"
    }
   ],
   "source": [
    "GPA = data[['FGPA', 'SATM', 'SATV', 'FEM']]\n",
    "GPA.corr()"
   ]
  },
  {
   "cell_type": "markdown",
   "metadata": {},
   "source": [
    "## Answer C\n",
    "\n",
    "1. The total effect SATV is signifgicant, as p-value = 0.028; however, the partial effect of SATV is not significant in the multiple regression model.\n",
    "2. The correlation between SATV and SATM reduces the effectness of SATV. The effect of SATM can be absorted by SATV. We can exclude SATM from the model.\n",
    "3. FEM and SATV dont have significant correlation, so gender can be kept in the model."
   ]
  },
  {
   "cell_type": "markdown",
   "metadata": {},
   "source": [
    "## Question D"
   ]
  },
  {
   "cell_type": "code",
   "execution_count": 14,
   "metadata": {},
   "outputs": [
    {
     "data": {
      "text/html": [
       "<table class=\"simpletable\">\n",
       "<caption>OLS Regression Results</caption>\n",
       "<tr>\n",
       "  <th>Dep. Variable:</th>          <td>FGPA</td>       <th>  R-squared:         </th> <td>   0.083</td>\n",
       "</tr>\n",
       "<tr>\n",
       "  <th>Model:</th>                   <td>OLS</td>       <th>  Adj. R-squared:    </th> <td>   0.080</td>\n",
       "</tr>\n",
       "<tr>\n",
       "  <th>Method:</th>             <td>Least Squares</td>  <th>  F-statistic:       </th> <td>   27.27</td>\n",
       "</tr>\n",
       "<tr>\n",
       "  <th>Date:</th>             <td>Sun, 13 Aug 2023</td> <th>  Prob (F-statistic):</th> <td>4.56e-12</td>\n",
       "</tr>\n",
       "<tr>\n",
       "  <th>Time:</th>                 <td>17:59:53</td>     <th>  Log-Likelihood:    </th> <td> -364.80</td>\n",
       "</tr>\n",
       "<tr>\n",
       "  <th>No. Observations:</th>      <td>   609</td>      <th>  AIC:               </th> <td>   735.6</td>\n",
       "</tr>\n",
       "<tr>\n",
       "  <th>Df Residuals:</th>          <td>   606</td>      <th>  BIC:               </th> <td>   748.8</td>\n",
       "</tr>\n",
       "<tr>\n",
       "  <th>Df Model:</th>              <td>     2</td>      <th>                     </th>     <td> </td>   \n",
       "</tr>\n",
       "<tr>\n",
       "  <th>Covariance Type:</th>      <td>nonrobust</td>    <th>                     </th>     <td> </td>   \n",
       "</tr>\n",
       "</table>\n",
       "<table class=\"simpletable\">\n",
       "<tr>\n",
       "    <td></td>       <th>coef</th>     <th>std err</th>      <th>t</th>      <th>P>|t|</th>  <th>[0.025</th>    <th>0.975]</th>  \n",
       "</tr>\n",
       "<tr>\n",
       "  <th>const</th> <td>    1.6051</td> <td>    0.194</td> <td>    8.272</td> <td> 0.000</td> <td>    1.224</td> <td>    1.986</td>\n",
       "</tr>\n",
       "<tr>\n",
       "  <th>SATM</th>  <td>    0.1776</td> <td>    0.030</td> <td>    5.828</td> <td> 0.000</td> <td>    0.118</td> <td>    0.237</td>\n",
       "</tr>\n",
       "<tr>\n",
       "  <th>FEM</th>   <td>    0.2019</td> <td>    0.037</td> <td>    5.424</td> <td> 0.000</td> <td>    0.129</td> <td>    0.275</td>\n",
       "</tr>\n",
       "</table>\n",
       "<table class=\"simpletable\">\n",
       "<tr>\n",
       "  <th>Omnibus:</th>       <td> 8.121</td> <th>  Durbin-Watson:     </th> <td>   1.909</td>\n",
       "</tr>\n",
       "<tr>\n",
       "  <th>Prob(Omnibus):</th> <td> 0.017</td> <th>  Jarque-Bera (JB):  </th> <td>   5.977</td>\n",
       "</tr>\n",
       "<tr>\n",
       "  <th>Skew:</th>          <td> 0.124</td> <th>  Prob(JB):          </th> <td>  0.0504</td>\n",
       "</tr>\n",
       "<tr>\n",
       "  <th>Kurtosis:</th>      <td> 2.582</td> <th>  Cond. No.          </th> <td>    70.0</td>\n",
       "</tr>\n",
       "</table><br/><br/>Notes:<br/>[1] Standard Errors assume that the covariance matrix of the errors is correctly specified."
      ],
      "text/plain": [
       "<class 'statsmodels.iolib.summary.Summary'>\n",
       "\"\"\"\n",
       "                            OLS Regression Results                            \n",
       "==============================================================================\n",
       "Dep. Variable:                   FGPA   R-squared:                       0.083\n",
       "Model:                            OLS   Adj. R-squared:                  0.080\n",
       "Method:                 Least Squares   F-statistic:                     27.27\n",
       "Date:                Sun, 13 Aug 2023   Prob (F-statistic):           4.56e-12\n",
       "Time:                        17:59:53   Log-Likelihood:                -364.80\n",
       "No. Observations:                 609   AIC:                             735.6\n",
       "Df Residuals:                     606   BIC:                             748.8\n",
       "Df Model:                           2                                         \n",
       "Covariance Type:            nonrobust                                         \n",
       "==============================================================================\n",
       "                 coef    std err          t      P>|t|      [0.025      0.975]\n",
       "------------------------------------------------------------------------------\n",
       "const          1.6051      0.194      8.272      0.000       1.224       1.986\n",
       "SATM           0.1776      0.030      5.828      0.000       0.118       0.237\n",
       "FEM            0.2019      0.037      5.424      0.000       0.129       0.275\n",
       "==============================================================================\n",
       "Omnibus:                        8.121   Durbin-Watson:                   1.909\n",
       "Prob(Omnibus):                  0.017   Jarque-Bera (JB):                5.977\n",
       "Skew:                           0.124   Prob(JB):                       0.0504\n",
       "Kurtosis:                       2.582   Cond. No.                         70.0\n",
       "==============================================================================\n",
       "\n",
       "Notes:\n",
       "[1] Standard Errors assume that the covariance matrix of the errors is correctly specified.\n",
       "\"\"\""
      ]
     },
     "execution_count": 14,
     "metadata": {},
     "output_type": "execute_result"
    }
   ],
   "source": [
    "X = data[['SATM', 'FEM']]\n",
    "X = sm.add_constant(X)\n",
    "y = data['FGPA']\n",
    "\n",
    "restricted_results = sm.OLS(y, X).fit()\n",
    "restricted_results.summary()"
   ]
  },
  {
   "cell_type": "code",
   "execution_count": 17,
   "metadata": {},
   "outputs": [],
   "source": [
    "R0_2 = restricted_results.rsquared\n",
    "R1_2 = ml_results.rsquared\n",
    "k = 4\n",
    "degreef_model = len(y) - 4\n",
    "g = 1\n",
    "F = (R1_2 - R0_2)*degreef_model/(1-R1_2)/g \n",
    "tvalues_SATV = ml_results.tvalues[2]\n",
    "t_square = tvalues_SATV**2\n",
    "isEqual = round(t_square, 3) == round(F, 3)"
   ]
  },
  {
   "cell_type": "code",
   "execution_count": 21,
   "metadata": {},
   "outputs": [],
   "source": [
    "# Another way of calculating t - value for b_j\n",
    "# t_j = b_j/bj_standard_error"
   ]
  },
  {
   "cell_type": "markdown",
   "metadata": {},
   "source": [
    "## Answer D"
   ]
  },
  {
   "cell_type": "code",
   "execution_count": 18,
   "metadata": {},
   "outputs": [
    {
     "name": "stdout",
     "output_type": "stream",
     "text": [
      "F statistic rounded to 3 decimals is: 0.257 < 3.9, so null hypothesis is not rejected.\n",
      "t square rounded to 3 decimals is: 0.257\n",
      "Therefore F = t_square.\n"
     ]
    }
   ],
   "source": [
    "\n",
    "print(f'F statistic rounded to 3 decimals is: {round(F,3)} < 3.9, so null hypothesis is not rejected.')\n",
    "print(f't square rounded to 3 decimals is: {round(t_square,3)}')\n",
    "print('Therefore F = t_square.')"
   ]
  },
  {
   "cell_type": "markdown",
   "metadata": {},
   "source": []
  }
 ],
 "metadata": {
  "kernelspec": {
   "display_name": "fin_py10",
   "language": "python",
   "name": "python3"
  },
  "language_info": {
   "codemirror_mode": {
    "name": "ipython",
    "version": 3
   },
   "file_extension": ".py",
   "mimetype": "text/x-python",
   "name": "python",
   "nbconvert_exporter": "python",
   "pygments_lexer": "ipython3",
   "version": "3.11.3"
  },
  "orig_nbformat": 4
 },
 "nbformat": 4,
 "nbformat_minor": 2
}
